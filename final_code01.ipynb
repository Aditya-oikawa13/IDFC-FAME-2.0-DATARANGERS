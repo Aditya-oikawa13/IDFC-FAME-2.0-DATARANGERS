{
 "cells": [
  {
   "cell_type": "markdown",
   "metadata": {},
   "source": [
    "<h1 style=\"text-align:center;\">IDFC FAME 2.0 ROUND 2 CODES</h1>\n"
   ]
  },
  {
   "cell_type": "markdown",
   "metadata": {},
   "source": [
    "<h2 style=\"text-align:center;\">Exploratory Data Analysis</h2>\n"
   ]
  },
  {
   "cell_type": "code",
   "execution_count": 1,
   "metadata": {},
   "outputs": [],
   "source": [
    "import pandas as pd\n",
    "import numpy as np\n",
    "import matplotlib.pyplot as plt\n",
    "import seaborn as sns\n",
    "\n",
    "from sklearn.model_selection import StratifiedKFold\n",
    "from sklearn.preprocessing import MinMaxScaler\n",
    "from sklearn.linear_model import LogisticRegression\n",
    "from sklearn.neighbors import KNeighborsClassifier\n",
    "\n",
    "from sklearn.preprocessing import StandardScaler\n",
    "from sklearn.model_selection import train_test_split\n",
    "from sklearn.metrics import accuracy_score, confusion_matrix, classification_report, roc_auc_score\n",
    "\n",
    "import warnings\n",
    "warnings.filterwarnings(action = 'ignore')"
   ]
  },
  {
   "cell_type": "code",
   "execution_count": 2,
   "metadata": {},
   "outputs": [],
   "source": [
    "df = pd.read_csv('Training data file.csv', index_col='Customer_No')\n",
    "df_test = pd.read_csv('Validation Data file.csv', index_col='Customer_No')\n",
    "df1 = df.copy()\n",
    "col = df.columns"
   ]
  },
  {
   "cell_type": "code",
   "execution_count": 3,
   "metadata": {},
   "outputs": [
    {
     "data": {
      "text/html": [
       "<div>\n",
       "<style scoped>\n",
       "    .dataframe tbody tr th:only-of-type {\n",
       "        vertical-align: middle;\n",
       "    }\n",
       "\n",
       "    .dataframe tbody tr th {\n",
       "        vertical-align: top;\n",
       "    }\n",
       "\n",
       "    .dataframe thead th {\n",
       "        text-align: right;\n",
       "    }\n",
       "</style>\n",
       "<table border=\"1\" class=\"dataframe\">\n",
       "  <thead>\n",
       "    <tr style=\"text-align: right;\">\n",
       "      <th></th>\n",
       "      <th>N_Default_L3m</th>\n",
       "      <th>Branch_Code</th>\n",
       "      <th>Max_Utilization</th>\n",
       "      <th>Max_Perc_Def_Chg_Pending</th>\n",
       "      <th>N_Family_Member</th>\n",
       "      <th>Max_Ratio_OC_Pending_POS</th>\n",
       "      <th>N_PosBkt_L3m</th>\n",
       "      <th>CoAp_Income</th>\n",
       "      <th>Ever_Default_L12M</th>\n",
       "      <th>Perc_Paymode_Online</th>\n",
       "      <th>...</th>\n",
       "      <th>Birth_Year</th>\n",
       "      <th>Max_DPD_L3m</th>\n",
       "      <th>Perc_Paymode_Cheq_Fail</th>\n",
       "      <th>Age</th>\n",
       "      <th>Total_Field_Trails</th>\n",
       "      <th>Total_Resolved</th>\n",
       "      <th>N_Enq_L9m</th>\n",
       "      <th>Max_Loan_Balance_Others</th>\n",
       "      <th>N_WorkEx_Yr</th>\n",
       "      <th>Target_Flag</th>\n",
       "    </tr>\n",
       "    <tr>\n",
       "      <th>Customer_No</th>\n",
       "      <th></th>\n",
       "      <th></th>\n",
       "      <th></th>\n",
       "      <th></th>\n",
       "      <th></th>\n",
       "      <th></th>\n",
       "      <th></th>\n",
       "      <th></th>\n",
       "      <th></th>\n",
       "      <th></th>\n",
       "      <th></th>\n",
       "      <th></th>\n",
       "      <th></th>\n",
       "      <th></th>\n",
       "      <th></th>\n",
       "      <th></th>\n",
       "      <th></th>\n",
       "      <th></th>\n",
       "      <th></th>\n",
       "      <th></th>\n",
       "      <th></th>\n",
       "    </tr>\n",
       "  </thead>\n",
       "  <tbody>\n",
       "    <tr>\n",
       "      <th>1</th>\n",
       "      <td>3</td>\n",
       "      <td>61749</td>\n",
       "      <td>38</td>\n",
       "      <td>100.0</td>\n",
       "      <td>5</td>\n",
       "      <td>NaN</td>\n",
       "      <td>0.0</td>\n",
       "      <td>NaN</td>\n",
       "      <td>Yes</td>\n",
       "      <td>0.285714</td>\n",
       "      <td>...</td>\n",
       "      <td>1977</td>\n",
       "      <td>19.0</td>\n",
       "      <td>0.750</td>\n",
       "      <td>46</td>\n",
       "      <td>NaN</td>\n",
       "      <td>NaN</td>\n",
       "      <td>0</td>\n",
       "      <td>5527.0</td>\n",
       "      <td>15</td>\n",
       "      <td>0</td>\n",
       "    </tr>\n",
       "    <tr>\n",
       "      <th>2</th>\n",
       "      <td>1</td>\n",
       "      <td>30831</td>\n",
       "      <td>68</td>\n",
       "      <td>100.0</td>\n",
       "      <td>1</td>\n",
       "      <td>NaN</td>\n",
       "      <td>0.0</td>\n",
       "      <td>NaN</td>\n",
       "      <td>Yes</td>\n",
       "      <td>0.000000</td>\n",
       "      <td>...</td>\n",
       "      <td>1990</td>\n",
       "      <td>2.0</td>\n",
       "      <td>0.500</td>\n",
       "      <td>33</td>\n",
       "      <td>NaN</td>\n",
       "      <td>NaN</td>\n",
       "      <td>0</td>\n",
       "      <td>12104.0</td>\n",
       "      <td>2</td>\n",
       "      <td>0</td>\n",
       "    </tr>\n",
       "    <tr>\n",
       "      <th>3</th>\n",
       "      <td>1</td>\n",
       "      <td>56708</td>\n",
       "      <td>39</td>\n",
       "      <td>50.0</td>\n",
       "      <td>-3</td>\n",
       "      <td>NaN</td>\n",
       "      <td>0.0</td>\n",
       "      <td>NaN</td>\n",
       "      <td>Yes</td>\n",
       "      <td>0.200000</td>\n",
       "      <td>...</td>\n",
       "      <td>1995</td>\n",
       "      <td>25.0</td>\n",
       "      <td>1.000</td>\n",
       "      <td>28</td>\n",
       "      <td>NaN</td>\n",
       "      <td>0.0</td>\n",
       "      <td>1</td>\n",
       "      <td>153179.0</td>\n",
       "      <td>8</td>\n",
       "      <td>0</td>\n",
       "    </tr>\n",
       "    <tr>\n",
       "      <th>4</th>\n",
       "      <td>0</td>\n",
       "      <td>43551</td>\n",
       "      <td>76</td>\n",
       "      <td>NaN</td>\n",
       "      <td>0</td>\n",
       "      <td>NaN</td>\n",
       "      <td>0.0</td>\n",
       "      <td>NaN</td>\n",
       "      <td>No</td>\n",
       "      <td>0.000000</td>\n",
       "      <td>...</td>\n",
       "      <td>1997</td>\n",
       "      <td>0.0</td>\n",
       "      <td>NaN</td>\n",
       "      <td>26</td>\n",
       "      <td>NaN</td>\n",
       "      <td>NaN</td>\n",
       "      <td>2</td>\n",
       "      <td>181589.0</td>\n",
       "      <td>6</td>\n",
       "      <td>0</td>\n",
       "    </tr>\n",
       "    <tr>\n",
       "      <th>5</th>\n",
       "      <td>3</td>\n",
       "      <td>15287</td>\n",
       "      <td>23</td>\n",
       "      <td>33.0</td>\n",
       "      <td>11</td>\n",
       "      <td>NaN</td>\n",
       "      <td>0.0</td>\n",
       "      <td>NaN</td>\n",
       "      <td>Yes</td>\n",
       "      <td>0.250000</td>\n",
       "      <td>...</td>\n",
       "      <td>1995</td>\n",
       "      <td>19.0</td>\n",
       "      <td>0.375</td>\n",
       "      <td>28</td>\n",
       "      <td>NaN</td>\n",
       "      <td>NaN</td>\n",
       "      <td>1</td>\n",
       "      <td>10661.0</td>\n",
       "      <td>8</td>\n",
       "      <td>0</td>\n",
       "    </tr>\n",
       "  </tbody>\n",
       "</table>\n",
       "<p>5 rows × 21 columns</p>\n",
       "</div>"
      ],
      "text/plain": [
       "             N_Default_L3m  Branch_Code  Max_Utilization  \\\n",
       "Customer_No                                                \n",
       "1                        3        61749               38   \n",
       "2                        1        30831               68   \n",
       "3                        1        56708               39   \n",
       "4                        0        43551               76   \n",
       "5                        3        15287               23   \n",
       "\n",
       "             Max_Perc_Def_Chg_Pending  N_Family_Member  \\\n",
       "Customer_No                                              \n",
       "1                               100.0                5   \n",
       "2                               100.0                1   \n",
       "3                                50.0               -3   \n",
       "4                                 NaN                0   \n",
       "5                                33.0               11   \n",
       "\n",
       "             Max_Ratio_OC_Pending_POS  N_PosBkt_L3m  CoAp_Income  \\\n",
       "Customer_No                                                        \n",
       "1                                 NaN           0.0          NaN   \n",
       "2                                 NaN           0.0          NaN   \n",
       "3                                 NaN           0.0          NaN   \n",
       "4                                 NaN           0.0          NaN   \n",
       "5                                 NaN           0.0          NaN   \n",
       "\n",
       "            Ever_Default_L12M  Perc_Paymode_Online  ...  Birth_Year  \\\n",
       "Customer_No                                         ...               \n",
       "1                         Yes             0.285714  ...        1977   \n",
       "2                         Yes             0.000000  ...        1990   \n",
       "3                         Yes             0.200000  ...        1995   \n",
       "4                          No             0.000000  ...        1997   \n",
       "5                         Yes             0.250000  ...        1995   \n",
       "\n",
       "             Max_DPD_L3m  Perc_Paymode_Cheq_Fail  Age  Total_Field_Trails  \\\n",
       "Customer_No                                                                 \n",
       "1                   19.0                   0.750   46                 NaN   \n",
       "2                    2.0                   0.500   33                 NaN   \n",
       "3                   25.0                   1.000   28                 NaN   \n",
       "4                    0.0                     NaN   26                 NaN   \n",
       "5                   19.0                   0.375   28                 NaN   \n",
       "\n",
       "             Total_Resolved  N_Enq_L9m  Max_Loan_Balance_Others  N_WorkEx_Yr  \\\n",
       "Customer_No                                                                    \n",
       "1                       NaN          0                   5527.0           15   \n",
       "2                       NaN          0                  12104.0            2   \n",
       "3                       0.0          1                 153179.0            8   \n",
       "4                       NaN          2                 181589.0            6   \n",
       "5                       NaN          1                  10661.0            8   \n",
       "\n",
       "             Target_Flag  \n",
       "Customer_No               \n",
       "1                      0  \n",
       "2                      0  \n",
       "3                      0  \n",
       "4                      0  \n",
       "5                      0  \n",
       "\n",
       "[5 rows x 21 columns]"
      ]
     },
     "execution_count": 3,
     "metadata": {},
     "output_type": "execute_result"
    }
   ],
   "source": [
    "df.head()"
   ]
  },
  {
   "cell_type": "markdown",
   "metadata": {},
   "source": [
    "Function for Missing values in each column"
   ]
  },
  {
   "cell_type": "code",
   "execution_count": 4,
   "metadata": {},
   "outputs": [],
   "source": [
    "def missingdata_percentage(df, per=0):\n",
    "    missing = pd.DataFrame(columns=['category','percentage'])\n",
    "    for col in df.columns:\n",
    "        if df[col].isna().values.any():\n",
    "            count = df[col].isna().sum()\n",
    "            percentage = 100*df[col].isna().sum()/df.shape[0]\n",
    "            if percentage>=per:\n",
    "              missing = missing.append({'category' : col, 'percentage' : percentage, 'count' : int(count)}, ignore_index=True)\n",
    "    missing.sort_values(by=['percentage'], inplace=True, ascending=False)\n",
    "    return missing"
   ]
  },
  {
   "cell_type": "code",
   "execution_count": 5,
   "metadata": {},
   "outputs": [
    {
     "data": {
      "text/html": [
       "<div>\n",
       "<style scoped>\n",
       "    .dataframe tbody tr th:only-of-type {\n",
       "        vertical-align: middle;\n",
       "    }\n",
       "\n",
       "    .dataframe tbody tr th {\n",
       "        vertical-align: top;\n",
       "    }\n",
       "\n",
       "    .dataframe thead th {\n",
       "        text-align: right;\n",
       "    }\n",
       "</style>\n",
       "<table border=\"1\" class=\"dataframe\">\n",
       "  <thead>\n",
       "    <tr style=\"text-align: right;\">\n",
       "      <th></th>\n",
       "      <th>category</th>\n",
       "      <th>percentage</th>\n",
       "      <th>count</th>\n",
       "    </tr>\n",
       "  </thead>\n",
       "  <tbody>\n",
       "    <tr>\n",
       "      <th>3</th>\n",
       "      <td>CoAp_Income</td>\n",
       "      <td>94.931879</td>\n",
       "      <td>77135.0</td>\n",
       "    </tr>\n",
       "    <tr>\n",
       "      <th>1</th>\n",
       "      <td>Max_Ratio_OC_Pending_POS</td>\n",
       "      <td>89.407160</td>\n",
       "      <td>72646.0</td>\n",
       "    </tr>\n",
       "    <tr>\n",
       "      <th>6</th>\n",
       "      <td>Total_Field_Trails</td>\n",
       "      <td>67.335360</td>\n",
       "      <td>54712.0</td>\n",
       "    </tr>\n",
       "    <tr>\n",
       "      <th>7</th>\n",
       "      <td>Total_Resolved</td>\n",
       "      <td>61.911560</td>\n",
       "      <td>50305.0</td>\n",
       "    </tr>\n",
       "    <tr>\n",
       "      <th>5</th>\n",
       "      <td>Perc_Paymode_Cheq_Fail</td>\n",
       "      <td>28.893702</td>\n",
       "      <td>23477.0</td>\n",
       "    </tr>\n",
       "    <tr>\n",
       "      <th>0</th>\n",
       "      <td>Max_Perc_Def_Chg_Pending</td>\n",
       "      <td>25.941196</td>\n",
       "      <td>21078.0</td>\n",
       "    </tr>\n",
       "    <tr>\n",
       "      <th>2</th>\n",
       "      <td>N_PosBkt_L3m</td>\n",
       "      <td>6.569604</td>\n",
       "      <td>5338.0</td>\n",
       "    </tr>\n",
       "    <tr>\n",
       "      <th>8</th>\n",
       "      <td>Max_Loan_Balance_Others</td>\n",
       "      <td>0.419677</td>\n",
       "      <td>341.0</td>\n",
       "    </tr>\n",
       "    <tr>\n",
       "      <th>4</th>\n",
       "      <td>Max_DPD_L3m</td>\n",
       "      <td>0.299066</td>\n",
       "      <td>243.0</td>\n",
       "    </tr>\n",
       "  </tbody>\n",
       "</table>\n",
       "</div>"
      ],
      "text/plain": [
       "                   category  percentage    count\n",
       "3               CoAp_Income   94.931879  77135.0\n",
       "1  Max_Ratio_OC_Pending_POS   89.407160  72646.0\n",
       "6        Total_Field_Trails   67.335360  54712.0\n",
       "7            Total_Resolved   61.911560  50305.0\n",
       "5    Perc_Paymode_Cheq_Fail   28.893702  23477.0\n",
       "0  Max_Perc_Def_Chg_Pending   25.941196  21078.0\n",
       "2              N_PosBkt_L3m    6.569604   5338.0\n",
       "8   Max_Loan_Balance_Others    0.419677    341.0\n",
       "4               Max_DPD_L3m    0.299066    243.0"
      ]
     },
     "execution_count": 5,
     "metadata": {},
     "output_type": "execute_result"
    }
   ],
   "source": [
    "train_data_Miss = missingdata_percentage(df)\n",
    "train_data_Miss"
   ]
  },
  {
   "cell_type": "code",
   "execution_count": 115,
   "metadata": {},
   "outputs": [
    {
     "data": {
      "text/html": [
       "<div>\n",
       "<style scoped>\n",
       "    .dataframe tbody tr th:only-of-type {\n",
       "        vertical-align: middle;\n",
       "    }\n",
       "\n",
       "    .dataframe tbody tr th {\n",
       "        vertical-align: top;\n",
       "    }\n",
       "\n",
       "    .dataframe thead th {\n",
       "        text-align: right;\n",
       "    }\n",
       "</style>\n",
       "<table border=\"1\" class=\"dataframe\">\n",
       "  <thead>\n",
       "    <tr style=\"text-align: right;\">\n",
       "      <th></th>\n",
       "      <th>category</th>\n",
       "      <th>percentage</th>\n",
       "      <th>count</th>\n",
       "    </tr>\n",
       "  </thead>\n",
       "  <tbody>\n",
       "    <tr>\n",
       "      <th>3</th>\n",
       "      <td>CoAp_Income</td>\n",
       "      <td>95.060045</td>\n",
       "      <td>28576.0</td>\n",
       "    </tr>\n",
       "    <tr>\n",
       "      <th>1</th>\n",
       "      <td>Max_Ratio_OC_Pending_POS</td>\n",
       "      <td>89.551246</td>\n",
       "      <td>26920.0</td>\n",
       "    </tr>\n",
       "    <tr>\n",
       "      <th>6</th>\n",
       "      <td>Total_Field_Trails</td>\n",
       "      <td>67.619174</td>\n",
       "      <td>20327.0</td>\n",
       "    </tr>\n",
       "    <tr>\n",
       "      <th>7</th>\n",
       "      <td>Total_Resolved</td>\n",
       "      <td>62.117029</td>\n",
       "      <td>18673.0</td>\n",
       "    </tr>\n",
       "    <tr>\n",
       "      <th>5</th>\n",
       "      <td>Perc_Paymode_Cheq_Fail</td>\n",
       "      <td>28.638435</td>\n",
       "      <td>8609.0</td>\n",
       "    </tr>\n",
       "    <tr>\n",
       "      <th>0</th>\n",
       "      <td>Max_Perc_Def_Chg_Pending</td>\n",
       "      <td>24.513489</td>\n",
       "      <td>7369.0</td>\n",
       "    </tr>\n",
       "    <tr>\n",
       "      <th>2</th>\n",
       "      <td>N_PosBkt_L3m</td>\n",
       "      <td>6.157480</td>\n",
       "      <td>1851.0</td>\n",
       "    </tr>\n",
       "    <tr>\n",
       "      <th>4</th>\n",
       "      <td>Max_DPD_L3m</td>\n",
       "      <td>0.392535</td>\n",
       "      <td>118.0</td>\n",
       "    </tr>\n",
       "    <tr>\n",
       "      <th>8</th>\n",
       "      <td>Max_Loan_Balance_Others</td>\n",
       "      <td>0.372576</td>\n",
       "      <td>112.0</td>\n",
       "    </tr>\n",
       "  </tbody>\n",
       "</table>\n",
       "</div>"
      ],
      "text/plain": [
       "                   category  percentage    count\n",
       "3               CoAp_Income   95.060045  28576.0\n",
       "1  Max_Ratio_OC_Pending_POS   89.551246  26920.0\n",
       "6        Total_Field_Trails   67.619174  20327.0\n",
       "7            Total_Resolved   62.117029  18673.0\n",
       "5    Perc_Paymode_Cheq_Fail   28.638435   8609.0\n",
       "0  Max_Perc_Def_Chg_Pending   24.513489   7369.0\n",
       "2              N_PosBkt_L3m    6.157480   1851.0\n",
       "4               Max_DPD_L3m    0.392535    118.0\n",
       "8   Max_Loan_Balance_Others    0.372576    112.0"
      ]
     },
     "execution_count": 115,
     "metadata": {},
     "output_type": "execute_result"
    }
   ],
   "source": [
    "test_data_Miss = missingdata_percentage(df_test)\n",
    "test_data_Miss"
   ]
  },
  {
   "cell_type": "code",
   "execution_count": 116,
   "metadata": {},
   "outputs": [
    {
     "data": {
      "text/plain": [
       "0    71469\n",
       "1     9784\n",
       "Name: Target_Flag, dtype: int64"
      ]
     },
     "execution_count": 116,
     "metadata": {},
     "output_type": "execute_result"
    }
   ],
   "source": [
    "df['Target_Flag'].value_counts()"
   ]
  },
  {
   "cell_type": "markdown",
   "metadata": {},
   "source": [
    "### Let's start filling missing values in descending order."
   ]
  },
  {
   "cell_type": "markdown",
   "metadata": {},
   "source": [
    "### Handling \"CoAp_Income\"\n",
    "* Upon closer inspection \"CoAp_Income\"(income of co-applicant) column looks like a optional entry and hence so many missing values. 95% of them are missing values so they won't add any value to the data hence we can drop this column.\n",
    "\n",
    "\n"
   ]
  },
  {
   "cell_type": "markdown",
   "metadata": {},
   "source": [
    "### Handling \"Max_Ratio_OC_Pending_POS\""
   ]
  },
  {
   "cell_type": "code",
   "execution_count": 117,
   "metadata": {},
   "outputs": [
    {
     "data": {
      "text/plain": [
       "249"
      ]
     },
     "execution_count": 117,
     "metadata": {},
     "output_type": "execute_result"
    }
   ],
   "source": [
    "count = df['Max_Ratio_OC_Pending_POS'].value_counts()[0]\n",
    "count"
   ]
  },
  {
   "cell_type": "markdown",
   "metadata": {},
   "source": [
    "* Next \"Max_Ratio_OC_Pending_POS\" column also have 90% of missing values, most of these values are between 0 and 1.<br>\n",
    " -->Although there are 249 0's in dataset so they might correspond to people who paid their overdue charges.<br>--> And remaining null values most likely means these people didn't had any overdue charges to begin with. <br>\n",
    " -->So its a good idea to assume these values to be zero.<br>\n",
    "-->But let's analyze further."
   ]
  },
  {
   "cell_type": "code",
   "execution_count": 118,
   "metadata": {},
   "outputs": [
    {
     "data": {
      "text/plain": [
       "0    195\n",
       "1     54\n",
       "Name: Target_Flag, dtype: int64"
      ]
     },
     "execution_count": 118,
     "metadata": {},
     "output_type": "execute_result"
    }
   ],
   "source": [
    "#Let's see distribution of target variable when Max_Ratio_OC_Pending_POS is 0.\n",
    "df['Target_Flag'][df['Max_Ratio_OC_Pending_POS'] == 0].value_counts()"
   ]
  },
  {
   "cell_type": "code",
   "execution_count": 119,
   "metadata": {},
   "outputs": [
    {
     "data": {
      "text/plain": [
       "0    65165\n",
       "1     7481\n",
       "Name: Target_Flag, dtype: int64"
      ]
     },
     "execution_count": 119,
     "metadata": {},
     "output_type": "execute_result"
    }
   ],
   "source": [
    "# 22% of them corresponds to default customer\n",
    "\n",
    "# Now lets see distribution of target when they are null.\n",
    "df['Target_Flag'][df['Max_Ratio_OC_Pending_POS'].isna()].value_counts()"
   ]
  },
  {
   "cell_type": "code",
   "execution_count": 120,
   "metadata": {},
   "outputs": [],
   "source": [
    "# 10% of missing values have defaulted customers.\n",
    "\n",
    "# Now lets see what percent of people have overdue charges pending and they defaulted.\n",
    "cnt_with_oc_and_default = df[(df['Max_Ratio_OC_Pending_POS'] > 0 ) & (df['Target_Flag']== 1)].shape[0]\n",
    "default_cnt = df[(df['Target_Flag']== 1)].shape[0]\n",
    "oc_more_than_zero = df[(df['Max_Ratio_OC_Pending_POS'] > 0)].shape[0]\n"
   ]
  },
  {
   "cell_type": "code",
   "execution_count": 121,
   "metadata": {},
   "outputs": [
    {
     "data": {
      "text/plain": [
       "(9784, 8358, 2249, 0.26908351280210574)"
      ]
     },
     "execution_count": 121,
     "metadata": {},
     "output_type": "execute_result"
    }
   ],
   "source": [
    "ratio_of_oc_and_default = (cnt_with_oc_and_default/oc_more_than_zero)\n",
    "default_cnt, oc_more_than_zero, cnt_with_oc_and_default, ratio_of_oc_and_default"
   ]
  },
  {
   "cell_type": "markdown",
   "metadata": {},
   "source": [
    "From above data we see that 27% of people who have overdue charges have defaulted, that means other 73% of people are not defaulters.<br>\n",
    "Also 0 doesn't necessarily confirms that person will not commit default. <br>\n",
    "Thus we know that we cannot replace null value with 0, instead we can change them to another categorical variable and work on that. "
   ]
  },
  {
   "cell_type": "markdown",
   "metadata": {},
   "source": [
    "#### Now lets examine null values of \"Total_field_trials\" and \"Total_resolved\""
   ]
  },
  {
   "cell_type": "code",
   "execution_count": 122,
   "metadata": {},
   "outputs": [
    {
     "data": {
      "text/plain": [
       "'def find_col_relation_with_target(df, col, value = 0):\\n    Valuecount_col_is_value = df[\\'Target_Flag\\'][df[col] == value].value_counts()\\n    Valuecount_col_is_null = df[\\'Target_Flag\\'][df[col].isna()].value_counts()\\n    null_without_default_last_12_month = df[col].isna()[df[\\'Ever_Default_L12M\\'] == \\'No\\'].sum()\\n    null_with_default_last_12_month = df[col].isna()[df[\\'Ever_Default_L12M\\'] == \\'Yes\\'].sum()\\n    null_without_default_last_3_month = df[col].isna()[df[\\'N_Default_L3m\\'] == \\'No\\'].sum()\\n    null_with_default_last_3_month = df[col].isna()[df[\\'N_Default_L3m\\'] == \\'Yes\\'].sum()\\n    print(\"vALUE COUNTS OF TARGET FLAGS WHEN COLUMN HAS VALUES:\", Valuecount_col_is_value)\\n    print(\"vALUE COUNTS OF TARGET FLAGS WHEN COLUMN HAS NULL VALUES:\", Valuecount_col_is_null)\\n    print(\"NULL VALUES DISTRIBUTION WITHOUT DEFAULT IN LAST \", null_without_default_last_12_month)\\n    print(\"vALUE COUNTS OF TARGET FLAGS WHEN COLUMN HAS VALUES:\", null_with_default_last_12_month)\\n    print(\"vALUE COUNTS OF TARGET FLAGS WHEN COLUMN HAS VALUES:\", null_without_default_last_3_month)\\n    print(\"vALUE COUNTS OF TARGET FLAGS WHEN COLUMN HAS VALUES:\", null_with_default_last_3_month)'"
      ]
     },
     "execution_count": 122,
     "metadata": {},
     "output_type": "execute_result"
    }
   ],
   "source": [
    "'''def find_col_relation_with_target(df, col, value = 0):\n",
    "    Valuecount_col_is_value = df['Target_Flag'][df[col] == value].value_counts()\n",
    "    Valuecount_col_is_null = df['Target_Flag'][df[col].isna()].value_counts()\n",
    "    null_without_default_last_12_month = df[col].isna()[df['Ever_Default_L12M'] == 'No'].sum()\n",
    "    null_with_default_last_12_month = df[col].isna()[df['Ever_Default_L12M'] == 'Yes'].sum()\n",
    "    null_without_default_last_3_month = df[col].isna()[df['N_Default_L3m'] == 'No'].sum()\n",
    "    null_with_default_last_3_month = df[col].isna()[df['N_Default_L3m'] == 'Yes'].sum()\n",
    "    print(\"vALUE COUNTS OF TARGET FLAGS WHEN COLUMN HAS VALUES:\", Valuecount_col_is_value)\n",
    "    print(\"vALUE COUNTS OF TARGET FLAGS WHEN COLUMN HAS NULL VALUES:\", Valuecount_col_is_null)\n",
    "    print(\"NULL VALUES DISTRIBUTION WITHOUT DEFAULT IN LAST \", null_without_default_last_12_month)\n",
    "    print(\"vALUE COUNTS OF TARGET FLAGS WHEN COLUMN HAS VALUES:\", null_with_default_last_12_month)\n",
    "    print(\"vALUE COUNTS OF TARGET FLAGS WHEN COLUMN HAS VALUES:\", null_without_default_last_3_month)\n",
    "    print(\"vALUE COUNTS OF TARGET FLAGS WHEN COLUMN HAS VALUES:\", null_with_default_last_3_month)'''"
   ]
  },
  {
   "cell_type": "code",
   "execution_count": 123,
   "metadata": {},
   "outputs": [
    {
     "data": {
      "text/plain": [
       "Index(['N_Default_L3m', 'Branch_Code', 'Max_Utilization',\n",
       "       'Max_Perc_Def_Chg_Pending', 'N_Family_Member',\n",
       "       'Max_Ratio_OC_Pending_POS', 'N_PosBkt_L3m', 'CoAp_Income',\n",
       "       'Ever_Default_L12M', 'Perc_Paymode_Online', 'Perc_Repay_Fail',\n",
       "       'Birth_Year', 'Max_DPD_L3m', 'Perc_Paymode_Cheq_Fail', 'Age',\n",
       "       'Total_Field_Trails', 'Total_Resolved', 'N_Enq_L9m',\n",
       "       'Max_Loan_Balance_Others', 'N_WorkEx_Yr', 'Target_Flag'],\n",
       "      dtype='object')"
      ]
     },
     "execution_count": 123,
     "metadata": {},
     "output_type": "execute_result"
    }
   ],
   "source": [
    "col = df.columns\n",
    "col"
   ]
  },
  {
   "cell_type": "code",
   "execution_count": 124,
   "metadata": {},
   "outputs": [
    {
     "data": {
      "text/plain": [
       "(54712, 50305)"
      ]
     },
     "execution_count": 124,
     "metadata": {},
     "output_type": "execute_result"
    }
   ],
   "source": [
    "#Count of null values:\n",
    "df['Total_Field_Trails'].isna().sum(), df['Total_Resolved'].isna().sum()"
   ]
  },
  {
   "cell_type": "code",
   "execution_count": 125,
   "metadata": {},
   "outputs": [
    {
     "data": {
      "text/plain": [
       "(0.0    18186\n",
       " 1.0     5993\n",
       " 2.0     1725\n",
       " 3.0      567\n",
       " 4.0       49\n",
       " 5.0       13\n",
       " 6.0        6\n",
       " 9.0        1\n",
       " 7.0        1\n",
       " Name: Total_Field_Trails, dtype: int64,\n",
       " 1.0    15255\n",
       " 2.0     7032\n",
       " 3.0     4881\n",
       " 0.0     3780\n",
       " Name: Total_Resolved, dtype: int64)"
      ]
     },
     "execution_count": 125,
     "metadata": {},
     "output_type": "execute_result"
    }
   ],
   "source": [
    "# Distribution of null values:\n",
    "df['Total_Field_Trails'].value_counts(), df['Total_Resolved'].value_counts()"
   ]
  },
  {
   "cell_type": "code",
   "execution_count": 126,
   "metadata": {},
   "outputs": [
    {
     "data": {
      "text/plain": [
       "50305"
      ]
     },
     "execution_count": 126,
     "metadata": {},
     "output_type": "execute_result"
    }
   ],
   "source": [
    "# Checking occurences of null values in both the fields simultaneously:\n",
    "checking_common_occurences = df[(df['Total_Field_Trails'].isna() ) & (df['Total_Resolved'].isna())].shape[0]\n",
    "checking_common_occurences"
   ]
  },
  {
   "cell_type": "markdown",
   "metadata": {},
   "source": [
    "* Now since there a lot of null values we can solve them using some common sense.\n",
    "* First if there are lots of null amount of \"Total_Field_Trails\" it strongly indicates 0 field visits.\n",
    "* Also above code shows that all the null values in \"Total_Resolved\" is when \"Total_Field_Trails\" is null as well.\n",
    "* But in \"Total_Resolved\" column it doesn't tells us if Customer was visited or not.\n",
    "* So we can take all the null value from total_resolved column as another value, let's say \"not_visited\"."
   ]
  },
  {
   "cell_type": "code",
   "execution_count": 127,
   "metadata": {},
   "outputs": [
    {
     "data": {
      "text/plain": [
       "0.17398498482556185"
      ]
     },
     "execution_count": 127,
     "metadata": {},
     "output_type": "execute_result"
    }
   ],
   "source": [
    "correlation = df['Total_Field_Trails'].corr(df['Total_Resolved'])\n",
    "correlation"
   ]
  },
  {
   "cell_type": "markdown",
   "metadata": {},
   "source": [
    "### Now lets look at the 'Perc_Paymode_Cheq_Fail' column."
   ]
  },
  {
   "cell_type": "code",
   "execution_count": 128,
   "metadata": {},
   "outputs": [
    {
     "data": {
      "text/plain": [
       "<Axes: >"
      ]
     },
     "execution_count": 128,
     "metadata": {},
     "output_type": "execute_result"
    },
    {
     "data": {
      "image/png": "[encoded data removed]",
      "text/plain": [
       "<Figure size 640x480 with 1 Axes>"
      ]
     },
     "metadata": {},
     "output_type": "display_data"
    }
   ],
   "source": [
    "def_chg_perc = df['Perc_Paymode_Cheq_Fail'].value_counts()[df['Perc_Paymode_Cheq_Fail'].value_counts() >= 0]\n",
    "def_chg_perc.plot(kind='bar')"
   ]
  },
  {
   "cell_type": "code",
   "execution_count": 129,
   "metadata": {},
   "outputs": [
    {
     "data": {
      "text/plain": [
       "710"
      ]
     },
     "execution_count": 129,
     "metadata": {},
     "output_type": "execute_result"
    }
   ],
   "source": [
    "df['Perc_Paymode_Cheq_Fail'].value_counts()[0.0]"
   ]
  },
  {
   "cell_type": "markdown",
   "metadata": {},
   "source": [
    "* We see that some of the values are 0 thus it means that customer with null values have never attempted to pay via cheque.\n",
    "\n",
    "Although there is ambiguity its safe to assume 0 inplace of null values."
   ]
  },
  {
   "cell_type": "markdown",
   "metadata": {},
   "source": [
    "---\n",
    "\n",
    "Now lets find some relation between Payment methods and payment failures."
   ]
  },
  {
   "cell_type": "markdown",
   "metadata": {},
   "source": [
    "Now lets explore \"Max_Perc_Def_Chg_Pending\" column:\n",
    "1. Firstly this column signifies the maximum percentage of default charges pending."
   ]
  },
  {
   "cell_type": "markdown",
   "metadata": {},
   "source": [
    "Number of null values:"
   ]
  },
  {
   "cell_type": "code",
   "execution_count": 130,
   "metadata": {},
   "outputs": [
    {
     "data": {
      "text/plain": [
       "21078"
      ]
     },
     "execution_count": 130,
     "metadata": {},
     "output_type": "execute_result"
    }
   ],
   "source": [
    "null_perc_def_chg = df['Max_Perc_Def_Chg_Pending'].isna().sum()\n",
    "null_perc_def_chg"
   ]
  },
  {
   "cell_type": "markdown",
   "metadata": {},
   "source": [
    "Null values may mean that person never had any default charge. So lets check amount of customer with default in past 12 months and Max_Perc_Def_Chg_Pending as null.\n"
   ]
  },
  {
   "cell_type": "code",
   "execution_count": 131,
   "metadata": {},
   "outputs": [
    {
     "data": {
      "text/plain": [
       "(0.19944966315589716, 0.8005503368441028)"
      ]
     },
     "execution_count": 131,
     "metadata": {},
     "output_type": "execute_result"
    }
   ],
   "source": [
    "null_without_default = df['Max_Perc_Def_Chg_Pending'].isna()[df['Ever_Default_L12M'] == 'No'].sum()\n",
    "null_with_default = df['Max_Perc_Def_Chg_Pending'].isna()[df['Ever_Default_L12M'] == 'Yes'].sum()\n",
    "null_with_default/null_perc_def_chg, null_without_default/null_perc_def_chg"
   ]
  },
  {
   "cell_type": "markdown",
   "metadata": {},
   "source": [
    "We can see that customer without default in last 12 months have 80% of the null values and rest does have default.\n",
    "It is safe to assume that null values means customer never had any default in last 12 months.<br>\n",
    "----> So we can take null values to be another category."
   ]
  },
  {
   "cell_type": "code",
   "execution_count": 132,
   "metadata": {},
   "outputs": [
    {
     "data": {
      "text/plain": [
       "<Axes: >"
      ]
     },
     "execution_count": 132,
     "metadata": {},
     "output_type": "execute_result"
    },
    {
     "data": {
      "image/png": "[encoded data removed]",
      "text/plain": [
       "<Figure size 640x480 with 1 Axes>"
      ]
     },
     "metadata": {},
     "output_type": "display_data"
    }
   ],
   "source": [
    "def_chg_perc = df['Max_Perc_Def_Chg_Pending'].value_counts()[df['Max_Perc_Def_Chg_Pending'].value_counts() >= 100]\n",
    "def_chg_perc.plot(kind='bar')"
   ]
  },
  {
   "cell_type": "markdown",
   "metadata": {},
   "source": [
    "Now lets handle \"N_Default_L3m\" column missing values: "
   ]
  },
  {
   "cell_type": "code",
   "execution_count": 133,
   "metadata": {},
   "outputs": [
    {
     "data": {
      "text/plain": [
       "5338"
      ]
     },
     "execution_count": 133,
     "metadata": {},
     "output_type": "execute_result"
    }
   ],
   "source": [
    "df['N_PosBkt_L3m'].isna().sum()"
   ]
  },
  {
   "cell_type": "code",
   "execution_count": 134,
   "metadata": {},
   "outputs": [
    {
     "data": {
      "text/plain": [
       "0.0    74985\n",
       "1.0      857\n",
       "2.0       72\n",
       "3.0        1\n",
       "Name: N_PosBkt_L3m, dtype: int64"
      ]
     },
     "execution_count": 134,
     "metadata": {},
     "output_type": "execute_result"
    }
   ],
   "source": [
    "df['N_PosBkt_L3m'].value_counts()"
   ]
  },
  {
   "cell_type": "code",
   "execution_count": 135,
   "metadata": {},
   "outputs": [
    {
     "data": {
      "text/plain": [
       "0.0    66176\n",
       "1.0      587\n",
       "2.0       47\n",
       "3.0        1\n",
       "Name: N_PosBkt_L3m, dtype: int64"
      ]
     },
     "execution_count": 135,
     "metadata": {},
     "output_type": "execute_result"
    }
   ],
   "source": [
    "df['N_PosBkt_L3m'][df['Target_Flag'] == 0].value_counts()"
   ]
  },
  {
   "cell_type": "code",
   "execution_count": 136,
   "metadata": {},
   "outputs": [
    {
     "data": {
      "text/plain": [
       "0.0    8809\n",
       "1.0     270\n",
       "2.0      25\n",
       "Name: N_PosBkt_L3m, dtype: int64"
      ]
     },
     "execution_count": 136,
     "metadata": {},
     "output_type": "execute_result"
    }
   ],
   "source": [
    "df['N_PosBkt_L3m'][df['Target_Flag'] == 1].value_counts()"
   ]
  },
  {
   "cell_type": "code",
   "execution_count": 137,
   "metadata": {},
   "outputs": [
    {
     "data": {
      "text/plain": [
       "0    4658\n",
       "1     680\n",
       "Name: Target_Flag, dtype: int64"
      ]
     },
     "execution_count": 137,
     "metadata": {},
     "output_type": "execute_result"
    }
   ],
   "source": [
    "df['Target_Flag'][df['N_PosBkt_L3m'].isna()].value_counts()"
   ]
  },
  {
   "cell_type": "code",
   "execution_count": 138,
   "metadata": {},
   "outputs": [
    {
     "data": {
      "image/png": "[encoded data removed]",
      "text/plain": [
       "<Figure size 1500x500 with 3 Axes>"
      ]
     },
     "metadata": {},
     "output_type": "display_data"
    }
   ],
   "source": [
    "# Create a figure with subplots\n",
    "fig, axes = plt.subplots(1, 3, figsize=(15, 5))\n",
    "\n",
    "# Plot 1: Target_Flag == 1 and N_PosBkt_L3m is NaN\n",
    "sns.countplot(data=df[df['N_PosBkt_L3m'].isna()], x='Target_Flag', ax=axes[0])\n",
    "axes[0].set_title('Target_Flag == 1 and N_PosBkt_L3m is NaN')\n",
    "for p in axes[0].patches:\n",
    "    axes[0].annotate(f'{int(p.get_height())}', (p.get_x() + p.get_width() / 2., p.get_height()), ha='center', va='center')\n",
    "\n",
    "# Plot 2: Target_Flag == 1 and N_PosBkt_L3m counts\n",
    "sns.countplot(data=df[df['Target_Flag'] == 1], x='N_PosBkt_L3m', ax=axes[1])\n",
    "axes[1].set_title('Target_Flag == 1 and N_PosBkt_L3m counts')\n",
    "for p in axes[1].patches:\n",
    "    axes[1].annotate(f'{int(p.get_height())}', (p.get_x() + p.get_width() / 2., p.get_height()), ha='center', va='center')\n",
    "\n",
    "# Plot 3: Target_Flag == 0 and N_PosBkt_L3m counts\n",
    "sns.countplot(data=df[df['Target_Flag'] == 0], x='N_PosBkt_L3m', ax=axes[2])\n",
    "axes[2].set_title('Target_Flag == 0 and N_PosBkt_L3m counts')\n",
    "for p in axes[2].patches:\n",
    "    axes[2].annotate(f'{int(p.get_height())}', (p.get_x() + p.get_width() / 2., p.get_height()), ha='center', va='center')\n",
    "\n",
    "# Adjust spacing between subplots\n",
    "plt.tight_layout()\n",
    "\n",
    "# Show the plots\n",
    "plt.show()\n",
    "\n"
   ]
  },
  {
   "cell_type": "markdown",
   "metadata": {},
   "source": [
    "We see that for missing values defaults are 680 and not defaults are 4658. Which is a proportionate distribution with whole training data.\n",
    "* It may also correspond to people who recently took the loan. (Less than 3 months ago)<br>\n",
    " Anyway since it merely affects 6% of the data so we can test it out with imputing 0, if needed we can try some other methods.\n",
    "---"
   ]
  },
  {
   "cell_type": "markdown",
   "metadata": {},
   "source": [
    "Now remaining two columns with missing values are:\n",
    "1. Max_DPD_L3m\n",
    "2. Max_Loan_Balance_Others"
   ]
  },
  {
   "cell_type": "code",
   "execution_count": 139,
   "metadata": {},
   "outputs": [
    {
     "data": {
      "text/plain": [
       "243"
      ]
     },
     "execution_count": 139,
     "metadata": {},
     "output_type": "execute_result"
    }
   ],
   "source": [
    "df['Max_DPD_L3m'].isna().sum()"
   ]
  },
  {
   "cell_type": "code",
   "execution_count": 140,
   "metadata": {},
   "outputs": [
    {
     "data": {
      "text/plain": [
       "0    219\n",
       "1     24\n",
       "Name: Target_Flag, dtype: int64"
      ]
     },
     "execution_count": 140,
     "metadata": {},
     "output_type": "execute_result"
    }
   ],
   "source": [
    "df['Target_Flag'][df['Max_DPD_L3m'].isna()].value_counts()"
   ]
  },
  {
   "cell_type": "code",
   "execution_count": 141,
   "metadata": {},
   "outputs": [
    {
     "data": {
      "text/html": [
       "<div>\n",
       "<style scoped>\n",
       "    .dataframe tbody tr th:only-of-type {\n",
       "        vertical-align: middle;\n",
       "    }\n",
       "\n",
       "    .dataframe tbody tr th {\n",
       "        vertical-align: top;\n",
       "    }\n",
       "\n",
       "    .dataframe thead th {\n",
       "        text-align: right;\n",
       "    }\n",
       "</style>\n",
       "<table border=\"1\" class=\"dataframe\">\n",
       "  <thead>\n",
       "    <tr style=\"text-align: right;\">\n",
       "      <th></th>\n",
       "      <th>Max_DPD_L3m</th>\n",
       "      <th>Target_Flag</th>\n",
       "      <th>count</th>\n",
       "    </tr>\n",
       "  </thead>\n",
       "  <tbody>\n",
       "    <tr>\n",
       "      <th>0</th>\n",
       "      <td>0.0</td>\n",
       "      <td>0</td>\n",
       "      <td>23603</td>\n",
       "    </tr>\n",
       "    <tr>\n",
       "      <th>1</th>\n",
       "      <td>0.0</td>\n",
       "      <td>1</td>\n",
       "      <td>1913</td>\n",
       "    </tr>\n",
       "    <tr>\n",
       "      <th>2</th>\n",
       "      <td>1.0</td>\n",
       "      <td>0</td>\n",
       "      <td>917</td>\n",
       "    </tr>\n",
       "    <tr>\n",
       "      <th>3</th>\n",
       "      <td>1.0</td>\n",
       "      <td>1</td>\n",
       "      <td>90</td>\n",
       "    </tr>\n",
       "    <tr>\n",
       "      <th>4</th>\n",
       "      <td>2.0</td>\n",
       "      <td>0</td>\n",
       "      <td>952</td>\n",
       "    </tr>\n",
       "    <tr>\n",
       "      <th>5</th>\n",
       "      <td>2.0</td>\n",
       "      <td>1</td>\n",
       "      <td>88</td>\n",
       "    </tr>\n",
       "    <tr>\n",
       "      <th>6</th>\n",
       "      <td>3.0</td>\n",
       "      <td>0</td>\n",
       "      <td>1143</td>\n",
       "    </tr>\n",
       "    <tr>\n",
       "      <th>7</th>\n",
       "      <td>3.0</td>\n",
       "      <td>1</td>\n",
       "      <td>73</td>\n",
       "    </tr>\n",
       "    <tr>\n",
       "      <th>8</th>\n",
       "      <td>4.0</td>\n",
       "      <td>0</td>\n",
       "      <td>1772</td>\n",
       "    </tr>\n",
       "    <tr>\n",
       "      <th>9</th>\n",
       "      <td>4.0</td>\n",
       "      <td>1</td>\n",
       "      <td>138</td>\n",
       "    </tr>\n",
       "    <tr>\n",
       "      <th>10</th>\n",
       "      <td>5.0</td>\n",
       "      <td>0</td>\n",
       "      <td>1935</td>\n",
       "    </tr>\n",
       "    <tr>\n",
       "      <th>11</th>\n",
       "      <td>5.0</td>\n",
       "      <td>1</td>\n",
       "      <td>131</td>\n",
       "    </tr>\n",
       "    <tr>\n",
       "      <th>12</th>\n",
       "      <td>6.0</td>\n",
       "      <td>0</td>\n",
       "      <td>2258</td>\n",
       "    </tr>\n",
       "    <tr>\n",
       "      <th>13</th>\n",
       "      <td>6.0</td>\n",
       "      <td>1</td>\n",
       "      <td>183</td>\n",
       "    </tr>\n",
       "    <tr>\n",
       "      <th>14</th>\n",
       "      <td>7.0</td>\n",
       "      <td>0</td>\n",
       "      <td>1742</td>\n",
       "    </tr>\n",
       "    <tr>\n",
       "      <th>15</th>\n",
       "      <td>7.0</td>\n",
       "      <td>1</td>\n",
       "      <td>152</td>\n",
       "    </tr>\n",
       "    <tr>\n",
       "      <th>16</th>\n",
       "      <td>8.0</td>\n",
       "      <td>0</td>\n",
       "      <td>2430</td>\n",
       "    </tr>\n",
       "    <tr>\n",
       "      <th>17</th>\n",
       "      <td>8.0</td>\n",
       "      <td>1</td>\n",
       "      <td>226</td>\n",
       "    </tr>\n",
       "    <tr>\n",
       "      <th>18</th>\n",
       "      <td>9.0</td>\n",
       "      <td>0</td>\n",
       "      <td>1841</td>\n",
       "    </tr>\n",
       "    <tr>\n",
       "      <th>19</th>\n",
       "      <td>9.0</td>\n",
       "      <td>1</td>\n",
       "      <td>180</td>\n",
       "    </tr>\n",
       "    <tr>\n",
       "      <th>20</th>\n",
       "      <td>10.0</td>\n",
       "      <td>0</td>\n",
       "      <td>2190</td>\n",
       "    </tr>\n",
       "    <tr>\n",
       "      <th>21</th>\n",
       "      <td>10.0</td>\n",
       "      <td>1</td>\n",
       "      <td>226</td>\n",
       "    </tr>\n",
       "    <tr>\n",
       "      <th>22</th>\n",
       "      <td>11.0</td>\n",
       "      <td>0</td>\n",
       "      <td>1787</td>\n",
       "    </tr>\n",
       "    <tr>\n",
       "      <th>23</th>\n",
       "      <td>11.0</td>\n",
       "      <td>1</td>\n",
       "      <td>225</td>\n",
       "    </tr>\n",
       "    <tr>\n",
       "      <th>24</th>\n",
       "      <td>12.0</td>\n",
       "      <td>0</td>\n",
       "      <td>1653</td>\n",
       "    </tr>\n",
       "    <tr>\n",
       "      <th>25</th>\n",
       "      <td>12.0</td>\n",
       "      <td>1</td>\n",
       "      <td>198</td>\n",
       "    </tr>\n",
       "    <tr>\n",
       "      <th>26</th>\n",
       "      <td>13.0</td>\n",
       "      <td>0</td>\n",
       "      <td>1687</td>\n",
       "    </tr>\n",
       "    <tr>\n",
       "      <th>27</th>\n",
       "      <td>13.0</td>\n",
       "      <td>1</td>\n",
       "      <td>186</td>\n",
       "    </tr>\n",
       "    <tr>\n",
       "      <th>28</th>\n",
       "      <td>14.0</td>\n",
       "      <td>0</td>\n",
       "      <td>1373</td>\n",
       "    </tr>\n",
       "    <tr>\n",
       "      <th>29</th>\n",
       "      <td>14.0</td>\n",
       "      <td>1</td>\n",
       "      <td>174</td>\n",
       "    </tr>\n",
       "    <tr>\n",
       "      <th>30</th>\n",
       "      <td>15.0</td>\n",
       "      <td>0</td>\n",
       "      <td>2018</td>\n",
       "    </tr>\n",
       "    <tr>\n",
       "      <th>31</th>\n",
       "      <td>15.0</td>\n",
       "      <td>1</td>\n",
       "      <td>266</td>\n",
       "    </tr>\n",
       "    <tr>\n",
       "      <th>32</th>\n",
       "      <td>16.0</td>\n",
       "      <td>0</td>\n",
       "      <td>1783</td>\n",
       "    </tr>\n",
       "    <tr>\n",
       "      <th>33</th>\n",
       "      <td>16.0</td>\n",
       "      <td>1</td>\n",
       "      <td>288</td>\n",
       "    </tr>\n",
       "    <tr>\n",
       "      <th>34</th>\n",
       "      <td>17.0</td>\n",
       "      <td>0</td>\n",
       "      <td>2329</td>\n",
       "    </tr>\n",
       "    <tr>\n",
       "      <th>35</th>\n",
       "      <td>17.0</td>\n",
       "      <td>1</td>\n",
       "      <td>403</td>\n",
       "    </tr>\n",
       "    <tr>\n",
       "      <th>36</th>\n",
       "      <td>18.0</td>\n",
       "      <td>0</td>\n",
       "      <td>2270</td>\n",
       "    </tr>\n",
       "    <tr>\n",
       "      <th>37</th>\n",
       "      <td>18.0</td>\n",
       "      <td>1</td>\n",
       "      <td>424</td>\n",
       "    </tr>\n",
       "    <tr>\n",
       "      <th>38</th>\n",
       "      <td>19.0</td>\n",
       "      <td>0</td>\n",
       "      <td>1690</td>\n",
       "    </tr>\n",
       "    <tr>\n",
       "      <th>39</th>\n",
       "      <td>19.0</td>\n",
       "      <td>1</td>\n",
       "      <td>389</td>\n",
       "    </tr>\n",
       "    <tr>\n",
       "      <th>40</th>\n",
       "      <td>20.0</td>\n",
       "      <td>0</td>\n",
       "      <td>1543</td>\n",
       "    </tr>\n",
       "    <tr>\n",
       "      <th>41</th>\n",
       "      <td>20.0</td>\n",
       "      <td>1</td>\n",
       "      <td>304</td>\n",
       "    </tr>\n",
       "    <tr>\n",
       "      <th>42</th>\n",
       "      <td>21.0</td>\n",
       "      <td>0</td>\n",
       "      <td>1579</td>\n",
       "    </tr>\n",
       "    <tr>\n",
       "      <th>43</th>\n",
       "      <td>21.0</td>\n",
       "      <td>1</td>\n",
       "      <td>335</td>\n",
       "    </tr>\n",
       "    <tr>\n",
       "      <th>44</th>\n",
       "      <td>22.0</td>\n",
       "      <td>0</td>\n",
       "      <td>883</td>\n",
       "    </tr>\n",
       "    <tr>\n",
       "      <th>45</th>\n",
       "      <td>22.0</td>\n",
       "      <td>1</td>\n",
       "      <td>216</td>\n",
       "    </tr>\n",
       "    <tr>\n",
       "      <th>46</th>\n",
       "      <td>23.0</td>\n",
       "      <td>0</td>\n",
       "      <td>927</td>\n",
       "    </tr>\n",
       "    <tr>\n",
       "      <th>47</th>\n",
       "      <td>23.0</td>\n",
       "      <td>1</td>\n",
       "      <td>251</td>\n",
       "    </tr>\n",
       "    <tr>\n",
       "      <th>48</th>\n",
       "      <td>24.0</td>\n",
       "      <td>0</td>\n",
       "      <td>1328</td>\n",
       "    </tr>\n",
       "    <tr>\n",
       "      <th>49</th>\n",
       "      <td>24.0</td>\n",
       "      <td>1</td>\n",
       "      <td>323</td>\n",
       "    </tr>\n",
       "    <tr>\n",
       "      <th>50</th>\n",
       "      <td>25.0</td>\n",
       "      <td>0</td>\n",
       "      <td>1326</td>\n",
       "    </tr>\n",
       "    <tr>\n",
       "      <th>51</th>\n",
       "      <td>25.0</td>\n",
       "      <td>1</td>\n",
       "      <td>379</td>\n",
       "    </tr>\n",
       "    <tr>\n",
       "      <th>52</th>\n",
       "      <td>26.0</td>\n",
       "      <td>0</td>\n",
       "      <td>1247</td>\n",
       "    </tr>\n",
       "    <tr>\n",
       "      <th>53</th>\n",
       "      <td>26.0</td>\n",
       "      <td>1</td>\n",
       "      <td>370</td>\n",
       "    </tr>\n",
       "    <tr>\n",
       "      <th>54</th>\n",
       "      <td>27.0</td>\n",
       "      <td>0</td>\n",
       "      <td>1313</td>\n",
       "    </tr>\n",
       "    <tr>\n",
       "      <th>55</th>\n",
       "      <td>27.0</td>\n",
       "      <td>1</td>\n",
       "      <td>376</td>\n",
       "    </tr>\n",
       "    <tr>\n",
       "      <th>56</th>\n",
       "      <td>28.0</td>\n",
       "      <td>0</td>\n",
       "      <td>1354</td>\n",
       "    </tr>\n",
       "    <tr>\n",
       "      <th>57</th>\n",
       "      <td>28.0</td>\n",
       "      <td>1</td>\n",
       "      <td>427</td>\n",
       "    </tr>\n",
       "    <tr>\n",
       "      <th>58</th>\n",
       "      <td>29.0</td>\n",
       "      <td>0</td>\n",
       "      <td>2377</td>\n",
       "    </tr>\n",
       "    <tr>\n",
       "      <th>59</th>\n",
       "      <td>29.0</td>\n",
       "      <td>1</td>\n",
       "      <td>826</td>\n",
       "    </tr>\n",
       "  </tbody>\n",
       "</table>\n",
       "</div>"
      ],
      "text/plain": [
       "    Max_DPD_L3m  Target_Flag  count\n",
       "0           0.0            0  23603\n",
       "1           0.0            1   1913\n",
       "2           1.0            0    917\n",
       "3           1.0            1     90\n",
       "4           2.0            0    952\n",
       "5           2.0            1     88\n",
       "6           3.0            0   1143\n",
       "7           3.0            1     73\n",
       "8           4.0            0   1772\n",
       "9           4.0            1    138\n",
       "10          5.0            0   1935\n",
       "11          5.0            1    131\n",
       "12          6.0            0   2258\n",
       "13          6.0            1    183\n",
       "14          7.0            0   1742\n",
       "15          7.0            1    152\n",
       "16          8.0            0   2430\n",
       "17          8.0            1    226\n",
       "18          9.0            0   1841\n",
       "19          9.0            1    180\n",
       "20         10.0            0   2190\n",
       "21         10.0            1    226\n",
       "22         11.0            0   1787\n",
       "23         11.0            1    225\n",
       "24         12.0            0   1653\n",
       "25         12.0            1    198\n",
       "26         13.0            0   1687\n",
       "27         13.0            1    186\n",
       "28         14.0            0   1373\n",
       "29         14.0            1    174\n",
       "30         15.0            0   2018\n",
       "31         15.0            1    266\n",
       "32         16.0            0   1783\n",
       "33         16.0            1    288\n",
       "34         17.0            0   2329\n",
       "35         17.0            1    403\n",
       "36         18.0            0   2270\n",
       "37         18.0            1    424\n",
       "38         19.0            0   1690\n",
       "39         19.0            1    389\n",
       "40         20.0            0   1543\n",
       "41         20.0            1    304\n",
       "42         21.0            0   1579\n",
       "43         21.0            1    335\n",
       "44         22.0            0    883\n",
       "45         22.0            1    216\n",
       "46         23.0            0    927\n",
       "47         23.0            1    251\n",
       "48         24.0            0   1328\n",
       "49         24.0            1    323\n",
       "50         25.0            0   1326\n",
       "51         25.0            1    379\n",
       "52         26.0            0   1247\n",
       "53         26.0            1    370\n",
       "54         27.0            0   1313\n",
       "55         27.0            1    376\n",
       "56         28.0            0   1354\n",
       "57         28.0            1    427\n",
       "58         29.0            0   2377\n",
       "59         29.0            1    826"
      ]
     },
     "execution_count": 141,
     "metadata": {},
     "output_type": "execute_result"
    }
   ],
   "source": [
    "value_counts_grouped = df.groupby(['Max_DPD_L3m', 'Target_Flag']).size().reset_index(name='count')\n",
    "value_counts_grouped"
   ]
  },
  {
   "cell_type": "code",
   "execution_count": 142,
   "metadata": {},
   "outputs": [
    {
     "data": {
      "text/plain": [
       "0    23603\n",
       "1     1913\n",
       "Name: Target_Flag, dtype: int64"
      ]
     },
     "execution_count": 142,
     "metadata": {},
     "output_type": "execute_result"
    }
   ],
   "source": [
    "df['Target_Flag'][df['Max_DPD_L3m'] == 0.0].value_counts()"
   ]
  },
  {
   "cell_type": "code",
   "execution_count": 143,
   "metadata": {},
   "outputs": [
    {
     "data": {
      "text/plain": [
       "0    47647\n",
       "1     7847\n",
       "Name: Target_Flag, dtype: int64"
      ]
     },
     "execution_count": 143,
     "metadata": {},
     "output_type": "execute_result"
    }
   ],
   "source": [
    "df['Target_Flag'][df['Max_DPD_L3m'] > 0.0].value_counts()"
   ]
  },
  {
   "cell_type": "markdown",
   "metadata": {},
   "source": [
    "We see that about 7.5% of customer defaulted when their days delay in payment was 0.\n",
    "Also about 14.12% of people defaulted otherwise.\n",
    "\n",
    "One interesting way to solve this problem would be imputing 0.0 in case target flag is 0 and  15.0 or higher when target flag is 1."
   ]
  },
  {
   "cell_type": "code",
   "execution_count": 144,
   "metadata": {},
   "outputs": [
    {
     "data": {
      "text/plain": [
       "<Axes: >"
      ]
     },
     "execution_count": 144,
     "metadata": {},
     "output_type": "execute_result"
    },
    {
     "data": {
      "image/png": "[encoded data removed]",
      "text/plain": [
       "<Figure size 640x480 with 1 Axes>"
      ]
     },
     "metadata": {},
     "output_type": "display_data"
    }
   ],
   "source": [
    "df['Max_DPD_L3m'].value_counts().plot(kind='bar')"
   ]
  },
  {
   "cell_type": "code",
   "execution_count": 145,
   "metadata": {},
   "outputs": [],
   "source": [
    "from random import randint\n",
    "\n",
    "df['Max_DPD_L3m'].fillna(0.0 if (df['Target_Flag'] == 0).all() else np.random.randint(15, 30), inplace=True)\n"
   ]
  },
  {
   "cell_type": "markdown",
   "metadata": {},
   "source": [
    "Now for column \"Max_Loan_Balance_Others\":"
   ]
  },
  {
   "cell_type": "code",
   "execution_count": 146,
   "metadata": {},
   "outputs": [
    {
     "data": {
      "text/plain": [
       "341"
      ]
     },
     "execution_count": 146,
     "metadata": {},
     "output_type": "execute_result"
    }
   ],
   "source": [
    "df['Max_Loan_Balance_Others'].isna().sum()"
   ]
  },
  {
   "cell_type": "code",
   "execution_count": 147,
   "metadata": {},
   "outputs": [
    {
     "data": {
      "text/plain": [
       "0    298\n",
       "1     43\n",
       "Name: Target_Flag, dtype: int64"
      ]
     },
     "execution_count": 147,
     "metadata": {},
     "output_type": "execute_result"
    }
   ],
   "source": [
    "df['Target_Flag'][df['Max_Loan_Balance_Others'].isna()].value_counts()"
   ]
  },
  {
   "cell_type": "code",
   "execution_count": 148,
   "metadata": {},
   "outputs": [
    {
     "data": {
      "text/plain": [
       "count    8.091200e+04\n",
       "mean     1.462583e+05\n",
       "std      4.509210e+05\n",
       "min     -5.425000e+03\n",
       "25%      9.992000e+03\n",
       "50%      1.999900e+04\n",
       "75%      1.100060e+05\n",
       "max      6.553632e+07\n",
       "Name: Max_Loan_Balance_Others, dtype: float64"
      ]
     },
     "execution_count": 148,
     "metadata": {},
     "output_type": "execute_result"
    }
   ],
   "source": [
    "df['Max_Loan_Balance_Others'].describe()"
   ]
  },
  {
   "cell_type": "markdown",
   "metadata": {},
   "source": [
    "We see there are some negative values in this column lets make them positive."
   ]
  },
  {
   "cell_type": "code",
   "execution_count": 149,
   "metadata": {},
   "outputs": [],
   "source": [
    "df['Max_Loan_Balance_Others'] = df['Max_Loan_Balance_Others'].abs()"
   ]
  },
  {
   "cell_type": "code",
   "execution_count": 150,
   "metadata": {},
   "outputs": [
    {
     "data": {
      "text/plain": [
       "count    8.091200e+04\n",
       "mean     1.462589e+05\n",
       "std      4.509208e+05\n",
       "min      0.000000e+00\n",
       "25%      9.992000e+03\n",
       "50%      1.999900e+04\n",
       "75%      1.100060e+05\n",
       "max      6.553632e+07\n",
       "Name: Max_Loan_Balance_Others, dtype: float64"
      ]
     },
     "execution_count": 150,
     "metadata": {},
     "output_type": "execute_result"
    }
   ],
   "source": [
    "df['Max_Loan_Balance_Others'].describe()"
   ]
  },
  {
   "cell_type": "markdown",
   "metadata": {},
   "source": [
    "Let's compare different percentile with Target_Flag"
   ]
  },
  {
   "cell_type": "code",
   "execution_count": 151,
   "metadata": {},
   "outputs": [
    {
     "data": {
      "text/plain": [
       "0    17801\n",
       "1     2403\n",
       "Name: Target_Flag, dtype: int64"
      ]
     },
     "execution_count": 151,
     "metadata": {},
     "output_type": "execute_result"
    }
   ],
   "source": [
    "df['Target_Flag'][df['Max_Loan_Balance_Others']<9992].value_counts()"
   ]
  },
  {
   "cell_type": "markdown",
   "metadata": {},
   "source": [
    "12%, 12.5%, 12.42%, 10.9%\n",
    "12.32, "
   ]
  },
  {
   "cell_type": "code",
   "execution_count": 152,
   "metadata": {},
   "outputs": [
    {
     "data": {
      "text/plain": [
       "0    35394\n",
       "1     5036\n",
       "Name: Target_Flag, dtype: int64"
      ]
     },
     "execution_count": 152,
     "metadata": {},
     "output_type": "execute_result"
    }
   ],
   "source": [
    "df['Target_Flag'][df['Max_Loan_Balance_Others']<19999].value_counts()"
   ]
  },
  {
   "cell_type": "code",
   "execution_count": 153,
   "metadata": {},
   "outputs": [
    {
     "data": {
      "text/plain": [
       "0    35682\n",
       "1     4686\n",
       "Name: Target_Flag, dtype: int64"
      ]
     },
     "execution_count": 153,
     "metadata": {},
     "output_type": "execute_result"
    }
   ],
   "source": [
    "df['Target_Flag'][(9992 < df['Max_Loan_Balance_Others']) & (df['Max_Loan_Balance_Others'] > 19999)].value_counts()"
   ]
  },
  {
   "cell_type": "code",
   "execution_count": 154,
   "metadata": {},
   "outputs": [
    {
     "data": {
      "text/plain": [
       "0    18024\n",
       "1     2204\n",
       "Name: Target_Flag, dtype: int64"
      ]
     },
     "execution_count": 154,
     "metadata": {},
     "output_type": "execute_result"
    }
   ],
   "source": [
    "df['Target_Flag'][(19999 < df['Max_Loan_Balance_Others']) & (df['Max_Loan_Balance_Others'] > 110006)].value_counts()\n"
   ]
  },
  {
   "cell_type": "code",
   "execution_count": 155,
   "metadata": {},
   "outputs": [
    {
     "data": {
      "text/plain": [
       "0    18024\n",
       "1     2204\n",
       "Name: Target_Flag, dtype: int64"
      ]
     },
     "execution_count": 155,
     "metadata": {},
     "output_type": "execute_result"
    }
   ],
   "source": [
    "df['Target_Flag'][df['Max_Loan_Balance_Others']>110006].value_counts()"
   ]
  },
  {
   "cell_type": "code",
   "execution_count": 156,
   "metadata": {},
   "outputs": [
    {
     "data": {
      "text/plain": [
       "0    1787\n",
       "1     212\n",
       "Name: Target_Flag, dtype: int64"
      ]
     },
     "execution_count": 156,
     "metadata": {},
     "output_type": "execute_result"
    }
   ],
   "source": [
    "df['Target_Flag'][df['Max_Loan_Balance_Others']== 0.0].value_counts()"
   ]
  },
  {
   "cell_type": "markdown",
   "metadata": {},
   "source": [
    "1. There are zeroes in this column which suggest that column includes people with zero loan. <br>\n",
    "2. There are very less null values it may quite simply mean that these customer doesn't even have a bank account in other banks.\n",
    "3. Distribution of target flag over different range of percentile is more or less similar.\n",
    "4. Moreover distribution of target flag is also quite similar in case when loan balance with others is 0.\n",
    "\n",
    " -----> In any case filling these null values with 0 will do no harm."
   ]
  },
  {
   "cell_type": "code",
   "execution_count": 157,
   "metadata": {},
   "outputs": [
    {
     "data": {
      "image/png": "[encoded data removed]",
      "text/plain": [
       "<Figure size 800x600 with 2 Axes>"
      ]
     },
     "metadata": {},
     "output_type": "display_data"
    }
   ],
   "source": [
    "value_counts_grouped = df.groupby(['N_PosBkt_L3m', 'Target_Flag']).size().reset_index(name='count')\n",
    "\n",
    "pivot_table = value_counts_grouped.pivot('N_PosBkt_L3m', 'Target_Flag', 'count')\n",
    "\n",
    "\n",
    "plt.figure(figsize=(8, 6))\n",
    "sns.heatmap(pivot_table, annot=True, cmap=\"YlGnBu\", fmt='g')\n",
    "plt.title(\"Count of Combinations\")\n",
    "plt.show()"
   ]
  },
  {
   "cell_type": "code",
   "execution_count": 158,
   "metadata": {},
   "outputs": [
    {
     "data": {
      "text/plain": [
       "Index(['N_Default_L3m', 'Branch_Code', 'Max_Utilization',\n",
       "       'Max_Perc_Def_Chg_Pending', 'N_Family_Member',\n",
       "       'Max_Ratio_OC_Pending_POS', 'N_PosBkt_L3m', 'CoAp_Income',\n",
       "       'Ever_Default_L12M', 'Perc_Paymode_Online', 'Perc_Repay_Fail',\n",
       "       'Birth_Year', 'Max_DPD_L3m', 'Perc_Paymode_Cheq_Fail', 'Age',\n",
       "       'Total_Field_Trails', 'Total_Resolved', 'N_Enq_L9m',\n",
       "       'Max_Loan_Balance_Others', 'N_WorkEx_Yr', 'Target_Flag'],\n",
       "      dtype='object')"
      ]
     },
     "execution_count": 158,
     "metadata": {},
     "output_type": "execute_result"
    }
   ],
   "source": [
    "col"
   ]
  },
  {
   "cell_type": "code",
   "execution_count": 159,
   "metadata": {},
   "outputs": [
    {
     "data": {
      "image/png": "[encoded data removed]",
      "text/plain": [
       "<Figure size 800x600 with 2 Axes>"
      ]
     },
     "metadata": {},
     "output_type": "display_data"
    }
   ],
   "source": [
    "value_counts_grouped = df.groupby(['Total_Field_Trails', 'Target_Flag']).size().reset_index(name='count')\n",
    "\n",
    "pivot_table = value_counts_grouped.pivot('Total_Field_Trails', 'Target_Flag', 'count')\n",
    "\n",
    "\n",
    "plt.figure(figsize=(8, 6))\n",
    "sns.heatmap(pivot_table, annot=True, cmap=\"YlGnBu\", fmt='g')\n",
    "plt.title(\"Count of Combinations\")\n",
    "plt.show()"
   ]
  },
  {
   "cell_type": "code",
   "execution_count": 160,
   "metadata": {},
   "outputs": [],
   "source": [
    "def value_wise_defaulter_percentage(df, col):\n",
    "    new_df = pd.DataFrame(columns=['Value', 'Percentage of Defaulter'])\n",
    "    \n",
    "    for value in df[col]:\n",
    "        default_cnt = df[(df[col] == value) & (df['Target_Flag']== 1)].shape[0]\n",
    "        total_cnt = df[df[col] == value].shape[0]\n",
    "        new_df = new_df.append({'Value' : value , 'Percentage of Defaulter' : (default_cnt*100/total_cnt)}, ignore_index=True)\n",
    "    return new_df.sort_values(by='Percentage of Defaulter', ascending=False)"
   ]
  },
  {
   "cell_type": "code",
   "execution_count": 161,
   "metadata": {},
   "outputs": [],
   "source": [
    "filtered_df = df[(df['Max_Ratio_OC_Pending_POS'] >= 0) & (df['Max_Ratio_OC_Pending_POS'] <= 1)]\n"
   ]
  },
  {
   "cell_type": "code",
   "execution_count": 162,
   "metadata": {},
   "outputs": [
    {
     "data": {
      "text/plain": [
       "<Axes: >"
      ]
     },
     "execution_count": 162,
     "metadata": {},
     "output_type": "execute_result"
    },
    {
     "data": {
      "image/png": "[encoded data removed]",
      "text/plain": [
       "<Figure size 640x480 with 1 Axes>"
      ]
     },
     "metadata": {},
     "output_type": "display_data"
    }
   ],
   "source": [
    "df['Max_Ratio_OC_Pending_POS'].hist(bins=50)"
   ]
  },
  {
   "cell_type": "code",
   "execution_count": 163,
   "metadata": {},
   "outputs": [
    {
     "data": {
      "text/plain": [
       "0.000000    249\n",
       "0.255264     37\n",
       "0.110603     25\n",
       "0.088956     21\n",
       "0.106227     20\n",
       "           ... \n",
       "0.265586      1\n",
       "0.076857      1\n",
       "0.024070      1\n",
       "0.217585      1\n",
       "0.043705      1\n",
       "Name: Max_Ratio_OC_Pending_POS, Length: 6182, dtype: int64"
      ]
     },
     "execution_count": 163,
     "metadata": {},
     "output_type": "execute_result"
    }
   ],
   "source": [
    "count = df['Max_Ratio_OC_Pending_POS'].value_counts()\n",
    "count"
   ]
  },
  {
   "cell_type": "markdown",
   "metadata": {},
   "source": [
    "---"
   ]
  },
  {
   "cell_type": "markdown",
   "metadata": {},
   "source": [
    "Identifying Numerical Datatypes Columns"
   ]
  },
  {
   "cell_type": "code",
   "execution_count": 164,
   "metadata": {},
   "outputs": [
    {
     "name": "stdout",
     "output_type": "stream",
     "text": [
      "Number of numerical variables:  20\n"
     ]
    },
    {
     "data": {
      "text/html": [
       "<div>\n",
       "<style scoped>\n",
       "    .dataframe tbody tr th:only-of-type {\n",
       "        vertical-align: middle;\n",
       "    }\n",
       "\n",
       "    .dataframe tbody tr th {\n",
       "        vertical-align: top;\n",
       "    }\n",
       "\n",
       "    .dataframe thead th {\n",
       "        text-align: right;\n",
       "    }\n",
       "</style>\n",
       "<table border=\"1\" class=\"dataframe\">\n",
       "  <thead>\n",
       "    <tr style=\"text-align: right;\">\n",
       "      <th></th>\n",
       "      <th>N_Default_L3m</th>\n",
       "      <th>Branch_Code</th>\n",
       "      <th>Max_Utilization</th>\n",
       "      <th>Max_Perc_Def_Chg_Pending</th>\n",
       "      <th>N_Family_Member</th>\n",
       "      <th>Max_Ratio_OC_Pending_POS</th>\n",
       "      <th>N_PosBkt_L3m</th>\n",
       "      <th>CoAp_Income</th>\n",
       "      <th>Perc_Paymode_Online</th>\n",
       "      <th>Perc_Repay_Fail</th>\n",
       "      <th>Birth_Year</th>\n",
       "      <th>Max_DPD_L3m</th>\n",
       "      <th>Perc_Paymode_Cheq_Fail</th>\n",
       "      <th>Age</th>\n",
       "      <th>Total_Field_Trails</th>\n",
       "      <th>Total_Resolved</th>\n",
       "      <th>N_Enq_L9m</th>\n",
       "      <th>Max_Loan_Balance_Others</th>\n",
       "      <th>N_WorkEx_Yr</th>\n",
       "      <th>Target_Flag</th>\n",
       "    </tr>\n",
       "    <tr>\n",
       "      <th>Customer_No</th>\n",
       "      <th></th>\n",
       "      <th></th>\n",
       "      <th></th>\n",
       "      <th></th>\n",
       "      <th></th>\n",
       "      <th></th>\n",
       "      <th></th>\n",
       "      <th></th>\n",
       "      <th></th>\n",
       "      <th></th>\n",
       "      <th></th>\n",
       "      <th></th>\n",
       "      <th></th>\n",
       "      <th></th>\n",
       "      <th></th>\n",
       "      <th></th>\n",
       "      <th></th>\n",
       "      <th></th>\n",
       "      <th></th>\n",
       "      <th></th>\n",
       "    </tr>\n",
       "  </thead>\n",
       "  <tbody>\n",
       "    <tr>\n",
       "      <th>1</th>\n",
       "      <td>3</td>\n",
       "      <td>61749</td>\n",
       "      <td>38</td>\n",
       "      <td>100.0</td>\n",
       "      <td>5</td>\n",
       "      <td>NaN</td>\n",
       "      <td>0.0</td>\n",
       "      <td>NaN</td>\n",
       "      <td>0.285714</td>\n",
       "      <td>0.428571</td>\n",
       "      <td>1977</td>\n",
       "      <td>19.0</td>\n",
       "      <td>0.750</td>\n",
       "      <td>46</td>\n",
       "      <td>NaN</td>\n",
       "      <td>NaN</td>\n",
       "      <td>0</td>\n",
       "      <td>5527.0</td>\n",
       "      <td>15</td>\n",
       "      <td>0</td>\n",
       "    </tr>\n",
       "    <tr>\n",
       "      <th>2</th>\n",
       "      <td>1</td>\n",
       "      <td>30831</td>\n",
       "      <td>68</td>\n",
       "      <td>100.0</td>\n",
       "      <td>1</td>\n",
       "      <td>NaN</td>\n",
       "      <td>0.0</td>\n",
       "      <td>NaN</td>\n",
       "      <td>0.000000</td>\n",
       "      <td>0.200000</td>\n",
       "      <td>1990</td>\n",
       "      <td>2.0</td>\n",
       "      <td>0.500</td>\n",
       "      <td>33</td>\n",
       "      <td>NaN</td>\n",
       "      <td>NaN</td>\n",
       "      <td>0</td>\n",
       "      <td>12104.0</td>\n",
       "      <td>2</td>\n",
       "      <td>0</td>\n",
       "    </tr>\n",
       "    <tr>\n",
       "      <th>3</th>\n",
       "      <td>1</td>\n",
       "      <td>56708</td>\n",
       "      <td>39</td>\n",
       "      <td>50.0</td>\n",
       "      <td>-3</td>\n",
       "      <td>NaN</td>\n",
       "      <td>0.0</td>\n",
       "      <td>NaN</td>\n",
       "      <td>0.200000</td>\n",
       "      <td>0.200000</td>\n",
       "      <td>1995</td>\n",
       "      <td>25.0</td>\n",
       "      <td>1.000</td>\n",
       "      <td>28</td>\n",
       "      <td>NaN</td>\n",
       "      <td>0.0</td>\n",
       "      <td>1</td>\n",
       "      <td>153179.0</td>\n",
       "      <td>8</td>\n",
       "      <td>0</td>\n",
       "    </tr>\n",
       "    <tr>\n",
       "      <th>4</th>\n",
       "      <td>0</td>\n",
       "      <td>43551</td>\n",
       "      <td>76</td>\n",
       "      <td>NaN</td>\n",
       "      <td>0</td>\n",
       "      <td>NaN</td>\n",
       "      <td>0.0</td>\n",
       "      <td>NaN</td>\n",
       "      <td>0.000000</td>\n",
       "      <td>0.000000</td>\n",
       "      <td>1997</td>\n",
       "      <td>0.0</td>\n",
       "      <td>NaN</td>\n",
       "      <td>26</td>\n",
       "      <td>NaN</td>\n",
       "      <td>NaN</td>\n",
       "      <td>2</td>\n",
       "      <td>181589.0</td>\n",
       "      <td>6</td>\n",
       "      <td>0</td>\n",
       "    </tr>\n",
       "    <tr>\n",
       "      <th>5</th>\n",
       "      <td>3</td>\n",
       "      <td>15287</td>\n",
       "      <td>23</td>\n",
       "      <td>33.0</td>\n",
       "      <td>11</td>\n",
       "      <td>NaN</td>\n",
       "      <td>0.0</td>\n",
       "      <td>NaN</td>\n",
       "      <td>0.250000</td>\n",
       "      <td>0.250000</td>\n",
       "      <td>1995</td>\n",
       "      <td>19.0</td>\n",
       "      <td>0.375</td>\n",
       "      <td>28</td>\n",
       "      <td>NaN</td>\n",
       "      <td>NaN</td>\n",
       "      <td>1</td>\n",
       "      <td>10661.0</td>\n",
       "      <td>8</td>\n",
       "      <td>0</td>\n",
       "    </tr>\n",
       "  </tbody>\n",
       "</table>\n",
       "</div>"
      ],
      "text/plain": [
       "             N_Default_L3m  Branch_Code  Max_Utilization  \\\n",
       "Customer_No                                                \n",
       "1                        3        61749               38   \n",
       "2                        1        30831               68   \n",
       "3                        1        56708               39   \n",
       "4                        0        43551               76   \n",
       "5                        3        15287               23   \n",
       "\n",
       "             Max_Perc_Def_Chg_Pending  N_Family_Member  \\\n",
       "Customer_No                                              \n",
       "1                               100.0                5   \n",
       "2                               100.0                1   \n",
       "3                                50.0               -3   \n",
       "4                                 NaN                0   \n",
       "5                                33.0               11   \n",
       "\n",
       "             Max_Ratio_OC_Pending_POS  N_PosBkt_L3m  CoAp_Income  \\\n",
       "Customer_No                                                        \n",
       "1                                 NaN           0.0          NaN   \n",
       "2                                 NaN           0.0          NaN   \n",
       "3                                 NaN           0.0          NaN   \n",
       "4                                 NaN           0.0          NaN   \n",
       "5                                 NaN           0.0          NaN   \n",
       "\n",
       "             Perc_Paymode_Online  Perc_Repay_Fail  Birth_Year  Max_DPD_L3m  \\\n",
       "Customer_No                                                                  \n",
       "1                       0.285714         0.428571        1977         19.0   \n",
       "2                       0.000000         0.200000        1990          2.0   \n",
       "3                       0.200000         0.200000        1995         25.0   \n",
       "4                       0.000000         0.000000        1997          0.0   \n",
       "5                       0.250000         0.250000        1995         19.0   \n",
       "\n",
       "             Perc_Paymode_Cheq_Fail  Age  Total_Field_Trails  Total_Resolved  \\\n",
       "Customer_No                                                                    \n",
       "1                             0.750   46                 NaN             NaN   \n",
       "2                             0.500   33                 NaN             NaN   \n",
       "3                             1.000   28                 NaN             0.0   \n",
       "4                               NaN   26                 NaN             NaN   \n",
       "5                             0.375   28                 NaN             NaN   \n",
       "\n",
       "             N_Enq_L9m  Max_Loan_Balance_Others  N_WorkEx_Yr  Target_Flag  \n",
       "Customer_No                                                                \n",
       "1                    0                   5527.0           15            0  \n",
       "2                    0                  12104.0            2            0  \n",
       "3                    1                 153179.0            8            0  \n",
       "4                    2                 181589.0            6            0  \n",
       "5                    1                  10661.0            8            0  "
      ]
     },
     "execution_count": 164,
     "metadata": {},
     "output_type": "execute_result"
    }
   ],
   "source": [
    "numerical_features = [feature for feature in df.columns if df[feature].dtypes != 'O']\n",
    "\n",
    "print('Number of numerical variables: ', len(numerical_features))\n",
    "\n",
    "df[numerical_features].head()"
   ]
  },
  {
   "cell_type": "markdown",
   "metadata": {},
   "source": [
    "Finding Rest of the Columns"
   ]
  },
  {
   "cell_type": "code",
   "execution_count": 165,
   "metadata": {},
   "outputs": [
    {
     "name": "stdout",
     "output_type": "stream",
     "text": [
      "Ever_Default_L12M\n"
     ]
    }
   ],
   "source": [
    "for col in df.columns:\n",
    "    if col not in numerical_features:\n",
    "        print(col)"
   ]
  },
  {
   "cell_type": "code",
   "execution_count": 166,
   "metadata": {},
   "outputs": [
    {
     "data": {
      "text/plain": [
       "array(['Yes', 'No'], dtype=object)"
      ]
     },
     "execution_count": 166,
     "metadata": {},
     "output_type": "execute_result"
    }
   ],
   "source": [
    "df['Ever_Default_L12M'].unique()"
   ]
  },
  {
   "cell_type": "markdown",
   "metadata": {},
   "source": [
    "Changing \"Yes\" and \"No\" to 0 and 1 respectively"
   ]
  },
  {
   "cell_type": "code",
   "execution_count": 167,
   "metadata": {},
   "outputs": [],
   "source": [
    "df['Ever_Default_L12M'] = df['Ever_Default_L12M'].replace({'Yes': 1, 'No': 0})"
   ]
  },
  {
   "cell_type": "code",
   "execution_count": 168,
   "metadata": {},
   "outputs": [],
   "source": [
    "def value_wise_defaulter_percentage(df, col):\n",
    "    new_df = pd.DataFrame(columns=['Value', 'Percentage of Defaulter'])\n",
    "    \n",
    "    for value in df[col].unique():\n",
    "        default_cnt = df[(df[col] == value) & (df['Target_Flag']== 1)].shape[0]\n",
    "        total_cnt = df[df[col] == value].shape[0]\n",
    "        new_df = new_df.append({'Value' : value , 'Percentage of Defaulter' : (default_cnt*100/total_cnt)}, ignore_index=True)\n",
    "    return new_df.sort_values(by='Percentage of Defaulter', ascending=False)"
   ]
  },
  {
   "cell_type": "code",
   "execution_count": 169,
   "metadata": {},
   "outputs": [
    {
     "data": {
      "text/plain": [
       "N_Default_L3m                   0\n",
       "Branch_Code                     0\n",
       "Max_Utilization                 0\n",
       "Max_Perc_Def_Chg_Pending    21078\n",
       "N_Family_Member                 0\n",
       "Max_Ratio_OC_Pending_POS    72646\n",
       "N_PosBkt_L3m                 5338\n",
       "CoAp_Income                 77135\n",
       "Ever_Default_L12M               0\n",
       "Perc_Paymode_Online             0\n",
       "Perc_Repay_Fail                 0\n",
       "Birth_Year                      0\n",
       "Max_DPD_L3m                     0\n",
       "Perc_Paymode_Cheq_Fail      23477\n",
       "Age                             0\n",
       "Total_Field_Trails          54712\n",
       "Total_Resolved              50305\n",
       "N_Enq_L9m                       0\n",
       "Max_Loan_Balance_Others       341\n",
       "N_WorkEx_Yr                     0\n",
       "Target_Flag                     0\n",
       "dtype: int64"
      ]
     },
     "execution_count": 169,
     "metadata": {},
     "output_type": "execute_result"
    }
   ],
   "source": [
    "df.isna().sum()"
   ]
  },
  {
   "cell_type": "code",
   "execution_count": 170,
   "metadata": {},
   "outputs": [
    {
     "data": {
      "text/plain": [
       "1.0    15255\n",
       "2.0     7032\n",
       "3.0     4881\n",
       "0.0     3780\n",
       "Name: Total_Resolved, dtype: int64"
      ]
     },
     "execution_count": 170,
     "metadata": {},
     "output_type": "execute_result"
    }
   ],
   "source": [
    "df['Total_Resolved'].value_counts()"
   ]
  },
  {
   "cell_type": "code",
   "execution_count": 171,
   "metadata": {},
   "outputs": [],
   "source": [
    "df['Total_Resolved'].fillna('None', inplace= True)\n"
   ]
  },
  {
   "cell_type": "code",
   "execution_count": 172,
   "metadata": {},
   "outputs": [
    {
     "data": {
      "text/plain": [
       "0.0    18186\n",
       "1.0     5993\n",
       "2.0     1725\n",
       "3.0      567\n",
       "4.0       49\n",
       "5.0       13\n",
       "6.0        6\n",
       "9.0        1\n",
       "7.0        1\n",
       "Name: Total_Field_Trails, dtype: int64"
      ]
     },
     "execution_count": 172,
     "metadata": {},
     "output_type": "execute_result"
    }
   ],
   "source": [
    "df['Total_Field_Trails'].value_counts()"
   ]
  },
  {
   "cell_type": "code",
   "execution_count": 173,
   "metadata": {},
   "outputs": [],
   "source": [
    "df['Total_Field_Trails'].fillna(0, inplace= True)"
   ]
  },
  {
   "cell_type": "code",
   "execution_count": 174,
   "metadata": {},
   "outputs": [],
   "source": [
    "df['Max_Ratio_OC_Pending_POS'].fillna('Others', inplace=True)"
   ]
  },
  {
   "cell_type": "code",
   "execution_count": 175,
   "metadata": {},
   "outputs": [],
   "source": [
    "df['Max_Loan_Balance_Others'].fillna(0, inplace= True)"
   ]
  },
  {
   "cell_type": "code",
   "execution_count": 176,
   "metadata": {},
   "outputs": [],
   "source": [
    "df['Perc_Paymode_Cheq_Fail'].fillna(0, inplace= True)"
   ]
  },
  {
   "cell_type": "code",
   "execution_count": 177,
   "metadata": {},
   "outputs": [
    {
     "data": {
      "text/plain": [
       "N_Default_L3m                   0\n",
       "Branch_Code                     0\n",
       "Max_Utilization                 0\n",
       "Max_Perc_Def_Chg_Pending    21078\n",
       "N_Family_Member                 0\n",
       "Max_Ratio_OC_Pending_POS        0\n",
       "N_PosBkt_L3m                 5338\n",
       "CoAp_Income                 77135\n",
       "Ever_Default_L12M               0\n",
       "Perc_Paymode_Online             0\n",
       "Perc_Repay_Fail                 0\n",
       "Birth_Year                      0\n",
       "Max_DPD_L3m                     0\n",
       "Perc_Paymode_Cheq_Fail          0\n",
       "Age                             0\n",
       "Total_Field_Trails              0\n",
       "Total_Resolved                  0\n",
       "N_Enq_L9m                       0\n",
       "Max_Loan_Balance_Others         0\n",
       "N_WorkEx_Yr                     0\n",
       "Target_Flag                     0\n",
       "dtype: int64"
      ]
     },
     "execution_count": 177,
     "metadata": {},
     "output_type": "execute_result"
    }
   ],
   "source": [
    "df.isna().sum()"
   ]
  },
  {
   "cell_type": "code",
   "execution_count": 178,
   "metadata": {},
   "outputs": [],
   "source": [
    "df['Max_Perc_Def_Chg_Pending'].fillna('None', inplace= True)"
   ]
  },
  {
   "cell_type": "code",
   "execution_count": 179,
   "metadata": {},
   "outputs": [],
   "source": [
    "df['N_PosBkt_L3m'].fillna(0, inplace= True)"
   ]
  },
  {
   "cell_type": "markdown",
   "metadata": {},
   "source": [
    "Now dropping some columns which are not needed\n"
   ]
  },
  {
   "cell_type": "code",
   "execution_count": 180,
   "metadata": {},
   "outputs": [
    {
     "data": {
      "text/plain": [
       "45722"
      ]
     },
     "execution_count": 180,
     "metadata": {},
     "output_type": "execute_result"
    }
   ],
   "source": [
    "len(df['Branch_Code'].unique())"
   ]
  },
  {
   "cell_type": "markdown",
   "metadata": {},
   "source": [
    "huge no of branches so no point in exploring them."
   ]
  },
  {
   "cell_type": "code",
   "execution_count": 181,
   "metadata": {},
   "outputs": [],
   "source": [
    "df.drop(columns=['CoAp_Income', 'Branch_Code'], inplace=True)"
   ]
  },
  {
   "cell_type": "code",
   "execution_count": 182,
   "metadata": {},
   "outputs": [
    {
     "data": {
      "text/html": [
       "<div>\n",
       "<style scoped>\n",
       "    .dataframe tbody tr th:only-of-type {\n",
       "        vertical-align: middle;\n",
       "    }\n",
       "\n",
       "    .dataframe tbody tr th {\n",
       "        vertical-align: top;\n",
       "    }\n",
       "\n",
       "    .dataframe thead th {\n",
       "        text-align: right;\n",
       "    }\n",
       "</style>\n",
       "<table border=\"1\" class=\"dataframe\">\n",
       "  <thead>\n",
       "    <tr style=\"text-align: right;\">\n",
       "      <th></th>\n",
       "      <th>N_Default_L3m</th>\n",
       "      <th>Max_Utilization</th>\n",
       "      <th>Max_Perc_Def_Chg_Pending</th>\n",
       "      <th>N_Family_Member</th>\n",
       "      <th>Max_Ratio_OC_Pending_POS</th>\n",
       "      <th>N_PosBkt_L3m</th>\n",
       "      <th>Ever_Default_L12M</th>\n",
       "      <th>Perc_Paymode_Online</th>\n",
       "      <th>Perc_Repay_Fail</th>\n",
       "      <th>Birth_Year</th>\n",
       "      <th>Max_DPD_L3m</th>\n",
       "      <th>Perc_Paymode_Cheq_Fail</th>\n",
       "      <th>Age</th>\n",
       "      <th>Total_Field_Trails</th>\n",
       "      <th>Total_Resolved</th>\n",
       "      <th>N_Enq_L9m</th>\n",
       "      <th>Max_Loan_Balance_Others</th>\n",
       "      <th>N_WorkEx_Yr</th>\n",
       "      <th>Target_Flag</th>\n",
       "    </tr>\n",
       "    <tr>\n",
       "      <th>Customer_No</th>\n",
       "      <th></th>\n",
       "      <th></th>\n",
       "      <th></th>\n",
       "      <th></th>\n",
       "      <th></th>\n",
       "      <th></th>\n",
       "      <th></th>\n",
       "      <th></th>\n",
       "      <th></th>\n",
       "      <th></th>\n",
       "      <th></th>\n",
       "      <th></th>\n",
       "      <th></th>\n",
       "      <th></th>\n",
       "      <th></th>\n",
       "      <th></th>\n",
       "      <th></th>\n",
       "      <th></th>\n",
       "      <th></th>\n",
       "    </tr>\n",
       "  </thead>\n",
       "  <tbody>\n",
       "    <tr>\n",
       "      <th>17418</th>\n",
       "      <td>3</td>\n",
       "      <td>39</td>\n",
       "      <td>42.0</td>\n",
       "      <td>1</td>\n",
       "      <td>Others</td>\n",
       "      <td>0.0</td>\n",
       "      <td>1</td>\n",
       "      <td>0.111111</td>\n",
       "      <td>0.333333</td>\n",
       "      <td>2001</td>\n",
       "      <td>10.0</td>\n",
       "      <td>0.500000</td>\n",
       "      <td>22</td>\n",
       "      <td>0.0</td>\n",
       "      <td>None</td>\n",
       "      <td>1</td>\n",
       "      <td>7886.0</td>\n",
       "      <td>2</td>\n",
       "      <td>0</td>\n",
       "    </tr>\n",
       "    <tr>\n",
       "      <th>16266</th>\n",
       "      <td>3</td>\n",
       "      <td>86</td>\n",
       "      <td>100.0</td>\n",
       "      <td>-3</td>\n",
       "      <td>Others</td>\n",
       "      <td>0.0</td>\n",
       "      <td>1</td>\n",
       "      <td>0.125000</td>\n",
       "      <td>0.375000</td>\n",
       "      <td>1998</td>\n",
       "      <td>20.0</td>\n",
       "      <td>0.600000</td>\n",
       "      <td>25</td>\n",
       "      <td>0.0</td>\n",
       "      <td>None</td>\n",
       "      <td>0</td>\n",
       "      <td>14315.0</td>\n",
       "      <td>3</td>\n",
       "      <td>0</td>\n",
       "    </tr>\n",
       "    <tr>\n",
       "      <th>15678</th>\n",
       "      <td>0</td>\n",
       "      <td>64</td>\n",
       "      <td>100.0</td>\n",
       "      <td>6</td>\n",
       "      <td>Others</td>\n",
       "      <td>0.0</td>\n",
       "      <td>1</td>\n",
       "      <td>0.000000</td>\n",
       "      <td>0.000000</td>\n",
       "      <td>1997</td>\n",
       "      <td>0.0</td>\n",
       "      <td>0.000000</td>\n",
       "      <td>26</td>\n",
       "      <td>0.0</td>\n",
       "      <td>None</td>\n",
       "      <td>1</td>\n",
       "      <td>21939.0</td>\n",
       "      <td>6</td>\n",
       "      <td>0</td>\n",
       "    </tr>\n",
       "    <tr>\n",
       "      <th>1933</th>\n",
       "      <td>1</td>\n",
       "      <td>51</td>\n",
       "      <td>100.0</td>\n",
       "      <td>10</td>\n",
       "      <td>Others</td>\n",
       "      <td>0.0</td>\n",
       "      <td>1</td>\n",
       "      <td>0.000000</td>\n",
       "      <td>0.200000</td>\n",
       "      <td>1993</td>\n",
       "      <td>2.0</td>\n",
       "      <td>0.500000</td>\n",
       "      <td>30</td>\n",
       "      <td>0.0</td>\n",
       "      <td>None</td>\n",
       "      <td>0</td>\n",
       "      <td>8941.0</td>\n",
       "      <td>10</td>\n",
       "      <td>0</td>\n",
       "    </tr>\n",
       "    <tr>\n",
       "      <th>14745</th>\n",
       "      <td>1</td>\n",
       "      <td>100</td>\n",
       "      <td>100.0</td>\n",
       "      <td>-4</td>\n",
       "      <td>Others</td>\n",
       "      <td>0.0</td>\n",
       "      <td>1</td>\n",
       "      <td>0.250000</td>\n",
       "      <td>0.250000</td>\n",
       "      <td>1993</td>\n",
       "      <td>25.0</td>\n",
       "      <td>0.500000</td>\n",
       "      <td>30</td>\n",
       "      <td>0.0</td>\n",
       "      <td>None</td>\n",
       "      <td>2</td>\n",
       "      <td>11811.0</td>\n",
       "      <td>10</td>\n",
       "      <td>0</td>\n",
       "    </tr>\n",
       "    <tr>\n",
       "      <th>19526</th>\n",
       "      <td>0</td>\n",
       "      <td>29</td>\n",
       "      <td>75.0</td>\n",
       "      <td>11</td>\n",
       "      <td>Others</td>\n",
       "      <td>0.0</td>\n",
       "      <td>1</td>\n",
       "      <td>0.000000</td>\n",
       "      <td>0.000000</td>\n",
       "      <td>1993</td>\n",
       "      <td>0.0</td>\n",
       "      <td>0.000000</td>\n",
       "      <td>30</td>\n",
       "      <td>0.0</td>\n",
       "      <td>None</td>\n",
       "      <td>0</td>\n",
       "      <td>483275.0</td>\n",
       "      <td>10</td>\n",
       "      <td>0</td>\n",
       "    </tr>\n",
       "    <tr>\n",
       "      <th>25844</th>\n",
       "      <td>3</td>\n",
       "      <td>39</td>\n",
       "      <td>100.0</td>\n",
       "      <td>7</td>\n",
       "      <td>Others</td>\n",
       "      <td>0.0</td>\n",
       "      <td>1</td>\n",
       "      <td>0.250000</td>\n",
       "      <td>0.375000</td>\n",
       "      <td>1997</td>\n",
       "      <td>23.0</td>\n",
       "      <td>0.600000</td>\n",
       "      <td>26</td>\n",
       "      <td>0.0</td>\n",
       "      <td>None</td>\n",
       "      <td>2</td>\n",
       "      <td>3714.0</td>\n",
       "      <td>6</td>\n",
       "      <td>0</td>\n",
       "    </tr>\n",
       "    <tr>\n",
       "      <th>19822</th>\n",
       "      <td>3</td>\n",
       "      <td>52</td>\n",
       "      <td>67.0</td>\n",
       "      <td>-4</td>\n",
       "      <td>Others</td>\n",
       "      <td>0.0</td>\n",
       "      <td>1</td>\n",
       "      <td>0.000000</td>\n",
       "      <td>0.272727</td>\n",
       "      <td>1989</td>\n",
       "      <td>21.0</td>\n",
       "      <td>0.428571</td>\n",
       "      <td>34</td>\n",
       "      <td>0.0</td>\n",
       "      <td>None</td>\n",
       "      <td>0</td>\n",
       "      <td>78988.0</td>\n",
       "      <td>14</td>\n",
       "      <td>0</td>\n",
       "    </tr>\n",
       "    <tr>\n",
       "      <th>12497</th>\n",
       "      <td>0</td>\n",
       "      <td>44</td>\n",
       "      <td>None</td>\n",
       "      <td>1</td>\n",
       "      <td>Others</td>\n",
       "      <td>0.0</td>\n",
       "      <td>0</td>\n",
       "      <td>0.000000</td>\n",
       "      <td>0.000000</td>\n",
       "      <td>1978</td>\n",
       "      <td>0.0</td>\n",
       "      <td>0.000000</td>\n",
       "      <td>45</td>\n",
       "      <td>0.0</td>\n",
       "      <td>None</td>\n",
       "      <td>0</td>\n",
       "      <td>6459.0</td>\n",
       "      <td>3</td>\n",
       "      <td>0</td>\n",
       "    </tr>\n",
       "    <tr>\n",
       "      <th>54069</th>\n",
       "      <td>0</td>\n",
       "      <td>76</td>\n",
       "      <td>None</td>\n",
       "      <td>0</td>\n",
       "      <td>Others</td>\n",
       "      <td>0.0</td>\n",
       "      <td>0</td>\n",
       "      <td>0.000000</td>\n",
       "      <td>0.000000</td>\n",
       "      <td>1994</td>\n",
       "      <td>0.0</td>\n",
       "      <td>0.000000</td>\n",
       "      <td>29</td>\n",
       "      <td>0.0</td>\n",
       "      <td>None</td>\n",
       "      <td>0</td>\n",
       "      <td>499008.0</td>\n",
       "      <td>9</td>\n",
       "      <td>0</td>\n",
       "    </tr>\n",
       "  </tbody>\n",
       "</table>\n",
       "</div>"
      ],
      "text/plain": [
       "             N_Default_L3m  Max_Utilization Max_Perc_Def_Chg_Pending  \\\n",
       "Customer_No                                                            \n",
       "17418                    3               39                     42.0   \n",
       "16266                    3               86                    100.0   \n",
       "15678                    0               64                    100.0   \n",
       "1933                     1               51                    100.0   \n",
       "14745                    1              100                    100.0   \n",
       "19526                    0               29                     75.0   \n",
       "25844                    3               39                    100.0   \n",
       "19822                    3               52                     67.0   \n",
       "12497                    0               44                     None   \n",
       "54069                    0               76                     None   \n",
       "\n",
       "             N_Family_Member Max_Ratio_OC_Pending_POS  N_PosBkt_L3m  \\\n",
       "Customer_No                                                           \n",
       "17418                      1                   Others           0.0   \n",
       "16266                     -3                   Others           0.0   \n",
       "15678                      6                   Others           0.0   \n",
       "1933                      10                   Others           0.0   \n",
       "14745                     -4                   Others           0.0   \n",
       "19526                     11                   Others           0.0   \n",
       "25844                      7                   Others           0.0   \n",
       "19822                     -4                   Others           0.0   \n",
       "12497                      1                   Others           0.0   \n",
       "54069                      0                   Others           0.0   \n",
       "\n",
       "             Ever_Default_L12M  Perc_Paymode_Online  Perc_Repay_Fail  \\\n",
       "Customer_No                                                            \n",
       "17418                        1             0.111111         0.333333   \n",
       "16266                        1             0.125000         0.375000   \n",
       "15678                        1             0.000000         0.000000   \n",
       "1933                         1             0.000000         0.200000   \n",
       "14745                        1             0.250000         0.250000   \n",
       "19526                        1             0.000000         0.000000   \n",
       "25844                        1             0.250000         0.375000   \n",
       "19822                        1             0.000000         0.272727   \n",
       "12497                        0             0.000000         0.000000   \n",
       "54069                        0             0.000000         0.000000   \n",
       "\n",
       "             Birth_Year  Max_DPD_L3m  Perc_Paymode_Cheq_Fail  Age  \\\n",
       "Customer_No                                                         \n",
       "17418              2001         10.0                0.500000   22   \n",
       "16266              1998         20.0                0.600000   25   \n",
       "15678              1997          0.0                0.000000   26   \n",
       "1933               1993          2.0                0.500000   30   \n",
       "14745              1993         25.0                0.500000   30   \n",
       "19526              1993          0.0                0.000000   30   \n",
       "25844              1997         23.0                0.600000   26   \n",
       "19822              1989         21.0                0.428571   34   \n",
       "12497              1978          0.0                0.000000   45   \n",
       "54069              1994          0.0                0.000000   29   \n",
       "\n",
       "             Total_Field_Trails Total_Resolved  N_Enq_L9m  \\\n",
       "Customer_No                                                 \n",
       "17418                       0.0           None          1   \n",
       "16266                       0.0           None          0   \n",
       "15678                       0.0           None          1   \n",
       "1933                        0.0           None          0   \n",
       "14745                       0.0           None          2   \n",
       "19526                       0.0           None          0   \n",
       "25844                       0.0           None          2   \n",
       "19822                       0.0           None          0   \n",
       "12497                       0.0           None          0   \n",
       "54069                       0.0           None          0   \n",
       "\n",
       "             Max_Loan_Balance_Others  N_WorkEx_Yr  Target_Flag  \n",
       "Customer_No                                                     \n",
       "17418                         7886.0            2            0  \n",
       "16266                        14315.0            3            0  \n",
       "15678                        21939.0            6            0  \n",
       "1933                          8941.0           10            0  \n",
       "14745                        11811.0           10            0  \n",
       "19526                       483275.0           10            0  \n",
       "25844                         3714.0            6            0  \n",
       "19822                        78988.0           14            0  \n",
       "12497                         6459.0            3            0  \n",
       "54069                       499008.0            9            0  "
      ]
     },
     "execution_count": 182,
     "metadata": {},
     "output_type": "execute_result"
    }
   ],
   "source": [
    "df.sample(10)"
   ]
  },
  {
   "cell_type": "code",
   "execution_count": 183,
   "metadata": {},
   "outputs": [
    {
     "data": {
      "text/plain": [
       "100.0    44999\n",
       "None     21078\n",
       "0.0       5277\n",
       "50.0      2435\n",
       "67.0      1532\n",
       "         ...  \n",
       "11.0         2\n",
       "7.0          2\n",
       "16.0         2\n",
       "28.0         1\n",
       "23.0         1\n",
       "Name: Max_Perc_Def_Chg_Pending, Length: 102, dtype: int64"
      ]
     },
     "execution_count": 183,
     "metadata": {},
     "output_type": "execute_result"
    }
   ],
   "source": [
    "df['Max_Perc_Def_Chg_Pending'].value_counts()"
   ]
  },
  {
   "cell_type": "markdown",
   "metadata": {},
   "source": [
    "we see that some values are negative so lets make them positive."
   ]
  },
  {
   "cell_type": "code",
   "execution_count": 184,
   "metadata": {},
   "outputs": [],
   "source": [
    "df['N_Family_Member'] = df['N_Family_Member'].abs()"
   ]
  },
  {
   "cell_type": "code",
   "execution_count": 185,
   "metadata": {},
   "outputs": [],
   "source": [
    "df['N_WorkEx_Yr'] = df['N_WorkEx_Yr'].abs()"
   ]
  },
  {
   "cell_type": "code",
   "execution_count": 186,
   "metadata": {},
   "outputs": [],
   "source": [
    "df['Max_Loan_Balance_Others'] = df['Max_Loan_Balance_Others'].abs()"
   ]
  },
  {
   "cell_type": "code",
   "execution_count": 187,
   "metadata": {},
   "outputs": [
    {
     "name": "stdout",
     "output_type": "stream",
     "text": [
      "<class 'pandas.core.frame.DataFrame'>\n",
      "Int64Index: 81253 entries, 1 to 81253\n",
      "Data columns (total 19 columns):\n",
      " #   Column                    Non-Null Count  Dtype  \n",
      "---  ------                    --------------  -----  \n",
      " 0   N_Default_L3m             81253 non-null  int64  \n",
      " 1   Max_Utilization           81253 non-null  int64  \n",
      " 2   Max_Perc_Def_Chg_Pending  81253 non-null  object \n",
      " 3   N_Family_Member           81253 non-null  int64  \n",
      " 4   Max_Ratio_OC_Pending_POS  81253 non-null  object \n",
      " 5   N_PosBkt_L3m              81253 non-null  float64\n",
      " 6   Ever_Default_L12M         81253 non-null  int64  \n",
      " 7   Perc_Paymode_Online       81253 non-null  float64\n",
      " 8   Perc_Repay_Fail           81253 non-null  float64\n",
      " 9   Birth_Year                81253 non-null  int64  \n",
      " 10  Max_DPD_L3m               81253 non-null  float64\n",
      " 11  Perc_Paymode_Cheq_Fail    81253 non-null  float64\n",
      " 12  Age                       81253 non-null  int64  \n",
      " 13  Total_Field_Trails        81253 non-null  float64\n",
      " 14  Total_Resolved            81253 non-null  object \n",
      " 15  N_Enq_L9m                 81253 non-null  int64  \n",
      " 16  Max_Loan_Balance_Others   81253 non-null  float64\n",
      " 17  N_WorkEx_Yr               81253 non-null  int64  \n",
      " 18  Target_Flag               81253 non-null  int64  \n",
      "dtypes: float64(7), int64(9), object(3)\n",
      "memory usage: 12.4+ MB\n"
     ]
    }
   ],
   "source": [
    "df.info()"
   ]
  },
  {
   "cell_type": "code",
   "execution_count": 188,
   "metadata": {},
   "outputs": [
    {
     "data": {
      "text/plain": [
       "Customer_No\n",
       "1        100.0\n",
       "2        100.0\n",
       "3         50.0\n",
       "4         None\n",
       "5         33.0\n",
       "         ...  \n",
       "81249    100.0\n",
       "81250    100.0\n",
       "81251    100.0\n",
       "81252      0.0\n",
       "81253    100.0\n",
       "Name: Max_Perc_Def_Chg_Pending, Length: 81253, dtype: object"
      ]
     },
     "execution_count": 188,
     "metadata": {},
     "output_type": "execute_result"
    }
   ],
   "source": [
    "df['Max_Perc_Def_Chg_Pending']"
   ]
  },
  {
   "cell_type": "code",
   "execution_count": 189,
   "metadata": {},
   "outputs": [],
   "source": [
    "categorical_cols = ['N_Default_L3m','N_Family_Member', 'N_PosBkt_L3m', 'Ever_Default_L12M','Total_Field_Trails', 'Total_Resolved']"
   ]
  },
  {
   "cell_type": "markdown",
   "metadata": {},
   "source": [
    "Identifying outliers:\n"
   ]
  },
  {
   "cell_type": "code",
   "execution_count": 190,
   "metadata": {},
   "outputs": [
    {
     "data": {
      "text/plain": [
       "<Axes: >"
      ]
     },
     "execution_count": 190,
     "metadata": {},
     "output_type": "execute_result"
    },
    {
     "data": {
      "image/png": "[encoded data removed]",
      "text/plain": [
       "<Figure size 640x480 with 1 Axes>"
      ]
     },
     "metadata": {},
     "output_type": "display_data"
    }
   ],
   "source": [
    "df['Age'].plot(kind='box')"
   ]
  },
  {
   "cell_type": "code",
   "execution_count": 191,
   "metadata": {},
   "outputs": [
    {
     "data": {
      "image/png": "[encoded data removed]",
      "text/plain": [
       "<Figure size 400x400 with 1 Axes>"
      ]
     },
     "metadata": {},
     "output_type": "display_data"
    },
    {
     "data": {
      "image/png": "[encoded data removed]",
      "text/plain": [
       "<Figure size 400x400 with 1 Axes>"
      ]
     },
     "metadata": {},
     "output_type": "display_data"
    },
    {
     "data": {
      "text/plain": [
       "<Figure size 400x400 with 0 Axes>"
      ]
     },
     "metadata": {},
     "output_type": "display_data"
    },
    {
     "data": {
      "image/png": "[encoded data removed]",
      "text/plain": [
       "<Figure size 400x400 with 1 Axes>"
      ]
     },
     "metadata": {},
     "output_type": "display_data"
    },
    {
     "data": {
      "text/plain": [
       "<Figure size 400x400 with 0 Axes>"
      ]
     },
     "metadata": {},
     "output_type": "display_data"
    },
    {
     "data": {
      "image/png": "[encoded data removed]",
      "text/plain": [
       "<Figure size 400x400 with 1 Axes>"
      ]
     },
     "metadata": {},
     "output_type": "display_data"
    },
    {
     "data": {
      "image/png": "[encoded data removed]",
      "text/plain": [
       "<Figure size 400x400 with 1 Axes>"
      ]
     },
     "metadata": {},
     "output_type": "display_data"
    },
    {
     "data": {
      "image/png": "[encoded data removed]",
      "text/plain": [
       "<Figure size 400x400 with 1 Axes>"
      ]
     },
     "metadata": {},
     "output_type": "display_data"
    },
    {
     "data": {
      "image/png": "[encoded data removed]",
      "text/plain": [
       "<Figure size 400x400 with 1 Axes>"
      ]
     },
     "metadata": {},
     "output_type": "display_data"
    },
    {
     "data": {
      "image/png": "[encoded data removed]",
      "text/plain": [
       "<Figure size 400x400 with 1 Axes>"
      ]
     },
     "metadata": {},
     "output_type": "display_data"
    },
    {
     "data": {
      "image/png": "[encoded data removed]",
      "text/plain": [
       "<Figure size 400x400 with 1 Axes>"
      ]
     },
     "metadata": {},
     "output_type": "display_data"
    },
    {
     "data": {
      "image/png": "[encoded data removed]",
      "text/plain": [
       "<Figure size 400x400 with 1 Axes>"
      ]
     },
     "metadata": {},
     "output_type": "display_data"
    },
    {
     "data": {
      "image/png": "[encoded data removed]",
      "text/plain": [
       "<Figure size 400x400 with 1 Axes>"
      ]
     },
     "metadata": {},
     "output_type": "display_data"
    },
    {
     "data": {
      "image/png": "[encoded data removed]",
      "text/plain": [
       "<Figure size 400x400 with 1 Axes>"
      ]
     },
     "metadata": {},
     "output_type": "display_data"
    },
    {
     "data": {
      "text/plain": [
       "<Figure size 400x400 with 0 Axes>"
      ]
     },
     "metadata": {},
     "output_type": "display_data"
    },
    {
     "data": {
      "image/png": "[encoded data removed]",
      "text/plain": [
       "<Figure size 400x400 with 1 Axes>"
      ]
     },
     "metadata": {},
     "output_type": "display_data"
    },
    {
     "data": {
      "image/png": "[encoded data removed]",
      "text/plain": [
       "<Figure size 400x400 with 1 Axes>"
      ]
     },
     "metadata": {},
     "output_type": "display_data"
    },
    {
     "data": {
      "image/png": "[encoded data removed]",
      "text/plain": [
       "<Figure size 400x400 with 1 Axes>"
      ]
     },
     "metadata": {},
     "output_type": "display_data"
    },
    {
     "data": {
      "image/png": "[encoded data removed]",
      "text/plain": [
       "<Figure size 400x400 with 1 Axes>"
      ]
     },
     "metadata": {},
     "output_type": "display_data"
    }
   ],
   "source": [
    "for col in df.columns:\n",
    "    plt.figure(figsize=(4,4))\n",
    "    if df[col].dtype != 'O':\n",
    "        df[col].plot(kind='box')"
   ]
  },
  {
   "cell_type": "code",
   "execution_count": 192,
   "metadata": {},
   "outputs": [
    {
     "data": {
      "text/html": [
       "<div>\n",
       "<style scoped>\n",
       "    .dataframe tbody tr th:only-of-type {\n",
       "        vertical-align: middle;\n",
       "    }\n",
       "\n",
       "    .dataframe tbody tr th {\n",
       "        vertical-align: top;\n",
       "    }\n",
       "\n",
       "    .dataframe thead th {\n",
       "        text-align: right;\n",
       "    }\n",
       "</style>\n",
       "<table border=\"1\" class=\"dataframe\">\n",
       "  <thead>\n",
       "    <tr style=\"text-align: right;\">\n",
       "      <th></th>\n",
       "      <th>Target_Flag</th>\n",
       "      <th>Total_Field_Trails</th>\n",
       "    </tr>\n",
       "    <tr>\n",
       "      <th>Customer_No</th>\n",
       "      <th></th>\n",
       "      <th></th>\n",
       "    </tr>\n",
       "  </thead>\n",
       "  <tbody>\n",
       "    <tr>\n",
       "      <th>6493</th>\n",
       "      <td>0</td>\n",
       "      <td>6.0</td>\n",
       "    </tr>\n",
       "    <tr>\n",
       "      <th>28708</th>\n",
       "      <td>0</td>\n",
       "      <td>6.0</td>\n",
       "    </tr>\n",
       "    <tr>\n",
       "      <th>28986</th>\n",
       "      <td>1</td>\n",
       "      <td>6.0</td>\n",
       "    </tr>\n",
       "    <tr>\n",
       "      <th>29239</th>\n",
       "      <td>1</td>\n",
       "      <td>9.0</td>\n",
       "    </tr>\n",
       "    <tr>\n",
       "      <th>36039</th>\n",
       "      <td>0</td>\n",
       "      <td>6.0</td>\n",
       "    </tr>\n",
       "    <tr>\n",
       "      <th>40763</th>\n",
       "      <td>0</td>\n",
       "      <td>7.0</td>\n",
       "    </tr>\n",
       "    <tr>\n",
       "      <th>41244</th>\n",
       "      <td>0</td>\n",
       "      <td>6.0</td>\n",
       "    </tr>\n",
       "    <tr>\n",
       "      <th>41977</th>\n",
       "      <td>0</td>\n",
       "      <td>6.0</td>\n",
       "    </tr>\n",
       "  </tbody>\n",
       "</table>\n",
       "</div>"
      ],
      "text/plain": [
       "             Target_Flag  Total_Field_Trails\n",
       "Customer_No                                 \n",
       "6493                   0                 6.0\n",
       "28708                  0                 6.0\n",
       "28986                  1                 6.0\n",
       "29239                  1                 9.0\n",
       "36039                  0                 6.0\n",
       "40763                  0                 7.0\n",
       "41244                  0                 6.0\n",
       "41977                  0                 6.0"
      ]
     },
     "execution_count": 192,
     "metadata": {},
     "output_type": "execute_result"
    }
   ],
   "source": [
    "df.loc[df['Total_Field_Trails'] >= 6, ['Target_Flag','Total_Field_Trails'] ]\n"
   ]
  },
  {
   "cell_type": "code",
   "execution_count": 193,
   "metadata": {},
   "outputs": [
    {
     "data": {
      "text/plain": [
       "Target_Flag\n",
       "0              11\n",
       "1               1\n",
       "dtype: int64"
      ]
     },
     "execution_count": 193,
     "metadata": {},
     "output_type": "execute_result"
    }
   ],
   "source": [
    "df.loc[df['N_Enq_L9m'] >= 24, ['Target_Flag'] ].value_counts()\n"
   ]
  },
  {
   "cell_type": "code",
   "execution_count": 194,
   "metadata": {},
   "outputs": [
    {
     "data": {
      "text/plain": [
       "Target_Flag\n",
       "0              8\n",
       "dtype: int64"
      ]
     },
     "execution_count": 194,
     "metadata": {},
     "output_type": "execute_result"
    }
   ],
   "source": [
    "df.loc[df['Perc_Paymode_Online'] >= 0.6, ['Target_Flag'] ].value_counts()"
   ]
  },
  {
   "cell_type": "code",
   "execution_count": 195,
   "metadata": {},
   "outputs": [
    {
     "data": {
      "text/plain": [
       "Target_Flag\n",
       "0              28\n",
       "1               6\n",
       "dtype: int64"
      ]
     },
     "execution_count": 195,
     "metadata": {},
     "output_type": "execute_result"
    }
   ],
   "source": [
    "df.loc[df['Max_Loan_Balance_Others'] >= 6000000, ['Target_Flag'] ].value_counts()"
   ]
  },
  {
   "cell_type": "code",
   "execution_count": 196,
   "metadata": {},
   "outputs": [
    {
     "name": "stderr",
     "output_type": "stream",
     "text": [
      "No artists with labels found to put in legend.  Note that artists whose label start with an underscore are ignored when legend() is called with no argument.\n"
     ]
    },
    {
     "data": {
      "image/png": "[encoded data removed]",
      "text/plain": [
       "<Figure size 640x480 with 1 Axes>"
      ]
     },
     "metadata": {},
     "output_type": "display_data"
    }
   ],
   "source": [
    "import seaborn as sns\n",
    "import matplotlib.pyplot as plt\n",
    "\n",
    "# Create a histogram with color mapping based on 'Target_Flag'\n",
    "sns.histplot(data=df, x='Max_Utilization', hue='Target_Flag', bins=20, palette='coolwarm')\n",
    "\n",
    "# Add labels to the axes\n",
    "plt.xlabel('Max_Utilization')\n",
    "plt.ylabel('Frequency')\n",
    "\n",
    "# Add a legend\n",
    "plt.legend(title='Target_Flag')\n",
    "\n",
    "# Show the plot\n",
    "plt.show()\n"
   ]
  },
  {
   "cell_type": "markdown",
   "metadata": {},
   "source": [
    "ABOVE DATA IS MISLEADING REMOVE THESE"
   ]
  },
  {
   "cell_type": "code",
   "execution_count": 197,
   "metadata": {},
   "outputs": [],
   "source": [
    "df = df[df['Total_Field_Trails'] < 6]\n"
   ]
  },
  {
   "cell_type": "code",
   "execution_count": 198,
   "metadata": {},
   "outputs": [],
   "source": [
    "df = df[df['N_Enq_L9m'] < 24]"
   ]
  },
  {
   "cell_type": "code",
   "execution_count": 199,
   "metadata": {},
   "outputs": [
    {
     "name": "stdout",
     "output_type": "stream",
     "text": [
      "<class 'pandas.core.frame.DataFrame'>\n",
      "Int64Index: 81233 entries, 1 to 81253\n",
      "Data columns (total 19 columns):\n",
      " #   Column                    Non-Null Count  Dtype  \n",
      "---  ------                    --------------  -----  \n",
      " 0   N_Default_L3m             81233 non-null  int64  \n",
      " 1   Max_Utilization           81233 non-null  int64  \n",
      " 2   Max_Perc_Def_Chg_Pending  81233 non-null  object \n",
      " 3   N_Family_Member           81233 non-null  int64  \n",
      " 4   Max_Ratio_OC_Pending_POS  81233 non-null  object \n",
      " 5   N_PosBkt_L3m              81233 non-null  float64\n",
      " 6   Ever_Default_L12M         81233 non-null  int64  \n",
      " 7   Perc_Paymode_Online       81233 non-null  float64\n",
      " 8   Perc_Repay_Fail           81233 non-null  float64\n",
      " 9   Birth_Year                81233 non-null  int64  \n",
      " 10  Max_DPD_L3m               81233 non-null  float64\n",
      " 11  Perc_Paymode_Cheq_Fail    81233 non-null  float64\n",
      " 12  Age                       81233 non-null  int64  \n",
      " 13  Total_Field_Trails        81233 non-null  float64\n",
      " 14  Total_Resolved            81233 non-null  object \n",
      " 15  N_Enq_L9m                 81233 non-null  int64  \n",
      " 16  Max_Loan_Balance_Others   81233 non-null  float64\n",
      " 17  N_WorkEx_Yr               81233 non-null  int64  \n",
      " 18  Target_Flag               81233 non-null  int64  \n",
      "dtypes: float64(7), int64(9), object(3)\n",
      "memory usage: 12.4+ MB\n"
     ]
    }
   ],
   "source": [
    "df.info()"
   ]
  },
  {
   "cell_type": "code",
   "execution_count": 200,
   "metadata": {},
   "outputs": [
    {
     "data": {
      "text/plain": [
       "array(['Others', 0.214887321, 0.673447646, ..., 0.052872437, 0.02128042,\n",
       "       0.043704567], dtype=object)"
      ]
     },
     "execution_count": 200,
     "metadata": {},
     "output_type": "execute_result"
    }
   ],
   "source": [
    "df['Max_Ratio_OC_Pending_POS'].unique()"
   ]
  },
  {
   "cell_type": "code",
   "execution_count": 212,
   "metadata": {},
   "outputs": [],
   "source": [
    "df['Max_Perc_Def_Chg_Pending'].replace({'None': 0}, inplace=True)"
   ]
  },
  {
   "cell_type": "code",
   "execution_count": 214,
   "metadata": {},
   "outputs": [],
   "source": [
    "df['Max_Ratio_OC_Pending_POS'].replace({'Others': 0}, inplace=True)"
   ]
  },
  {
   "cell_type": "code",
   "execution_count": 203,
   "metadata": {},
   "outputs": [
    {
     "data": {
      "text/plain": [
       "array(['None', 0.0, 1.0, 2.0, 3.0], dtype=object)"
      ]
     },
     "execution_count": 203,
     "metadata": {},
     "output_type": "execute_result"
    }
   ],
   "source": [
    "df['Total_Resolved'].unique()\n",
    "           "
   ]
  },
  {
   "cell_type": "code",
   "execution_count": 204,
   "metadata": {},
   "outputs": [],
   "source": [
    "df['Total_Resolved'].replace({'None': 0}, inplace=True)\n"
   ]
  },
  {
   "cell_type": "code",
   "execution_count": 205,
   "metadata": {},
   "outputs": [
    {
     "name": "stdout",
     "output_type": "stream",
     "text": [
      "<class 'pandas.core.frame.DataFrame'>\n",
      "Int64Index: 81233 entries, 1 to 81253\n",
      "Data columns (total 19 columns):\n",
      " #   Column                    Non-Null Count  Dtype  \n",
      "---  ------                    --------------  -----  \n",
      " 0   N_Default_L3m             81233 non-null  int64  \n",
      " 1   Max_Utilization           81233 non-null  int64  \n",
      " 2   Max_Perc_Def_Chg_Pending  81233 non-null  float64\n",
      " 3   N_Family_Member           81233 non-null  int64  \n",
      " 4   Max_Ratio_OC_Pending_POS  81233 non-null  object \n",
      " 5   N_PosBkt_L3m              81233 non-null  float64\n",
      " 6   Ever_Default_L12M         81233 non-null  int64  \n",
      " 7   Perc_Paymode_Online       81233 non-null  float64\n",
      " 8   Perc_Repay_Fail           81233 non-null  float64\n",
      " 9   Birth_Year                81233 non-null  int64  \n",
      " 10  Max_DPD_L3m               81233 non-null  float64\n",
      " 11  Perc_Paymode_Cheq_Fail    81233 non-null  float64\n",
      " 12  Age                       81233 non-null  int64  \n",
      " 13  Total_Field_Trails        81233 non-null  float64\n",
      " 14  Total_Resolved            81233 non-null  float64\n",
      " 15  N_Enq_L9m                 81233 non-null  int64  \n",
      " 16  Max_Loan_Balance_Others   81233 non-null  float64\n",
      " 17  N_WorkEx_Yr               81233 non-null  int64  \n",
      " 18  Target_Flag               81233 non-null  int64  \n",
      "dtypes: float64(9), int64(9), object(1)\n",
      "memory usage: 12.4+ MB\n"
     ]
    }
   ],
   "source": [
    "df.info()"
   ]
  },
  {
   "cell_type": "code",
   "execution_count": 206,
   "metadata": {},
   "outputs": [
    {
     "data": {
      "text/plain": [
       "array(['Others', 0.214887321, 0.673447646, ..., 0.052872437, 0.02128042,\n",
       "       0.043704567], dtype=object)"
      ]
     },
     "execution_count": 206,
     "metadata": {},
     "output_type": "execute_result"
    }
   ],
   "source": [
    "df['Max_Ratio_OC_Pending_POS'].unique()"
   ]
  },
  {
   "cell_type": "markdown",
   "metadata": {},
   "source": [
    "One Hot Encoding"
   ]
  },
  {
   "cell_type": "code",
   "execution_count": 207,
   "metadata": {},
   "outputs": [
    {
     "name": "stdout",
     "output_type": "stream",
     "text": [
      "[3 1 0 2]\n",
      "[5 1 3 0 11 2 7 4 9 6 10 8]\n",
      "[0.0 1.0 2.0 3.0]\n",
      "[1 0]\n",
      "[0.0 1.0 3.0 2.0 4.0 5.0]\n",
      "[0.0 1.0 2.0 3.0]\n"
     ]
    }
   ],
   "source": [
    "for col in categorical_cols:\n",
    "    df[col] = df[col].astype('object')\n",
    "    print(df[col].unique())\n"
   ]
  },
  {
   "cell_type": "code",
   "execution_count": 208,
   "metadata": {},
   "outputs": [],
   "source": [
    "for col in categorical_cols:\n",
    "    if df[col].dtype == 'object':\n",
    "        df = pd.get_dummies(df, columns=[col], drop_first=True)"
   ]
  },
  {
   "cell_type": "code",
   "execution_count": 215,
   "metadata": {},
   "outputs": [
    {
     "data": {
      "text/html": [
       "<div>\n",
       "<style scoped>\n",
       "    .dataframe tbody tr th:only-of-type {\n",
       "        vertical-align: middle;\n",
       "    }\n",
       "\n",
       "    .dataframe tbody tr th {\n",
       "        vertical-align: top;\n",
       "    }\n",
       "\n",
       "    .dataframe thead th {\n",
       "        text-align: right;\n",
       "    }\n",
       "</style>\n",
       "<table border=\"1\" class=\"dataframe\">\n",
       "  <thead>\n",
       "    <tr style=\"text-align: right;\">\n",
       "      <th></th>\n",
       "      <th>Max_Utilization</th>\n",
       "      <th>Max_Perc_Def_Chg_Pending</th>\n",
       "      <th>Max_Ratio_OC_Pending_POS</th>\n",
       "      <th>Perc_Paymode_Online</th>\n",
       "      <th>Perc_Repay_Fail</th>\n",
       "      <th>Birth_Year</th>\n",
       "      <th>Max_DPD_L3m</th>\n",
       "      <th>Perc_Paymode_Cheq_Fail</th>\n",
       "      <th>Age</th>\n",
       "      <th>N_Enq_L9m</th>\n",
       "      <th>...</th>\n",
       "      <th>N_PosBkt_L3m_3.0</th>\n",
       "      <th>Ever_Default_L12M_1</th>\n",
       "      <th>Total_Field_Trails_1.0</th>\n",
       "      <th>Total_Field_Trails_2.0</th>\n",
       "      <th>Total_Field_Trails_3.0</th>\n",
       "      <th>Total_Field_Trails_4.0</th>\n",
       "      <th>Total_Field_Trails_5.0</th>\n",
       "      <th>Total_Resolved_1.0</th>\n",
       "      <th>Total_Resolved_2.0</th>\n",
       "      <th>Total_Resolved_3.0</th>\n",
       "    </tr>\n",
       "    <tr>\n",
       "      <th>Customer_No</th>\n",
       "      <th></th>\n",
       "      <th></th>\n",
       "      <th></th>\n",
       "      <th></th>\n",
       "      <th></th>\n",
       "      <th></th>\n",
       "      <th></th>\n",
       "      <th></th>\n",
       "      <th></th>\n",
       "      <th></th>\n",
       "      <th></th>\n",
       "      <th></th>\n",
       "      <th></th>\n",
       "      <th></th>\n",
       "      <th></th>\n",
       "      <th></th>\n",
       "      <th></th>\n",
       "      <th></th>\n",
       "      <th></th>\n",
       "      <th></th>\n",
       "      <th></th>\n",
       "    </tr>\n",
       "  </thead>\n",
       "  <tbody>\n",
       "    <tr>\n",
       "      <th>1</th>\n",
       "      <td>38</td>\n",
       "      <td>100.0</td>\n",
       "      <td>0.0</td>\n",
       "      <td>0.285714</td>\n",
       "      <td>0.428571</td>\n",
       "      <td>1977</td>\n",
       "      <td>19.0</td>\n",
       "      <td>0.750</td>\n",
       "      <td>46</td>\n",
       "      <td>0</td>\n",
       "      <td>...</td>\n",
       "      <td>0</td>\n",
       "      <td>1</td>\n",
       "      <td>0</td>\n",
       "      <td>0</td>\n",
       "      <td>0</td>\n",
       "      <td>0</td>\n",
       "      <td>0</td>\n",
       "      <td>0</td>\n",
       "      <td>0</td>\n",
       "      <td>0</td>\n",
       "    </tr>\n",
       "    <tr>\n",
       "      <th>2</th>\n",
       "      <td>68</td>\n",
       "      <td>100.0</td>\n",
       "      <td>0.0</td>\n",
       "      <td>0.000000</td>\n",
       "      <td>0.200000</td>\n",
       "      <td>1990</td>\n",
       "      <td>2.0</td>\n",
       "      <td>0.500</td>\n",
       "      <td>33</td>\n",
       "      <td>0</td>\n",
       "      <td>...</td>\n",
       "      <td>0</td>\n",
       "      <td>1</td>\n",
       "      <td>0</td>\n",
       "      <td>0</td>\n",
       "      <td>0</td>\n",
       "      <td>0</td>\n",
       "      <td>0</td>\n",
       "      <td>0</td>\n",
       "      <td>0</td>\n",
       "      <td>0</td>\n",
       "    </tr>\n",
       "    <tr>\n",
       "      <th>3</th>\n",
       "      <td>39</td>\n",
       "      <td>50.0</td>\n",
       "      <td>0.0</td>\n",
       "      <td>0.200000</td>\n",
       "      <td>0.200000</td>\n",
       "      <td>1995</td>\n",
       "      <td>25.0</td>\n",
       "      <td>1.000</td>\n",
       "      <td>28</td>\n",
       "      <td>1</td>\n",
       "      <td>...</td>\n",
       "      <td>0</td>\n",
       "      <td>1</td>\n",
       "      <td>0</td>\n",
       "      <td>0</td>\n",
       "      <td>0</td>\n",
       "      <td>0</td>\n",
       "      <td>0</td>\n",
       "      <td>0</td>\n",
       "      <td>0</td>\n",
       "      <td>0</td>\n",
       "    </tr>\n",
       "    <tr>\n",
       "      <th>4</th>\n",
       "      <td>76</td>\n",
       "      <td>0.0</td>\n",
       "      <td>0.0</td>\n",
       "      <td>0.000000</td>\n",
       "      <td>0.000000</td>\n",
       "      <td>1997</td>\n",
       "      <td>0.0</td>\n",
       "      <td>0.000</td>\n",
       "      <td>26</td>\n",
       "      <td>2</td>\n",
       "      <td>...</td>\n",
       "      <td>0</td>\n",
       "      <td>0</td>\n",
       "      <td>0</td>\n",
       "      <td>0</td>\n",
       "      <td>0</td>\n",
       "      <td>0</td>\n",
       "      <td>0</td>\n",
       "      <td>0</td>\n",
       "      <td>0</td>\n",
       "      <td>0</td>\n",
       "    </tr>\n",
       "    <tr>\n",
       "      <th>5</th>\n",
       "      <td>23</td>\n",
       "      <td>33.0</td>\n",
       "      <td>0.0</td>\n",
       "      <td>0.250000</td>\n",
       "      <td>0.250000</td>\n",
       "      <td>1995</td>\n",
       "      <td>19.0</td>\n",
       "      <td>0.375</td>\n",
       "      <td>28</td>\n",
       "      <td>1</td>\n",
       "      <td>...</td>\n",
       "      <td>0</td>\n",
       "      <td>1</td>\n",
       "      <td>0</td>\n",
       "      <td>0</td>\n",
       "      <td>0</td>\n",
       "      <td>0</td>\n",
       "      <td>0</td>\n",
       "      <td>0</td>\n",
       "      <td>0</td>\n",
       "      <td>0</td>\n",
       "    </tr>\n",
       "  </tbody>\n",
       "</table>\n",
       "<p>5 rows × 39 columns</p>\n",
       "</div>"
      ],
      "text/plain": [
       "             Max_Utilization  Max_Perc_Def_Chg_Pending  \\\n",
       "Customer_No                                              \n",
       "1                         38                     100.0   \n",
       "2                         68                     100.0   \n",
       "3                         39                      50.0   \n",
       "4                         76                       0.0   \n",
       "5                         23                      33.0   \n",
       "\n",
       "             Max_Ratio_OC_Pending_POS  Perc_Paymode_Online  Perc_Repay_Fail  \\\n",
       "Customer_No                                                                   \n",
       "1                                 0.0             0.285714         0.428571   \n",
       "2                                 0.0             0.000000         0.200000   \n",
       "3                                 0.0             0.200000         0.200000   \n",
       "4                                 0.0             0.000000         0.000000   \n",
       "5                                 0.0             0.250000         0.250000   \n",
       "\n",
       "             Birth_Year  Max_DPD_L3m  Perc_Paymode_Cheq_Fail  Age  N_Enq_L9m  \\\n",
       "Customer_No                                                                    \n",
       "1                  1977         19.0                   0.750   46          0   \n",
       "2                  1990          2.0                   0.500   33          0   \n",
       "3                  1995         25.0                   1.000   28          1   \n",
       "4                  1997          0.0                   0.000   26          2   \n",
       "5                  1995         19.0                   0.375   28          1   \n",
       "\n",
       "             ...  N_PosBkt_L3m_3.0  Ever_Default_L12M_1  \\\n",
       "Customer_No  ...                                          \n",
       "1            ...                 0                    1   \n",
       "2            ...                 0                    1   \n",
       "3            ...                 0                    1   \n",
       "4            ...                 0                    0   \n",
       "5            ...                 0                    1   \n",
       "\n",
       "             Total_Field_Trails_1.0  Total_Field_Trails_2.0  \\\n",
       "Customer_No                                                   \n",
       "1                                 0                       0   \n",
       "2                                 0                       0   \n",
       "3                                 0                       0   \n",
       "4                                 0                       0   \n",
       "5                                 0                       0   \n",
       "\n",
       "             Total_Field_Trails_3.0  Total_Field_Trails_4.0  \\\n",
       "Customer_No                                                   \n",
       "1                                 0                       0   \n",
       "2                                 0                       0   \n",
       "3                                 0                       0   \n",
       "4                                 0                       0   \n",
       "5                                 0                       0   \n",
       "\n",
       "             Total_Field_Trails_5.0  Total_Resolved_1.0  Total_Resolved_2.0  \\\n",
       "Customer_No                                                                   \n",
       "1                                 0                   0                   0   \n",
       "2                                 0                   0                   0   \n",
       "3                                 0                   0                   0   \n",
       "4                                 0                   0                   0   \n",
       "5                                 0                   0                   0   \n",
       "\n",
       "             Total_Resolved_3.0  \n",
       "Customer_No                      \n",
       "1                             0  \n",
       "2                             0  \n",
       "3                             0  \n",
       "4                             0  \n",
       "5                             0  \n",
       "\n",
       "[5 rows x 39 columns]"
      ]
     },
     "execution_count": 215,
     "metadata": {},
     "output_type": "execute_result"
    }
   ],
   "source": [
    "df.head()"
   ]
  },
  {
   "cell_type": "code",
   "execution_count": 210,
   "metadata": {},
   "outputs": [
    {
     "data": {
      "text/html": [
       "<div>\n",
       "<style scoped>\n",
       "    .dataframe tbody tr th:only-of-type {\n",
       "        vertical-align: middle;\n",
       "    }\n",
       "\n",
       "    .dataframe tbody tr th {\n",
       "        vertical-align: top;\n",
       "    }\n",
       "\n",
       "    .dataframe thead th {\n",
       "        text-align: right;\n",
       "    }\n",
       "</style>\n",
       "<table border=\"1\" class=\"dataframe\">\n",
       "  <thead>\n",
       "    <tr style=\"text-align: right;\">\n",
       "      <th></th>\n",
       "      <th>Max_Utilization</th>\n",
       "      <th>Max_Perc_Def_Chg_Pending</th>\n",
       "      <th>Max_Ratio_OC_Pending_POS</th>\n",
       "      <th>Perc_Paymode_Online</th>\n",
       "      <th>Perc_Repay_Fail</th>\n",
       "      <th>Birth_Year</th>\n",
       "      <th>Max_DPD_L3m</th>\n",
       "      <th>Perc_Paymode_Cheq_Fail</th>\n",
       "      <th>Age</th>\n",
       "      <th>N_Enq_L9m</th>\n",
       "      <th>...</th>\n",
       "      <th>N_PosBkt_L3m_3.0</th>\n",
       "      <th>Ever_Default_L12M_1</th>\n",
       "      <th>Total_Field_Trails_1.0</th>\n",
       "      <th>Total_Field_Trails_2.0</th>\n",
       "      <th>Total_Field_Trails_3.0</th>\n",
       "      <th>Total_Field_Trails_4.0</th>\n",
       "      <th>Total_Field_Trails_5.0</th>\n",
       "      <th>Total_Resolved_1.0</th>\n",
       "      <th>Total_Resolved_2.0</th>\n",
       "      <th>Total_Resolved_3.0</th>\n",
       "    </tr>\n",
       "    <tr>\n",
       "      <th>Customer_No</th>\n",
       "      <th></th>\n",
       "      <th></th>\n",
       "      <th></th>\n",
       "      <th></th>\n",
       "      <th></th>\n",
       "      <th></th>\n",
       "      <th></th>\n",
       "      <th></th>\n",
       "      <th></th>\n",
       "      <th></th>\n",
       "      <th></th>\n",
       "      <th></th>\n",
       "      <th></th>\n",
       "      <th></th>\n",
       "      <th></th>\n",
       "      <th></th>\n",
       "      <th></th>\n",
       "      <th></th>\n",
       "      <th></th>\n",
       "      <th></th>\n",
       "      <th></th>\n",
       "    </tr>\n",
       "  </thead>\n",
       "  <tbody>\n",
       "    <tr>\n",
       "      <th>1</th>\n",
       "      <td>38</td>\n",
       "      <td>100.0</td>\n",
       "      <td>Others</td>\n",
       "      <td>0.285714</td>\n",
       "      <td>0.428571</td>\n",
       "      <td>1977</td>\n",
       "      <td>19.0</td>\n",
       "      <td>0.750</td>\n",
       "      <td>46</td>\n",
       "      <td>0</td>\n",
       "      <td>...</td>\n",
       "      <td>0</td>\n",
       "      <td>1</td>\n",
       "      <td>0</td>\n",
       "      <td>0</td>\n",
       "      <td>0</td>\n",
       "      <td>0</td>\n",
       "      <td>0</td>\n",
       "      <td>0</td>\n",
       "      <td>0</td>\n",
       "      <td>0</td>\n",
       "    </tr>\n",
       "    <tr>\n",
       "      <th>2</th>\n",
       "      <td>68</td>\n",
       "      <td>100.0</td>\n",
       "      <td>Others</td>\n",
       "      <td>0.000000</td>\n",
       "      <td>0.200000</td>\n",
       "      <td>1990</td>\n",
       "      <td>2.0</td>\n",
       "      <td>0.500</td>\n",
       "      <td>33</td>\n",
       "      <td>0</td>\n",
       "      <td>...</td>\n",
       "      <td>0</td>\n",
       "      <td>1</td>\n",
       "      <td>0</td>\n",
       "      <td>0</td>\n",
       "      <td>0</td>\n",
       "      <td>0</td>\n",
       "      <td>0</td>\n",
       "      <td>0</td>\n",
       "      <td>0</td>\n",
       "      <td>0</td>\n",
       "    </tr>\n",
       "    <tr>\n",
       "      <th>3</th>\n",
       "      <td>39</td>\n",
       "      <td>50.0</td>\n",
       "      <td>Others</td>\n",
       "      <td>0.200000</td>\n",
       "      <td>0.200000</td>\n",
       "      <td>1995</td>\n",
       "      <td>25.0</td>\n",
       "      <td>1.000</td>\n",
       "      <td>28</td>\n",
       "      <td>1</td>\n",
       "      <td>...</td>\n",
       "      <td>0</td>\n",
       "      <td>1</td>\n",
       "      <td>0</td>\n",
       "      <td>0</td>\n",
       "      <td>0</td>\n",
       "      <td>0</td>\n",
       "      <td>0</td>\n",
       "      <td>0</td>\n",
       "      <td>0</td>\n",
       "      <td>0</td>\n",
       "    </tr>\n",
       "    <tr>\n",
       "      <th>4</th>\n",
       "      <td>76</td>\n",
       "      <td>0.0</td>\n",
       "      <td>Others</td>\n",
       "      <td>0.000000</td>\n",
       "      <td>0.000000</td>\n",
       "      <td>1997</td>\n",
       "      <td>0.0</td>\n",
       "      <td>0.000</td>\n",
       "      <td>26</td>\n",
       "      <td>2</td>\n",
       "      <td>...</td>\n",
       "      <td>0</td>\n",
       "      <td>0</td>\n",
       "      <td>0</td>\n",
       "      <td>0</td>\n",
       "      <td>0</td>\n",
       "      <td>0</td>\n",
       "      <td>0</td>\n",
       "      <td>0</td>\n",
       "      <td>0</td>\n",
       "      <td>0</td>\n",
       "    </tr>\n",
       "    <tr>\n",
       "      <th>5</th>\n",
       "      <td>23</td>\n",
       "      <td>33.0</td>\n",
       "      <td>Others</td>\n",
       "      <td>0.250000</td>\n",
       "      <td>0.250000</td>\n",
       "      <td>1995</td>\n",
       "      <td>19.0</td>\n",
       "      <td>0.375</td>\n",
       "      <td>28</td>\n",
       "      <td>1</td>\n",
       "      <td>...</td>\n",
       "      <td>0</td>\n",
       "      <td>1</td>\n",
       "      <td>0</td>\n",
       "      <td>0</td>\n",
       "      <td>0</td>\n",
       "      <td>0</td>\n",
       "      <td>0</td>\n",
       "      <td>0</td>\n",
       "      <td>0</td>\n",
       "      <td>0</td>\n",
       "    </tr>\n",
       "  </tbody>\n",
       "</table>\n",
       "<p>5 rows × 39 columns</p>\n",
       "</div>"
      ],
      "text/plain": [
       "             Max_Utilization  Max_Perc_Def_Chg_Pending  \\\n",
       "Customer_No                                              \n",
       "1                         38                     100.0   \n",
       "2                         68                     100.0   \n",
       "3                         39                      50.0   \n",
       "4                         76                       0.0   \n",
       "5                         23                      33.0   \n",
       "\n",
       "            Max_Ratio_OC_Pending_POS  Perc_Paymode_Online  Perc_Repay_Fail  \\\n",
       "Customer_No                                                                  \n",
       "1                             Others             0.285714         0.428571   \n",
       "2                             Others             0.000000         0.200000   \n",
       "3                             Others             0.200000         0.200000   \n",
       "4                             Others             0.000000         0.000000   \n",
       "5                             Others             0.250000         0.250000   \n",
       "\n",
       "             Birth_Year  Max_DPD_L3m  Perc_Paymode_Cheq_Fail  Age  N_Enq_L9m  \\\n",
       "Customer_No                                                                    \n",
       "1                  1977         19.0                   0.750   46          0   \n",
       "2                  1990          2.0                   0.500   33          0   \n",
       "3                  1995         25.0                   1.000   28          1   \n",
       "4                  1997          0.0                   0.000   26          2   \n",
       "5                  1995         19.0                   0.375   28          1   \n",
       "\n",
       "             ...  N_PosBkt_L3m_3.0  Ever_Default_L12M_1  \\\n",
       "Customer_No  ...                                          \n",
       "1            ...                 0                    1   \n",
       "2            ...                 0                    1   \n",
       "3            ...                 0                    1   \n",
       "4            ...                 0                    0   \n",
       "5            ...                 0                    1   \n",
       "\n",
       "             Total_Field_Trails_1.0  Total_Field_Trails_2.0  \\\n",
       "Customer_No                                                   \n",
       "1                                 0                       0   \n",
       "2                                 0                       0   \n",
       "3                                 0                       0   \n",
       "4                                 0                       0   \n",
       "5                                 0                       0   \n",
       "\n",
       "             Total_Field_Trails_3.0  Total_Field_Trails_4.0  \\\n",
       "Customer_No                                                   \n",
       "1                                 0                       0   \n",
       "2                                 0                       0   \n",
       "3                                 0                       0   \n",
       "4                                 0                       0   \n",
       "5                                 0                       0   \n",
       "\n",
       "             Total_Field_Trails_5.0  Total_Resolved_1.0  Total_Resolved_2.0  \\\n",
       "Customer_No                                                                   \n",
       "1                                 0                   0                   0   \n",
       "2                                 0                   0                   0   \n",
       "3                                 0                   0                   0   \n",
       "4                                 0                   0                   0   \n",
       "5                                 0                   0                   0   \n",
       "\n",
       "             Total_Resolved_3.0  \n",
       "Customer_No                      \n",
       "1                             0  \n",
       "2                             0  \n",
       "3                             0  \n",
       "4                             0  \n",
       "5                             0  \n",
       "\n",
       "[5 rows x 39 columns]"
      ]
     },
     "execution_count": 210,
     "metadata": {},
     "output_type": "execute_result"
    }
   ],
   "source": [
    "df.head()"
   ]
  },
  {
   "cell_type": "code",
   "execution_count": 211,
   "metadata": {},
   "outputs": [],
   "source": [
    "df.to_csv('Preprocessed_01.csv', index=False)"
   ]
  },
  {
   "cell_type": "code",
   "execution_count": null,
   "metadata": {},
   "outputs": [],
   "source": []
  }
 ],
 "metadata": {
  "kernelspec": {
   "display_name": "Python 3",
   "language": "python",
   "name": "python3"
  },
  "language_info": {
   "codemirror_mode": {
    "name": "ipython",
    "version": 3
   },
   "file_extension": ".py",
   "mimetype": "text/x-python",
   "name": "python",
   "nbconvert_exporter": "python",
   "pygments_lexer": "ipython3",
   "version": "3.9.13"
  },
  "orig_nbformat": 4
 },
 "nbformat": 4,
 "nbformat_minor": 2
}
