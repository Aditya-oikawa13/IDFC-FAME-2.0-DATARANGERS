{
 "cells": [
  {
   "cell_type": "markdown",
   "metadata": {},
   "source": [
    "<h1 style=\"text-align:center;\">IDFC FAME 2.0 ROUND 2 CODES</h1>\n"
   ]
  },
  {
   "cell_type": "markdown",
   "metadata": {},
   "source": [
    "<h2 style=\"text-align:center;\">Exploratory Data Analysis</h2>\n"
   ]
  },
  {
   "cell_type": "code",
   "execution_count": 1,
   "metadata": {},
   "outputs": [],
   "source": [
    "import pandas as pd\n",
    "import numpy as np\n",
    "import matplotlib.pyplot as plt\n",
    "import seaborn as sns\n",
    "\n",
    "from sklearn.model_selection import StratifiedKFold\n",
    "from sklearn.preprocessing import MinMaxScaler\n",
    "from sklearn.linear_model import LogisticRegression\n",
    "from sklearn.neighbors import KNeighborsClassifier\n",
    "\n",
    "from sklearn.preprocessing import StandardScaler\n",
    "from sklearn.model_selection import train_test_split\n",
    "from sklearn.metrics import accuracy_score, confusion_matrix, classification_report, roc_auc_score\n",
    "\n",
    "import warnings\n",
    "warnings.filterwarnings(action = 'ignore')"
   ]
  },
  {
   "cell_type": "code",
   "execution_count": 2,
   "metadata": {},
   "outputs": [],
   "source": [
    "df = pd.read_csv('Training data file.csv', index_col='Customer_No')\n",
    "df_test = pd.read_csv('Validation Data file.csv', index_col='Customer_No')\n",
    "df1 = df.copy()\n",
    "col = df.columns"
   ]
  },
  {
   "cell_type": "code",
   "execution_count": 3,
   "metadata": {},
   "outputs": [
    {
     "data": {
      "text/html": [
       "<div>\n",
       "<style scoped>\n",
       "    .dataframe tbody tr th:only-of-type {\n",
       "        vertical-align: middle;\n",
       "    }\n",
       "\n",
       "    .dataframe tbody tr th {\n",
       "        vertical-align: top;\n",
       "    }\n",
       "\n",
       "    .dataframe thead th {\n",
       "        text-align: right;\n",
       "    }\n",
       "</style>\n",
       "<table border=\"1\" class=\"dataframe\">\n",
       "  <thead>\n",
       "    <tr style=\"text-align: right;\">\n",
       "      <th></th>\n",
       "      <th>N_Default_L3m</th>\n",
       "      <th>Branch_Code</th>\n",
       "      <th>Max_Utilization</th>\n",
       "      <th>Max_Perc_Def_Chg_Pending</th>\n",
       "      <th>N_Family_Member</th>\n",
       "      <th>Max_Ratio_OC_Pending_POS</th>\n",
       "      <th>N_PosBkt_L3m</th>\n",
       "      <th>CoAp_Income</th>\n",
       "      <th>Ever_Default_L12M</th>\n",
       "      <th>Perc_Paymode_Online</th>\n",
       "      <th>...</th>\n",
       "      <th>Birth_Year</th>\n",
       "      <th>Max_DPD_L3m</th>\n",
       "      <th>Perc_Paymode_Cheq_Fail</th>\n",
       "      <th>Age</th>\n",
       "      <th>Total_Field_Trails</th>\n",
       "      <th>Total_Resolved</th>\n",
       "      <th>N_Enq_L9m</th>\n",
       "      <th>Max_Loan_Balance_Others</th>\n",
       "      <th>N_WorkEx_Yr</th>\n",
       "      <th>Target_Flag</th>\n",
       "    </tr>\n",
       "    <tr>\n",
       "      <th>Customer_No</th>\n",
       "      <th></th>\n",
       "      <th></th>\n",
       "      <th></th>\n",
       "      <th></th>\n",
       "      <th></th>\n",
       "      <th></th>\n",
       "      <th></th>\n",
       "      <th></th>\n",
       "      <th></th>\n",
       "      <th></th>\n",
       "      <th></th>\n",
       "      <th></th>\n",
       "      <th></th>\n",
       "      <th></th>\n",
       "      <th></th>\n",
       "      <th></th>\n",
       "      <th></th>\n",
       "      <th></th>\n",
       "      <th></th>\n",
       "      <th></th>\n",
       "      <th></th>\n",
       "    </tr>\n",
       "  </thead>\n",
       "  <tbody>\n",
       "    <tr>\n",
       "      <th>1</th>\n",
       "      <td>3</td>\n",
       "      <td>61749</td>\n",
       "      <td>38</td>\n",
       "      <td>100.0</td>\n",
       "      <td>5</td>\n",
       "      <td>NaN</td>\n",
       "      <td>0.0</td>\n",
       "      <td>NaN</td>\n",
       "      <td>Yes</td>\n",
       "      <td>0.285714</td>\n",
       "      <td>...</td>\n",
       "      <td>1977</td>\n",
       "      <td>19.0</td>\n",
       "      <td>0.750</td>\n",
       "      <td>46</td>\n",
       "      <td>NaN</td>\n",
       "      <td>NaN</td>\n",
       "      <td>0</td>\n",
       "      <td>5527.0</td>\n",
       "      <td>15</td>\n",
       "      <td>0</td>\n",
       "    </tr>\n",
       "    <tr>\n",
       "      <th>2</th>\n",
       "      <td>1</td>\n",
       "      <td>30831</td>\n",
       "      <td>68</td>\n",
       "      <td>100.0</td>\n",
       "      <td>1</td>\n",
       "      <td>NaN</td>\n",
       "      <td>0.0</td>\n",
       "      <td>NaN</td>\n",
       "      <td>Yes</td>\n",
       "      <td>0.000000</td>\n",
       "      <td>...</td>\n",
       "      <td>1990</td>\n",
       "      <td>2.0</td>\n",
       "      <td>0.500</td>\n",
       "      <td>33</td>\n",
       "      <td>NaN</td>\n",
       "      <td>NaN</td>\n",
       "      <td>0</td>\n",
       "      <td>12104.0</td>\n",
       "      <td>2</td>\n",
       "      <td>0</td>\n",
       "    </tr>\n",
       "    <tr>\n",
       "      <th>3</th>\n",
       "      <td>1</td>\n",
       "      <td>56708</td>\n",
       "      <td>39</td>\n",
       "      <td>50.0</td>\n",
       "      <td>-3</td>\n",
       "      <td>NaN</td>\n",
       "      <td>0.0</td>\n",
       "      <td>NaN</td>\n",
       "      <td>Yes</td>\n",
       "      <td>0.200000</td>\n",
       "      <td>...</td>\n",
       "      <td>1995</td>\n",
       "      <td>25.0</td>\n",
       "      <td>1.000</td>\n",
       "      <td>28</td>\n",
       "      <td>NaN</td>\n",
       "      <td>0.0</td>\n",
       "      <td>1</td>\n",
       "      <td>153179.0</td>\n",
       "      <td>8</td>\n",
       "      <td>0</td>\n",
       "    </tr>\n",
       "    <tr>\n",
       "      <th>4</th>\n",
       "      <td>0</td>\n",
       "      <td>43551</td>\n",
       "      <td>76</td>\n",
       "      <td>NaN</td>\n",
       "      <td>0</td>\n",
       "      <td>NaN</td>\n",
       "      <td>0.0</td>\n",
       "      <td>NaN</td>\n",
       "      <td>No</td>\n",
       "      <td>0.000000</td>\n",
       "      <td>...</td>\n",
       "      <td>1997</td>\n",
       "      <td>0.0</td>\n",
       "      <td>NaN</td>\n",
       "      <td>26</td>\n",
       "      <td>NaN</td>\n",
       "      <td>NaN</td>\n",
       "      <td>2</td>\n",
       "      <td>181589.0</td>\n",
       "      <td>6</td>\n",
       "      <td>0</td>\n",
       "    </tr>\n",
       "    <tr>\n",
       "      <th>5</th>\n",
       "      <td>3</td>\n",
       "      <td>15287</td>\n",
       "      <td>23</td>\n",
       "      <td>33.0</td>\n",
       "      <td>11</td>\n",
       "      <td>NaN</td>\n",
       "      <td>0.0</td>\n",
       "      <td>NaN</td>\n",
       "      <td>Yes</td>\n",
       "      <td>0.250000</td>\n",
       "      <td>...</td>\n",
       "      <td>1995</td>\n",
       "      <td>19.0</td>\n",
       "      <td>0.375</td>\n",
       "      <td>28</td>\n",
       "      <td>NaN</td>\n",
       "      <td>NaN</td>\n",
       "      <td>1</td>\n",
       "      <td>10661.0</td>\n",
       "      <td>8</td>\n",
       "      <td>0</td>\n",
       "    </tr>\n",
       "  </tbody>\n",
       "</table>\n",
       "<p>5 rows × 21 columns</p>\n",
       "</div>"
      ],
      "text/plain": [
       "             N_Default_L3m  Branch_Code  Max_Utilization  \\\n",
       "Customer_No                                                \n",
       "1                        3        61749               38   \n",
       "2                        1        30831               68   \n",
       "3                        1        56708               39   \n",
       "4                        0        43551               76   \n",
       "5                        3        15287               23   \n",
       "\n",
       "             Max_Perc_Def_Chg_Pending  N_Family_Member  \\\n",
       "Customer_No                                              \n",
       "1                               100.0                5   \n",
       "2                               100.0                1   \n",
       "3                                50.0               -3   \n",
       "4                                 NaN                0   \n",
       "5                                33.0               11   \n",
       "\n",
       "             Max_Ratio_OC_Pending_POS  N_PosBkt_L3m  CoAp_Income  \\\n",
       "Customer_No                                                        \n",
       "1                                 NaN           0.0          NaN   \n",
       "2                                 NaN           0.0          NaN   \n",
       "3                                 NaN           0.0          NaN   \n",
       "4                                 NaN           0.0          NaN   \n",
       "5                                 NaN           0.0          NaN   \n",
       "\n",
       "            Ever_Default_L12M  Perc_Paymode_Online  ...  Birth_Year  \\\n",
       "Customer_No                                         ...               \n",
       "1                         Yes             0.285714  ...        1977   \n",
       "2                         Yes             0.000000  ...        1990   \n",
       "3                         Yes             0.200000  ...        1995   \n",
       "4                          No             0.000000  ...        1997   \n",
       "5                         Yes             0.250000  ...        1995   \n",
       "\n",
       "             Max_DPD_L3m  Perc_Paymode_Cheq_Fail  Age  Total_Field_Trails  \\\n",
       "Customer_No                                                                 \n",
       "1                   19.0                   0.750   46                 NaN   \n",
       "2                    2.0                   0.500   33                 NaN   \n",
       "3                   25.0                   1.000   28                 NaN   \n",
       "4                    0.0                     NaN   26                 NaN   \n",
       "5                   19.0                   0.375   28                 NaN   \n",
       "\n",
       "             Total_Resolved  N_Enq_L9m  Max_Loan_Balance_Others  N_WorkEx_Yr  \\\n",
       "Customer_No                                                                    \n",
       "1                       NaN          0                   5527.0           15   \n",
       "2                       NaN          0                  12104.0            2   \n",
       "3                       0.0          1                 153179.0            8   \n",
       "4                       NaN          2                 181589.0            6   \n",
       "5                       NaN          1                  10661.0            8   \n",
       "\n",
       "             Target_Flag  \n",
       "Customer_No               \n",
       "1                      0  \n",
       "2                      0  \n",
       "3                      0  \n",
       "4                      0  \n",
       "5                      0  \n",
       "\n",
       "[5 rows x 21 columns]"
      ]
     },
     "execution_count": 3,
     "metadata": {},
     "output_type": "execute_result"
    }
   ],
   "source": [
    "df.head()"
   ]
  },
  {
   "cell_type": "markdown",
   "metadata": {},
   "source": [
    "Function for Missing values in each column"
   ]
  },
  {
   "cell_type": "code",
   "execution_count": 4,
   "metadata": {},
   "outputs": [],
   "source": [
    "def missingdata_percentage(df, per=0):\n",
    "    missing = pd.DataFrame(columns=['category','percentage'])\n",
    "    for col in df.columns:\n",
    "        if df[col].isna().values.any():\n",
    "            count = df[col].isna().sum()\n",
    "            percentage = 100*df[col].isna().sum()/df.shape[0]\n",
    "            if percentage>=per:\n",
    "              missing = missing.append({'category' : col, 'percentage' : percentage, 'count' : int(count)}, ignore_index=True)\n",
    "    missing.sort_values(by=['percentage'], inplace=True, ascending=False)\n",
    "    return missing"
   ]
  },
  {
   "cell_type": "code",
   "execution_count": 5,
   "metadata": {},
   "outputs": [
    {
     "data": {
      "text/html": [
       "<div>\n",
       "<style scoped>\n",
       "    .dataframe tbody tr th:only-of-type {\n",
       "        vertical-align: middle;\n",
       "    }\n",
       "\n",
       "    .dataframe tbody tr th {\n",
       "        vertical-align: top;\n",
       "    }\n",
       "\n",
       "    .dataframe thead th {\n",
       "        text-align: right;\n",
       "    }\n",
       "</style>\n",
       "<table border=\"1\" class=\"dataframe\">\n",
       "  <thead>\n",
       "    <tr style=\"text-align: right;\">\n",
       "      <th></th>\n",
       "      <th>category</th>\n",
       "      <th>percentage</th>\n",
       "      <th>count</th>\n",
       "    </tr>\n",
       "  </thead>\n",
       "  <tbody>\n",
       "    <tr>\n",
       "      <th>3</th>\n",
       "      <td>CoAp_Income</td>\n",
       "      <td>94.931879</td>\n",
       "      <td>77135.0</td>\n",
       "    </tr>\n",
       "    <tr>\n",
       "      <th>1</th>\n",
       "      <td>Max_Ratio_OC_Pending_POS</td>\n",
       "      <td>89.407160</td>\n",
       "      <td>72646.0</td>\n",
       "    </tr>\n",
       "    <tr>\n",
       "      <th>6</th>\n",
       "      <td>Total_Field_Trails</td>\n",
       "      <td>67.335360</td>\n",
       "      <td>54712.0</td>\n",
       "    </tr>\n",
       "    <tr>\n",
       "      <th>7</th>\n",
       "      <td>Total_Resolved</td>\n",
       "      <td>61.911560</td>\n",
       "      <td>50305.0</td>\n",
       "    </tr>\n",
       "    <tr>\n",
       "      <th>5</th>\n",
       "      <td>Perc_Paymode_Cheq_Fail</td>\n",
       "      <td>28.893702</td>\n",
       "      <td>23477.0</td>\n",
       "    </tr>\n",
       "    <tr>\n",
       "      <th>0</th>\n",
       "      <td>Max_Perc_Def_Chg_Pending</td>\n",
       "      <td>25.941196</td>\n",
       "      <td>21078.0</td>\n",
       "    </tr>\n",
       "    <tr>\n",
       "      <th>2</th>\n",
       "      <td>N_PosBkt_L3m</td>\n",
       "      <td>6.569604</td>\n",
       "      <td>5338.0</td>\n",
       "    </tr>\n",
       "    <tr>\n",
       "      <th>8</th>\n",
       "      <td>Max_Loan_Balance_Others</td>\n",
       "      <td>0.419677</td>\n",
       "      <td>341.0</td>\n",
       "    </tr>\n",
       "    <tr>\n",
       "      <th>4</th>\n",
       "      <td>Max_DPD_L3m</td>\n",
       "      <td>0.299066</td>\n",
       "      <td>243.0</td>\n",
       "    </tr>\n",
       "  </tbody>\n",
       "</table>\n",
       "</div>"
      ],
      "text/plain": [
       "                   category  percentage    count\n",
       "3               CoAp_Income   94.931879  77135.0\n",
       "1  Max_Ratio_OC_Pending_POS   89.407160  72646.0\n",
       "6        Total_Field_Trails   67.335360  54712.0\n",
       "7            Total_Resolved   61.911560  50305.0\n",
       "5    Perc_Paymode_Cheq_Fail   28.893702  23477.0\n",
       "0  Max_Perc_Def_Chg_Pending   25.941196  21078.0\n",
       "2              N_PosBkt_L3m    6.569604   5338.0\n",
       "8   Max_Loan_Balance_Others    0.419677    341.0\n",
       "4               Max_DPD_L3m    0.299066    243.0"
      ]
     },
     "execution_count": 5,
     "metadata": {},
     "output_type": "execute_result"
    }
   ],
   "source": [
    "train_data_Miss = missingdata_percentage(df)\n",
    "train_data_Miss"
   ]
  },
  {
   "cell_type": "code",
   "execution_count": 6,
   "metadata": {},
   "outputs": [
    {
     "data": {
      "text/html": [
       "<div>\n",
       "<style scoped>\n",
       "    .dataframe tbody tr th:only-of-type {\n",
       "        vertical-align: middle;\n",
       "    }\n",
       "\n",
       "    .dataframe tbody tr th {\n",
       "        vertical-align: top;\n",
       "    }\n",
       "\n",
       "    .dataframe thead th {\n",
       "        text-align: right;\n",
       "    }\n",
       "</style>\n",
       "<table border=\"1\" class=\"dataframe\">\n",
       "  <thead>\n",
       "    <tr style=\"text-align: right;\">\n",
       "      <th></th>\n",
       "      <th>category</th>\n",
       "      <th>percentage</th>\n",
       "      <th>count</th>\n",
       "    </tr>\n",
       "  </thead>\n",
       "  <tbody>\n",
       "    <tr>\n",
       "      <th>3</th>\n",
       "      <td>CoAp_Income</td>\n",
       "      <td>95.060045</td>\n",
       "      <td>28576.0</td>\n",
       "    </tr>\n",
       "    <tr>\n",
       "      <th>1</th>\n",
       "      <td>Max_Ratio_OC_Pending_POS</td>\n",
       "      <td>89.551246</td>\n",
       "      <td>26920.0</td>\n",
       "    </tr>\n",
       "    <tr>\n",
       "      <th>6</th>\n",
       "      <td>Total_Field_Trails</td>\n",
       "      <td>67.619174</td>\n",
       "      <td>20327.0</td>\n",
       "    </tr>\n",
       "    <tr>\n",
       "      <th>7</th>\n",
       "      <td>Total_Resolved</td>\n",
       "      <td>62.117029</td>\n",
       "      <td>18673.0</td>\n",
       "    </tr>\n",
       "    <tr>\n",
       "      <th>5</th>\n",
       "      <td>Perc_Paymode_Cheq_Fail</td>\n",
       "      <td>28.638435</td>\n",
       "      <td>8609.0</td>\n",
       "    </tr>\n",
       "    <tr>\n",
       "      <th>0</th>\n",
       "      <td>Max_Perc_Def_Chg_Pending</td>\n",
       "      <td>24.513489</td>\n",
       "      <td>7369.0</td>\n",
       "    </tr>\n",
       "    <tr>\n",
       "      <th>2</th>\n",
       "      <td>N_PosBkt_L3m</td>\n",
       "      <td>6.157480</td>\n",
       "      <td>1851.0</td>\n",
       "    </tr>\n",
       "    <tr>\n",
       "      <th>4</th>\n",
       "      <td>Max_DPD_L3m</td>\n",
       "      <td>0.392535</td>\n",
       "      <td>118.0</td>\n",
       "    </tr>\n",
       "    <tr>\n",
       "      <th>8</th>\n",
       "      <td>Max_Loan_Balance_Others</td>\n",
       "      <td>0.372576</td>\n",
       "      <td>112.0</td>\n",
       "    </tr>\n",
       "  </tbody>\n",
       "</table>\n",
       "</div>"
      ],
      "text/plain": [
       "                   category  percentage    count\n",
       "3               CoAp_Income   95.060045  28576.0\n",
       "1  Max_Ratio_OC_Pending_POS   89.551246  26920.0\n",
       "6        Total_Field_Trails   67.619174  20327.0\n",
       "7            Total_Resolved   62.117029  18673.0\n",
       "5    Perc_Paymode_Cheq_Fail   28.638435   8609.0\n",
       "0  Max_Perc_Def_Chg_Pending   24.513489   7369.0\n",
       "2              N_PosBkt_L3m    6.157480   1851.0\n",
       "4               Max_DPD_L3m    0.392535    118.0\n",
       "8   Max_Loan_Balance_Others    0.372576    112.0"
      ]
     },
     "execution_count": 6,
     "metadata": {},
     "output_type": "execute_result"
    }
   ],
   "source": [
    "test_data_Miss = missingdata_percentage(df_test)\n",
    "test_data_Miss"
   ]
  },
  {
   "cell_type": "markdown",
   "metadata": {},
   "source": [
    "Training and test data both have similar null value distribution so we can confirm that there are no discrapancies in given data.<br>\n",
    "Lets check Target_flag distribution."
   ]
  },
  {
   "cell_type": "code",
   "execution_count": 8,
   "metadata": {},
   "outputs": [
    {
     "data": {
      "text/plain": [
       "0    71469\n",
       "1     9784\n",
       "Name: Target_Flag, dtype: int64"
      ]
     },
     "execution_count": 8,
     "metadata": {},
     "output_type": "execute_result"
    }
   ],
   "source": [
    "df['Target_Flag'].value_counts()"
   ]
  },
  {
   "cell_type": "markdown",
   "metadata": {},
   "source": [
    "### Let's start filling missing values in descending order."
   ]
  },
  {
   "cell_type": "markdown",
   "metadata": {},
   "source": [
    "### Handling \"CoAp_Income\"\n",
    "* Upon closer inspection \"CoAp_Income\"(income of co-applicant) column looks like a optional entry and hence so many missing values. \n",
    "* 95% of them are missing values so they won't add any value to the data hence we can drop this column.\n",
    "\n",
    "\n"
   ]
  },
  {
   "cell_type": "markdown",
   "metadata": {},
   "source": [
    "### Handling \"Max_Ratio_OC_Pending_POS\""
   ]
  },
  {
   "cell_type": "code",
   "execution_count": 7,
   "metadata": {},
   "outputs": [
    {
     "data": {
      "text/plain": [
       "249"
      ]
     },
     "execution_count": 7,
     "metadata": {},
     "output_type": "execute_result"
    }
   ],
   "source": [
    "count = df['Max_Ratio_OC_Pending_POS'].value_counts()[0]\n",
    "count"
   ]
  },
  {
   "cell_type": "markdown",
   "metadata": {},
   "source": [
    "* Next \"Max_Ratio_OC_Pending_POS\" column also have 90% of missing values, most of these values are between 0 and 1.<br>\n",
    " -->Although there are 249 0's in dataset so they might correspond to people who paid their overdue charges.<br>--> And remaining null values most likely means these people didn't had any overdue charges to begin with. <br>\n",
    " -->So its a good idea to assume these values to be zero.<br>\n",
    "-->But let's analyze further."
   ]
  },
  {
   "cell_type": "code",
   "execution_count": 8,
   "metadata": {},
   "outputs": [
    {
     "data": {
      "text/plain": [
       "0    195\n",
       "1     54\n",
       "Name: Target_Flag, dtype: int64"
      ]
     },
     "execution_count": 8,
     "metadata": {},
     "output_type": "execute_result"
    }
   ],
   "source": [
    "#Let's see distribution of target variable when Max_Ratio_OC_Pending_POS is 0.\n",
    "df['Target_Flag'][df['Max_Ratio_OC_Pending_POS'] == 0].value_counts()"
   ]
  },
  {
   "cell_type": "code",
   "execution_count": 11,
   "metadata": {},
   "outputs": [
    {
     "data": {
      "text/plain": [
       "0    65165\n",
       "1     7481\n",
       "Name: Target_Flag, dtype: int64"
      ]
     },
     "execution_count": 11,
     "metadata": {},
     "output_type": "execute_result"
    }
   ],
   "source": [
    "# 22% of them corresponds to default customer\n",
    "\n",
    "# Now lets see distribution of target when they are null.\n",
    "df['Target_Flag'][df['Max_Ratio_OC_Pending_POS'].isna()].value_counts()"
   ]
  },
  {
   "cell_type": "code",
   "execution_count": 9,
   "metadata": {},
   "outputs": [],
   "source": [
    "# 10% of missing values have defaulted customers.\n",
    "\n",
    "# Now lets see what percent of people have overdue charges pending and they defaulted.\n",
    "cnt_with_oc_and_default = df[(df['Max_Ratio_OC_Pending_POS'] > 0 ) & (df['Target_Flag']== 1)].shape[0]\n",
    "default_cnt = df[(df['Target_Flag']== 1)].shape[0]\n",
    "oc_more_than_zero = df[(df['Max_Ratio_OC_Pending_POS'] > 0)].shape[0]\n"
   ]
  },
  {
   "cell_type": "code",
   "execution_count": 10,
   "metadata": {},
   "outputs": [
    {
     "data": {
      "text/plain": [
       "(9784, 8358, 2249, 0.26908351280210574)"
      ]
     },
     "execution_count": 10,
     "metadata": {},
     "output_type": "execute_result"
    }
   ],
   "source": [
    "ratio_of_oc_and_default = (cnt_with_oc_and_default/oc_more_than_zero)\n",
    "default_cnt, oc_more_than_zero, cnt_with_oc_and_default, ratio_of_oc_and_default"
   ]
  },
  {
   "cell_type": "markdown",
   "metadata": {},
   "source": [
    "From above data we see that 27% of people who have overdue charges have defaulted, that means other 73% of people are not defaulters.<br>\n",
    "Also 0 doesn't necessarily confirms that person will not commit default. <br>\n",
    "We have two choices either assume null values to be zero or drop these column. <br>\n",
    "We will try both and later see what works best.\n"
   ]
  },
  {
   "cell_type": "markdown",
   "metadata": {},
   "source": [
    "#### Now lets examine null values of \"Total_field_trials\" and \"Total_resolved\""
   ]
  },
  {
   "cell_type": "code",
   "execution_count": 14,
   "metadata": {},
   "outputs": [
    {
     "data": {
      "text/plain": [
       "'def find_col_relation_with_target(df, col, value = 0):\\n    Valuecount_col_is_value = df[\\'Target_Flag\\'][df[col] == value].value_counts()\\n    Valuecount_col_is_null = df[\\'Target_Flag\\'][df[col].isna()].value_counts()\\n    null_without_default_last_12_month = df[col].isna()[df[\\'Ever_Default_L12M\\'] == \\'No\\'].sum()\\n    null_with_default_last_12_month = df[col].isna()[df[\\'Ever_Default_L12M\\'] == \\'Yes\\'].sum()\\n    null_without_default_last_3_month = df[col].isna()[df[\\'N_Default_L3m\\'] == \\'No\\'].sum()\\n    null_with_default_last_3_month = df[col].isna()[df[\\'N_Default_L3m\\'] == \\'Yes\\'].sum()\\n    print(\"vALUE COUNTS OF TARGET FLAGS WHEN COLUMN HAS VALUES:\", Valuecount_col_is_value)\\n    print(\"vALUE COUNTS OF TARGET FLAGS WHEN COLUMN HAS NULL VALUES:\", Valuecount_col_is_null)\\n    print(\"NULL VALUES DISTRIBUTION WITHOUT DEFAULT IN LAST \", null_without_default_last_12_month)\\n    print(\"vALUE COUNTS OF TARGET FLAGS WHEN COLUMN HAS VALUES:\", null_with_default_last_12_month)\\n    print(\"vALUE COUNTS OF TARGET FLAGS WHEN COLUMN HAS VALUES:\", null_without_default_last_3_month)\\n    print(\"vALUE COUNTS OF TARGET FLAGS WHEN COLUMN HAS VALUES:\", null_with_default_last_3_month)'"
      ]
     },
     "execution_count": 14,
     "metadata": {},
     "output_type": "execute_result"
    }
   ],
   "source": [
    "'''def find_col_relation_with_target(df, col, value = 0):\n",
    "    Valuecount_col_is_value = df['Target_Flag'][df[col] == value].value_counts()\n",
    "    Valuecount_col_is_null = df['Target_Flag'][df[col].isna()].value_counts()\n",
    "    null_without_default_last_12_month = df[col].isna()[df['Ever_Default_L12M'] == 'No'].sum()\n",
    "    null_with_default_last_12_month = df[col].isna()[df['Ever_Default_L12M'] == 'Yes'].sum()\n",
    "    null_without_default_last_3_month = df[col].isna()[df['N_Default_L3m'] == 'No'].sum()\n",
    "    null_with_default_last_3_month = df[col].isna()[df['N_Default_L3m'] == 'Yes'].sum()\n",
    "    print(\"vALUE COUNTS OF TARGET FLAGS WHEN COLUMN HAS VALUES:\", Valuecount_col_is_value)\n",
    "    print(\"vALUE COUNTS OF TARGET FLAGS WHEN COLUMN HAS NULL VALUES:\", Valuecount_col_is_null)\n",
    "    print(\"NULL VALUES DISTRIBUTION WITHOUT DEFAULT IN LAST \", null_without_default_last_12_month)\n",
    "    print(\"vALUE COUNTS OF TARGET FLAGS WHEN COLUMN HAS VALUES:\", null_with_default_last_12_month)\n",
    "    print(\"vALUE COUNTS OF TARGET FLAGS WHEN COLUMN HAS VALUES:\", null_without_default_last_3_month)\n",
    "    print(\"vALUE COUNTS OF TARGET FLAGS WHEN COLUMN HAS VALUES:\", null_with_default_last_3_month)'''"
   ]
  },
  {
   "cell_type": "code",
   "execution_count": 12,
   "metadata": {},
   "outputs": [
    {
     "data": {
      "text/plain": [
       "Index(['N_Default_L3m', 'Branch_Code', 'Max_Utilization',\n",
       "       'Max_Perc_Def_Chg_Pending', 'N_Family_Member',\n",
       "       'Max_Ratio_OC_Pending_POS', 'N_PosBkt_L3m', 'CoAp_Income',\n",
       "       'Ever_Default_L12M', 'Perc_Paymode_Online', 'Perc_Repay_Fail',\n",
       "       'Birth_Year', 'Max_DPD_L3m', 'Perc_Paymode_Cheq_Fail', 'Age',\n",
       "       'Total_Field_Trails', 'Total_Resolved', 'N_Enq_L9m',\n",
       "       'Max_Loan_Balance_Others', 'N_WorkEx_Yr', 'Target_Flag'],\n",
       "      dtype='object')"
      ]
     },
     "execution_count": 12,
     "metadata": {},
     "output_type": "execute_result"
    }
   ],
   "source": [
    "col"
   ]
  },
  {
   "cell_type": "code",
   "execution_count": 13,
   "metadata": {},
   "outputs": [
    {
     "data": {
      "text/plain": [
       "(54712, 50305)"
      ]
     },
     "execution_count": 13,
     "metadata": {},
     "output_type": "execute_result"
    }
   ],
   "source": [
    "#Count of null values:\n",
    "df['Total_Field_Trails'].isna().sum(), df['Total_Resolved'].isna().sum()"
   ]
  },
  {
   "cell_type": "code",
   "execution_count": 16,
   "metadata": {},
   "outputs": [
    {
     "data": {
      "text/html": [
       "<div>\n",
       "<style scoped>\n",
       "    .dataframe tbody tr th:only-of-type {\n",
       "        vertical-align: middle;\n",
       "    }\n",
       "\n",
       "    .dataframe tbody tr th {\n",
       "        vertical-align: top;\n",
       "    }\n",
       "\n",
       "    .dataframe thead th {\n",
       "        text-align: right;\n",
       "    }\n",
       "</style>\n",
       "<table border=\"1\" class=\"dataframe\">\n",
       "  <thead>\n",
       "    <tr style=\"text-align: right;\">\n",
       "      <th></th>\n",
       "      <th>Total_Field_Trails</th>\n",
       "      <th>Target_Flag</th>\n",
       "      <th>Count</th>\n",
       "    </tr>\n",
       "  </thead>\n",
       "  <tbody>\n",
       "    <tr>\n",
       "      <th>0</th>\n",
       "      <td>0.0</td>\n",
       "      <td>0</td>\n",
       "      <td>16480</td>\n",
       "    </tr>\n",
       "    <tr>\n",
       "      <th>1</th>\n",
       "      <td>0.0</td>\n",
       "      <td>1</td>\n",
       "      <td>1706</td>\n",
       "    </tr>\n",
       "    <tr>\n",
       "      <th>2</th>\n",
       "      <td>1.0</td>\n",
       "      <td>0</td>\n",
       "      <td>4947</td>\n",
       "    </tr>\n",
       "    <tr>\n",
       "      <th>3</th>\n",
       "      <td>1.0</td>\n",
       "      <td>1</td>\n",
       "      <td>1046</td>\n",
       "    </tr>\n",
       "    <tr>\n",
       "      <th>4</th>\n",
       "      <td>2.0</td>\n",
       "      <td>0</td>\n",
       "      <td>1421</td>\n",
       "    </tr>\n",
       "    <tr>\n",
       "      <th>5</th>\n",
       "      <td>2.0</td>\n",
       "      <td>1</td>\n",
       "      <td>304</td>\n",
       "    </tr>\n",
       "    <tr>\n",
       "      <th>6</th>\n",
       "      <td>3.0</td>\n",
       "      <td>0</td>\n",
       "      <td>477</td>\n",
       "    </tr>\n",
       "    <tr>\n",
       "      <th>7</th>\n",
       "      <td>3.0</td>\n",
       "      <td>1</td>\n",
       "      <td>90</td>\n",
       "    </tr>\n",
       "    <tr>\n",
       "      <th>8</th>\n",
       "      <td>4.0</td>\n",
       "      <td>0</td>\n",
       "      <td>41</td>\n",
       "    </tr>\n",
       "    <tr>\n",
       "      <th>9</th>\n",
       "      <td>4.0</td>\n",
       "      <td>1</td>\n",
       "      <td>8</td>\n",
       "    </tr>\n",
       "    <tr>\n",
       "      <th>10</th>\n",
       "      <td>5.0</td>\n",
       "      <td>0</td>\n",
       "      <td>8</td>\n",
       "    </tr>\n",
       "    <tr>\n",
       "      <th>11</th>\n",
       "      <td>5.0</td>\n",
       "      <td>1</td>\n",
       "      <td>5</td>\n",
       "    </tr>\n",
       "    <tr>\n",
       "      <th>12</th>\n",
       "      <td>6.0</td>\n",
       "      <td>0</td>\n",
       "      <td>5</td>\n",
       "    </tr>\n",
       "    <tr>\n",
       "      <th>13</th>\n",
       "      <td>6.0</td>\n",
       "      <td>1</td>\n",
       "      <td>1</td>\n",
       "    </tr>\n",
       "    <tr>\n",
       "      <th>14</th>\n",
       "      <td>7.0</td>\n",
       "      <td>0</td>\n",
       "      <td>1</td>\n",
       "    </tr>\n",
       "    <tr>\n",
       "      <th>15</th>\n",
       "      <td>9.0</td>\n",
       "      <td>1</td>\n",
       "      <td>1</td>\n",
       "    </tr>\n",
       "  </tbody>\n",
       "</table>\n",
       "</div>"
      ],
      "text/plain": [
       "    Total_Field_Trails  Target_Flag  Count\n",
       "0                  0.0            0  16480\n",
       "1                  0.0            1   1706\n",
       "2                  1.0            0   4947\n",
       "3                  1.0            1   1046\n",
       "4                  2.0            0   1421\n",
       "5                  2.0            1    304\n",
       "6                  3.0            0    477\n",
       "7                  3.0            1     90\n",
       "8                  4.0            0     41\n",
       "9                  4.0            1      8\n",
       "10                 5.0            0      8\n",
       "11                 5.0            1      5\n",
       "12                 6.0            0      5\n",
       "13                 6.0            1      1\n",
       "14                 7.0            0      1\n",
       "15                 9.0            1      1"
      ]
     },
     "execution_count": 16,
     "metadata": {},
     "output_type": "execute_result"
    }
   ],
   "source": [
    "df.groupby('Total_Field_Trails')['Target_Flag'].value_counts().reset_index(name='Count')"
   ]
  },
  {
   "cell_type": "code",
   "execution_count": 18,
   "metadata": {},
   "outputs": [
    {
     "data": {
      "text/plain": [
       "(0.0    18186\n",
       " 1.0     5993\n",
       " 2.0     1725\n",
       " 3.0      567\n",
       " 4.0       49\n",
       " 5.0       13\n",
       " 6.0        6\n",
       " 9.0        1\n",
       " 7.0        1\n",
       " Name: Total_Field_Trails, dtype: int64,\n",
       " 1.0    15255\n",
       " 2.0     7032\n",
       " 3.0     4881\n",
       " 0.0     3780\n",
       " Name: Total_Resolved, dtype: int64)"
      ]
     },
     "execution_count": 18,
     "metadata": {},
     "output_type": "execute_result"
    }
   ],
   "source": [
    "# Distribution of null values:\n",
    "df['Total_Field_Trails'].value_counts(), df['Total_Resolved'].value_counts()"
   ]
  },
  {
   "cell_type": "code",
   "execution_count": 19,
   "metadata": {},
   "outputs": [
    {
     "data": {
      "text/plain": [
       "50305"
      ]
     },
     "execution_count": 19,
     "metadata": {},
     "output_type": "execute_result"
    }
   ],
   "source": [
    "# Checking occurences of null values in both the fields simultaneously:\n",
    "checking_common_occurences = df[(df['Total_Field_Trails'].isna() ) & (df['Total_Resolved'].isna())].shape[0]\n",
    "checking_common_occurences"
   ]
  },
  {
   "cell_type": "markdown",
   "metadata": {},
   "source": [
    "* Now since there a lot of null values we can solve them using some common sense.\n",
    "* First if there are lots of null amount of \"Total_Field_Trails\" it strongly indicates 0 field visits.\n",
    "* Also above code shows that all the null values in \"Total_Resolved\" is when \"Total_Field_Trails\" is null as well.\n",
    "* But in \"Total_Resolved\" column it doesn't tells us if Customer was visited or not.\n",
    "* So we can take all the null value from total_resolved column as another value, let's say \"not_visited\"."
   ]
  },
  {
   "cell_type": "markdown",
   "metadata": {},
   "source": [
    "We can also try by removing these columns.\n",
    "Its a thumb rule to drop all the columns when there are more than 40% of null values."
   ]
  },
  {
   "cell_type": "code",
   "execution_count": 18,
   "metadata": {},
   "outputs": [
    {
     "data": {
      "text/plain": [
       "0.17398498482556185"
      ]
     },
     "execution_count": 18,
     "metadata": {},
     "output_type": "execute_result"
    }
   ],
   "source": [
    "df['Total_Field_Trails'].corr(df['Total_Resolved'])"
   ]
  },
  {
   "cell_type": "markdown",
   "metadata": {},
   "source": [
    "### Now lets look at the 'Perc_Paymode_Cheq_Fail' column."
   ]
  },
  {
   "cell_type": "code",
   "execution_count": 19,
   "metadata": {},
   "outputs": [
    {
     "data": {
      "text/plain": [
       "<Axes: >"
      ]
     },
     "execution_count": 19,
     "metadata": {},
     "output_type": "execute_result"
    },
    {
     "data": {
      "image/png": "[encoded data removed]",
      "text/plain": [
       "<Figure size 640x480 with 1 Axes>"
      ]
     },
     "metadata": {},
     "output_type": "display_data"
    }
   ],
   "source": [
    "def_chg_perc = df['Perc_Paymode_Cheq_Fail'].value_counts()[df['Perc_Paymode_Cheq_Fail'].value_counts() >= 0]\n",
    "def_chg_perc.plot(kind='bar')"
   ]
  },
  {
   "cell_type": "code",
   "execution_count": 20,
   "metadata": {},
   "outputs": [
    {
     "data": {
      "text/plain": [
       "<Axes: >"
      ]
     },
     "execution_count": 20,
     "metadata": {},
     "output_type": "execute_result"
    },
    {
     "data": {
      "image/png": "[encoded data removed]",
      "text/plain": [
       "<Figure size 640x480 with 1 Axes>"
      ]
     },
     "metadata": {},
     "output_type": "display_data"
    }
   ],
   "source": [
    "target_distribution = df['Target_Flag'].value_counts()\n",
    "# Create a DataFrame with both distributions\n",
    "data = pd.DataFrame({'Perc_Paymode_Cheq_Fail': def_chg_perc, 'Target_Flag': target_distribution})\n",
    "\n",
    "# Create a stacked bar graph\n",
    "data.plot(kind='bar', stacked=True)"
   ]
  },
  {
   "cell_type": "code",
   "execution_count": null,
   "metadata": {},
   "outputs": [
    {
     "data": {
      "text/plain": [
       "710"
      ]
     },
     "execution_count": 96,
     "metadata": {},
     "output_type": "execute_result"
    }
   ],
   "source": [
    "df['Perc_Paymode_Cheq_Fail'].value_counts()[0.0]"
   ]
  },
  {
   "cell_type": "markdown",
   "metadata": {},
   "source": [
    "* We see that some of the values are 0 thus it means that customer with null values have never attempted to pay via cheque.\n",
    "\n",
    "Although there is ambiguity its safe to assume 0 inplace of null values."
   ]
  },
  {
   "cell_type": "markdown",
   "metadata": {},
   "source": [
    "---\n",
    "\n",
    "Now lets find some relation between Payment methods and payment failures."
   ]
  },
  {
   "cell_type": "markdown",
   "metadata": {},
   "source": [
    "Now lets explore \"Max_Perc_Def_Chg_Pending\" column:\n",
    "1. Firstly this column signifies the maximum percentage of default charges pending."
   ]
  },
  {
   "cell_type": "markdown",
   "metadata": {},
   "source": [
    "Number of null values:"
   ]
  },
  {
   "cell_type": "code",
   "execution_count": null,
   "metadata": {},
   "outputs": [
    {
     "data": {
      "text/plain": [
       "21078"
      ]
     },
     "execution_count": 109,
     "metadata": {},
     "output_type": "execute_result"
    }
   ],
   "source": [
    "null_perc_def_chg = df['Max_Perc_Def_Chg_Pending'].isna().sum()\n",
    "null_perc_def_chg"
   ]
  },
  {
   "cell_type": "markdown",
   "metadata": {},
   "source": [
    "Null values may mean that person never had any default charge. So lets check amount of customer with default in past 12 months and Max_Perc_Def_Chg_Pending as null.\n"
   ]
  },
  {
   "cell_type": "code",
   "execution_count": null,
   "metadata": {},
   "outputs": [
    {
     "data": {
      "text/plain": [
       "(0.19944966315589716, 0.8005503368441028)"
      ]
     },
     "execution_count": 122,
     "metadata": {},
     "output_type": "execute_result"
    }
   ],
   "source": [
    "null_without_default = df['Max_Perc_Def_Chg_Pending'].isna()[df['Ever_Default_L12M'] == 'No'].sum()\n",
    "null_with_default = df['Max_Perc_Def_Chg_Pending'].isna()[df['Ever_Default_L12M'] == 'Yes'].sum()\n",
    "null_with_default/null_perc_def_chg, null_without_default/null_perc_def_chg"
   ]
  },
  {
   "cell_type": "markdown",
   "metadata": {},
   "source": [
    "We can see that customer without default in last 12 months have 80% of the null values and rest does have default.\n",
    "It is safe to assume that null values means customer never had any default in last 12 months.<br>\n",
    "----> So we can take null values to be another category."
   ]
  },
  {
   "cell_type": "code",
   "execution_count": null,
   "metadata": {},
   "outputs": [
    {
     "data": {
      "text/plain": [
       "<Axes: >"
      ]
     },
     "execution_count": 90,
     "metadata": {},
     "output_type": "execute_result"
    },
    {
     "data": {
      "image/png": "[encoded data removed]",
      "text/plain": [
       "<Figure size 640x480 with 1 Axes>"
      ]
     },
     "metadata": {},
     "output_type": "display_data"
    }
   ],
   "source": [
    "def_chg_perc = df['Max_Perc_Def_Chg_Pending'].value_counts()[df['Max_Perc_Def_Chg_Pending'].value_counts() >= 100]\n",
    "def_chg_perc.plot(kind='bar')"
   ]
  },
  {
   "cell_type": "markdown",
   "metadata": {},
   "source": [
    "Now lets handle \"N_Default_L3m\" column missing values: "
   ]
  },
  {
   "cell_type": "code",
   "execution_count": null,
   "metadata": {},
   "outputs": [
    {
     "data": {
      "text/plain": [
       "5338"
      ]
     },
     "execution_count": 116,
     "metadata": {},
     "output_type": "execute_result"
    }
   ],
   "source": [
    "df['N_PosBkt_L3m'].isna().sum()"
   ]
  },
  {
   "cell_type": "code",
   "execution_count": null,
   "metadata": {},
   "outputs": [
    {
     "data": {
      "text/plain": [
       "0.0    74985\n",
       "1.0      857\n",
       "2.0       72\n",
       "3.0        1\n",
       "Name: N_PosBkt_L3m, dtype: int64"
      ]
     },
     "execution_count": 117,
     "metadata": {},
     "output_type": "execute_result"
    }
   ],
   "source": [
    "df['N_PosBkt_L3m'].value_counts()"
   ]
  },
  {
   "cell_type": "code",
   "execution_count": null,
   "metadata": {},
   "outputs": [
    {
     "data": {
      "text/plain": [
       "0.0    66176\n",
       "1.0      587\n",
       "2.0       47\n",
       "3.0        1\n",
       "Name: N_PosBkt_L3m, dtype: int64"
      ]
     },
     "execution_count": 125,
     "metadata": {},
     "output_type": "execute_result"
    }
   ],
   "source": [
    "df['N_PosBkt_L3m'][df['Target_Flag'] == 0].value_counts()"
   ]
  },
  {
   "cell_type": "code",
   "execution_count": null,
   "metadata": {},
   "outputs": [
    {
     "data": {
      "text/plain": [
       "0.0    8809\n",
       "1.0     270\n",
       "2.0      25\n",
       "Name: N_PosBkt_L3m, dtype: int64"
      ]
     },
     "execution_count": 126,
     "metadata": {},
     "output_type": "execute_result"
    }
   ],
   "source": [
    "df['N_PosBkt_L3m'][df['Target_Flag'] == 1].value_counts()"
   ]
  },
  {
   "cell_type": "code",
   "execution_count": null,
   "metadata": {},
   "outputs": [
    {
     "data": {
      "text/plain": [
       "0    4658\n",
       "1     680\n",
       "Name: Target_Flag, dtype: int64"
      ]
     },
     "execution_count": 127,
     "metadata": {},
     "output_type": "execute_result"
    }
   ],
   "source": [
    "df['Target_Flag'][df['N_PosBkt_L3m'].isna()].value_counts()"
   ]
  },
  {
   "cell_type": "code",
   "execution_count": null,
   "metadata": {},
   "outputs": [
    {
     "data": {
      "image/png": "[encoded data removed]",
      "text/plain": [
       "<Figure size 1500x500 with 3 Axes>"
      ]
     },
     "metadata": {},
     "output_type": "display_data"
    }
   ],
   "source": [
    "# Create a figure with subplots\n",
    "fig, axes = plt.subplots(1, 3, figsize=(15, 5))\n",
    "\n",
    "# Plot 1: Target_Flag == 1 and N_PosBkt_L3m is NaN\n",
    "sns.countplot(data=df[df['N_PosBkt_L3m'].isna()], x='Target_Flag', ax=axes[0])\n",
    "axes[0].set_title('Target_Flag == 1 and N_PosBkt_L3m is NaN')\n",
    "for p in axes[0].patches:\n",
    "    axes[0].annotate(f'{int(p.get_height())}', (p.get_x() + p.get_width() / 2., p.get_height()), ha='center', va='center')\n",
    "\n",
    "# Plot 2: Target_Flag == 1 and N_PosBkt_L3m counts\n",
    "sns.countplot(data=df[df['Target_Flag'] == 1], x='N_PosBkt_L3m', ax=axes[1])\n",
    "axes[1].set_title('Target_Flag == 1 and N_PosBkt_L3m counts')\n",
    "for p in axes[1].patches:\n",
    "    axes[1].annotate(f'{int(p.get_height())}', (p.get_x() + p.get_width() / 2., p.get_height()), ha='center', va='center')\n",
    "\n",
    "# Plot 3: Target_Flag == 0 and N_PosBkt_L3m counts\n",
    "sns.countplot(data=df[df['Target_Flag'] == 0], x='N_PosBkt_L3m', ax=axes[2])\n",
    "axes[2].set_title('Target_Flag == 0 and N_PosBkt_L3m counts')\n",
    "for p in axes[2].patches:\n",
    "    axes[2].annotate(f'{int(p.get_height())}', (p.get_x() + p.get_width() / 2., p.get_height()), ha='center', va='center')\n",
    "\n",
    "# Adjust spacing between subplots\n",
    "plt.tight_layout()\n",
    "\n",
    "# Show the plots\n",
    "plt.show()\n",
    "\n"
   ]
  },
  {
   "cell_type": "markdown",
   "metadata": {},
   "source": [
    "We see that for missing values defaults are 680 and not defaults are 4658. Which is a proportionate distribution with whole training data.\n",
    "* It may also correspond to people who recently took the loan. (Less than 3 months ago)<br>\n",
    " Anyway since it merely affects 6% of the data so we can test it out with imputing 0, if needed we can try some other methods.\n",
    "---"
   ]
  },
  {
   "cell_type": "markdown",
   "metadata": {},
   "source": [
    "Now remaining two columns with missing values are:\n",
    "1. Max_DPD_L3m\n",
    "2. Max_Loan_Balance_Others"
   ]
  },
  {
   "cell_type": "code",
   "execution_count": null,
   "metadata": {},
   "outputs": [
    {
     "data": {
      "text/plain": [
       "243"
      ]
     },
     "execution_count": 136,
     "metadata": {},
     "output_type": "execute_result"
    }
   ],
   "source": [
    "df['Max_DPD_L3m'].isna().sum()"
   ]
  },
  {
   "cell_type": "code",
   "execution_count": null,
   "metadata": {},
   "outputs": [
    {
     "data": {
      "text/plain": [
       "0    219\n",
       "1     24\n",
       "Name: Target_Flag, dtype: int64"
      ]
     },
     "execution_count": 154,
     "metadata": {},
     "output_type": "execute_result"
    }
   ],
   "source": [
    "df['Target_Flag'][df['Max_DPD_L3m'].isna()].value_counts()"
   ]
  },
  {
   "cell_type": "code",
   "execution_count": null,
   "metadata": {},
   "outputs": [
    {
     "data": {
      "text/html": [
       "<div>\n",
       "<style scoped>\n",
       "    .dataframe tbody tr th:only-of-type {\n",
       "        vertical-align: middle;\n",
       "    }\n",
       "\n",
       "    .dataframe tbody tr th {\n",
       "        vertical-align: top;\n",
       "    }\n",
       "\n",
       "    .dataframe thead th {\n",
       "        text-align: right;\n",
       "    }\n",
       "</style>\n",
       "<table border=\"1\" class=\"dataframe\">\n",
       "  <thead>\n",
       "    <tr style=\"text-align: right;\">\n",
       "      <th></th>\n",
       "      <th>Max_DPD_L3m</th>\n",
       "      <th>Target_Flag</th>\n",
       "      <th>count</th>\n",
       "    </tr>\n",
       "  </thead>\n",
       "  <tbody>\n",
       "    <tr>\n",
       "      <th>0</th>\n",
       "      <td>0.0</td>\n",
       "      <td>0</td>\n",
       "      <td>23603</td>\n",
       "    </tr>\n",
       "    <tr>\n",
       "      <th>1</th>\n",
       "      <td>0.0</td>\n",
       "      <td>1</td>\n",
       "      <td>1913</td>\n",
       "    </tr>\n",
       "    <tr>\n",
       "      <th>2</th>\n",
       "      <td>1.0</td>\n",
       "      <td>0</td>\n",
       "      <td>917</td>\n",
       "    </tr>\n",
       "    <tr>\n",
       "      <th>3</th>\n",
       "      <td>1.0</td>\n",
       "      <td>1</td>\n",
       "      <td>90</td>\n",
       "    </tr>\n",
       "    <tr>\n",
       "      <th>4</th>\n",
       "      <td>2.0</td>\n",
       "      <td>0</td>\n",
       "      <td>952</td>\n",
       "    </tr>\n",
       "    <tr>\n",
       "      <th>5</th>\n",
       "      <td>2.0</td>\n",
       "      <td>1</td>\n",
       "      <td>88</td>\n",
       "    </tr>\n",
       "    <tr>\n",
       "      <th>6</th>\n",
       "      <td>3.0</td>\n",
       "      <td>0</td>\n",
       "      <td>1143</td>\n",
       "    </tr>\n",
       "    <tr>\n",
       "      <th>7</th>\n",
       "      <td>3.0</td>\n",
       "      <td>1</td>\n",
       "      <td>73</td>\n",
       "    </tr>\n",
       "    <tr>\n",
       "      <th>8</th>\n",
       "      <td>4.0</td>\n",
       "      <td>0</td>\n",
       "      <td>1772</td>\n",
       "    </tr>\n",
       "    <tr>\n",
       "      <th>9</th>\n",
       "      <td>4.0</td>\n",
       "      <td>1</td>\n",
       "      <td>138</td>\n",
       "    </tr>\n",
       "    <tr>\n",
       "      <th>10</th>\n",
       "      <td>5.0</td>\n",
       "      <td>0</td>\n",
       "      <td>1935</td>\n",
       "    </tr>\n",
       "    <tr>\n",
       "      <th>11</th>\n",
       "      <td>5.0</td>\n",
       "      <td>1</td>\n",
       "      <td>131</td>\n",
       "    </tr>\n",
       "    <tr>\n",
       "      <th>12</th>\n",
       "      <td>6.0</td>\n",
       "      <td>0</td>\n",
       "      <td>2258</td>\n",
       "    </tr>\n",
       "    <tr>\n",
       "      <th>13</th>\n",
       "      <td>6.0</td>\n",
       "      <td>1</td>\n",
       "      <td>183</td>\n",
       "    </tr>\n",
       "    <tr>\n",
       "      <th>14</th>\n",
       "      <td>7.0</td>\n",
       "      <td>0</td>\n",
       "      <td>1742</td>\n",
       "    </tr>\n",
       "    <tr>\n",
       "      <th>15</th>\n",
       "      <td>7.0</td>\n",
       "      <td>1</td>\n",
       "      <td>152</td>\n",
       "    </tr>\n",
       "    <tr>\n",
       "      <th>16</th>\n",
       "      <td>8.0</td>\n",
       "      <td>0</td>\n",
       "      <td>2430</td>\n",
       "    </tr>\n",
       "    <tr>\n",
       "      <th>17</th>\n",
       "      <td>8.0</td>\n",
       "      <td>1</td>\n",
       "      <td>226</td>\n",
       "    </tr>\n",
       "    <tr>\n",
       "      <th>18</th>\n",
       "      <td>9.0</td>\n",
       "      <td>0</td>\n",
       "      <td>1841</td>\n",
       "    </tr>\n",
       "    <tr>\n",
       "      <th>19</th>\n",
       "      <td>9.0</td>\n",
       "      <td>1</td>\n",
       "      <td>180</td>\n",
       "    </tr>\n",
       "    <tr>\n",
       "      <th>20</th>\n",
       "      <td>10.0</td>\n",
       "      <td>0</td>\n",
       "      <td>2190</td>\n",
       "    </tr>\n",
       "    <tr>\n",
       "      <th>21</th>\n",
       "      <td>10.0</td>\n",
       "      <td>1</td>\n",
       "      <td>226</td>\n",
       "    </tr>\n",
       "    <tr>\n",
       "      <th>22</th>\n",
       "      <td>11.0</td>\n",
       "      <td>0</td>\n",
       "      <td>1787</td>\n",
       "    </tr>\n",
       "    <tr>\n",
       "      <th>23</th>\n",
       "      <td>11.0</td>\n",
       "      <td>1</td>\n",
       "      <td>225</td>\n",
       "    </tr>\n",
       "    <tr>\n",
       "      <th>24</th>\n",
       "      <td>12.0</td>\n",
       "      <td>0</td>\n",
       "      <td>1653</td>\n",
       "    </tr>\n",
       "    <tr>\n",
       "      <th>25</th>\n",
       "      <td>12.0</td>\n",
       "      <td>1</td>\n",
       "      <td>198</td>\n",
       "    </tr>\n",
       "    <tr>\n",
       "      <th>26</th>\n",
       "      <td>13.0</td>\n",
       "      <td>0</td>\n",
       "      <td>1687</td>\n",
       "    </tr>\n",
       "    <tr>\n",
       "      <th>27</th>\n",
       "      <td>13.0</td>\n",
       "      <td>1</td>\n",
       "      <td>186</td>\n",
       "    </tr>\n",
       "    <tr>\n",
       "      <th>28</th>\n",
       "      <td>14.0</td>\n",
       "      <td>0</td>\n",
       "      <td>1373</td>\n",
       "    </tr>\n",
       "    <tr>\n",
       "      <th>29</th>\n",
       "      <td>14.0</td>\n",
       "      <td>1</td>\n",
       "      <td>174</td>\n",
       "    </tr>\n",
       "    <tr>\n",
       "      <th>30</th>\n",
       "      <td>15.0</td>\n",
       "      <td>0</td>\n",
       "      <td>2018</td>\n",
       "    </tr>\n",
       "    <tr>\n",
       "      <th>31</th>\n",
       "      <td>15.0</td>\n",
       "      <td>1</td>\n",
       "      <td>266</td>\n",
       "    </tr>\n",
       "    <tr>\n",
       "      <th>32</th>\n",
       "      <td>16.0</td>\n",
       "      <td>0</td>\n",
       "      <td>1783</td>\n",
       "    </tr>\n",
       "    <tr>\n",
       "      <th>33</th>\n",
       "      <td>16.0</td>\n",
       "      <td>1</td>\n",
       "      <td>288</td>\n",
       "    </tr>\n",
       "    <tr>\n",
       "      <th>34</th>\n",
       "      <td>17.0</td>\n",
       "      <td>0</td>\n",
       "      <td>2329</td>\n",
       "    </tr>\n",
       "    <tr>\n",
       "      <th>35</th>\n",
       "      <td>17.0</td>\n",
       "      <td>1</td>\n",
       "      <td>403</td>\n",
       "    </tr>\n",
       "    <tr>\n",
       "      <th>36</th>\n",
       "      <td>18.0</td>\n",
       "      <td>0</td>\n",
       "      <td>2270</td>\n",
       "    </tr>\n",
       "    <tr>\n",
       "      <th>37</th>\n",
       "      <td>18.0</td>\n",
       "      <td>1</td>\n",
       "      <td>424</td>\n",
       "    </tr>\n",
       "    <tr>\n",
       "      <th>38</th>\n",
       "      <td>19.0</td>\n",
       "      <td>0</td>\n",
       "      <td>1690</td>\n",
       "    </tr>\n",
       "    <tr>\n",
       "      <th>39</th>\n",
       "      <td>19.0</td>\n",
       "      <td>1</td>\n",
       "      <td>389</td>\n",
       "    </tr>\n",
       "    <tr>\n",
       "      <th>40</th>\n",
       "      <td>20.0</td>\n",
       "      <td>0</td>\n",
       "      <td>1543</td>\n",
       "    </tr>\n",
       "    <tr>\n",
       "      <th>41</th>\n",
       "      <td>20.0</td>\n",
       "      <td>1</td>\n",
       "      <td>304</td>\n",
       "    </tr>\n",
       "    <tr>\n",
       "      <th>42</th>\n",
       "      <td>21.0</td>\n",
       "      <td>0</td>\n",
       "      <td>1579</td>\n",
       "    </tr>\n",
       "    <tr>\n",
       "      <th>43</th>\n",
       "      <td>21.0</td>\n",
       "      <td>1</td>\n",
       "      <td>335</td>\n",
       "    </tr>\n",
       "    <tr>\n",
       "      <th>44</th>\n",
       "      <td>22.0</td>\n",
       "      <td>0</td>\n",
       "      <td>883</td>\n",
       "    </tr>\n",
       "    <tr>\n",
       "      <th>45</th>\n",
       "      <td>22.0</td>\n",
       "      <td>1</td>\n",
       "      <td>216</td>\n",
       "    </tr>\n",
       "    <tr>\n",
       "      <th>46</th>\n",
       "      <td>23.0</td>\n",
       "      <td>0</td>\n",
       "      <td>927</td>\n",
       "    </tr>\n",
       "    <tr>\n",
       "      <th>47</th>\n",
       "      <td>23.0</td>\n",
       "      <td>1</td>\n",
       "      <td>251</td>\n",
       "    </tr>\n",
       "    <tr>\n",
       "      <th>48</th>\n",
       "      <td>24.0</td>\n",
       "      <td>0</td>\n",
       "      <td>1328</td>\n",
       "    </tr>\n",
       "    <tr>\n",
       "      <th>49</th>\n",
       "      <td>24.0</td>\n",
       "      <td>1</td>\n",
       "      <td>323</td>\n",
       "    </tr>\n",
       "    <tr>\n",
       "      <th>50</th>\n",
       "      <td>25.0</td>\n",
       "      <td>0</td>\n",
       "      <td>1326</td>\n",
       "    </tr>\n",
       "    <tr>\n",
       "      <th>51</th>\n",
       "      <td>25.0</td>\n",
       "      <td>1</td>\n",
       "      <td>379</td>\n",
       "    </tr>\n",
       "    <tr>\n",
       "      <th>52</th>\n",
       "      <td>26.0</td>\n",
       "      <td>0</td>\n",
       "      <td>1247</td>\n",
       "    </tr>\n",
       "    <tr>\n",
       "      <th>53</th>\n",
       "      <td>26.0</td>\n",
       "      <td>1</td>\n",
       "      <td>370</td>\n",
       "    </tr>\n",
       "    <tr>\n",
       "      <th>54</th>\n",
       "      <td>27.0</td>\n",
       "      <td>0</td>\n",
       "      <td>1313</td>\n",
       "    </tr>\n",
       "    <tr>\n",
       "      <th>55</th>\n",
       "      <td>27.0</td>\n",
       "      <td>1</td>\n",
       "      <td>376</td>\n",
       "    </tr>\n",
       "    <tr>\n",
       "      <th>56</th>\n",
       "      <td>28.0</td>\n",
       "      <td>0</td>\n",
       "      <td>1354</td>\n",
       "    </tr>\n",
       "    <tr>\n",
       "      <th>57</th>\n",
       "      <td>28.0</td>\n",
       "      <td>1</td>\n",
       "      <td>427</td>\n",
       "    </tr>\n",
       "    <tr>\n",
       "      <th>58</th>\n",
       "      <td>29.0</td>\n",
       "      <td>0</td>\n",
       "      <td>2377</td>\n",
       "    </tr>\n",
       "    <tr>\n",
       "      <th>59</th>\n",
       "      <td>29.0</td>\n",
       "      <td>1</td>\n",
       "      <td>826</td>\n",
       "    </tr>\n",
       "  </tbody>\n",
       "</table>\n",
       "</div>"
      ],
      "text/plain": [
       "    Max_DPD_L3m  Target_Flag  count\n",
       "0           0.0            0  23603\n",
       "1           0.0            1   1913\n",
       "2           1.0            0    917\n",
       "3           1.0            1     90\n",
       "4           2.0            0    952\n",
       "5           2.0            1     88\n",
       "6           3.0            0   1143\n",
       "7           3.0            1     73\n",
       "8           4.0            0   1772\n",
       "9           4.0            1    138\n",
       "10          5.0            0   1935\n",
       "11          5.0            1    131\n",
       "12          6.0            0   2258\n",
       "13          6.0            1    183\n",
       "14          7.0            0   1742\n",
       "15          7.0            1    152\n",
       "16          8.0            0   2430\n",
       "17          8.0            1    226\n",
       "18          9.0            0   1841\n",
       "19          9.0            1    180\n",
       "20         10.0            0   2190\n",
       "21         10.0            1    226\n",
       "22         11.0            0   1787\n",
       "23         11.0            1    225\n",
       "24         12.0            0   1653\n",
       "25         12.0            1    198\n",
       "26         13.0            0   1687\n",
       "27         13.0            1    186\n",
       "28         14.0            0   1373\n",
       "29         14.0            1    174\n",
       "30         15.0            0   2018\n",
       "31         15.0            1    266\n",
       "32         16.0            0   1783\n",
       "33         16.0            1    288\n",
       "34         17.0            0   2329\n",
       "35         17.0            1    403\n",
       "36         18.0            0   2270\n",
       "37         18.0            1    424\n",
       "38         19.0            0   1690\n",
       "39         19.0            1    389\n",
       "40         20.0            0   1543\n",
       "41         20.0            1    304\n",
       "42         21.0            0   1579\n",
       "43         21.0            1    335\n",
       "44         22.0            0    883\n",
       "45         22.0            1    216\n",
       "46         23.0            0    927\n",
       "47         23.0            1    251\n",
       "48         24.0            0   1328\n",
       "49         24.0            1    323\n",
       "50         25.0            0   1326\n",
       "51         25.0            1    379\n",
       "52         26.0            0   1247\n",
       "53         26.0            1    370\n",
       "54         27.0            0   1313\n",
       "55         27.0            1    376\n",
       "56         28.0            0   1354\n",
       "57         28.0            1    427\n",
       "58         29.0            0   2377\n",
       "59         29.0            1    826"
      ]
     },
     "execution_count": 151,
     "metadata": {},
     "output_type": "execute_result"
    }
   ],
   "source": [
    "value_counts_grouped = df.groupby(['Max_DPD_L3m', 'Target_Flag']).size().reset_index(name='count')\n",
    "value_counts_grouped"
   ]
  },
  {
   "cell_type": "code",
   "execution_count": null,
   "metadata": {},
   "outputs": [
    {
     "data": {
      "text/plain": [
       "0    47283\n",
       "1     4183\n",
       "Name: Target_Flag, dtype: int64"
      ]
     },
     "execution_count": 159,
     "metadata": {},
     "output_type": "execute_result"
    }
   ],
   "source": [
    "df['Target_Flag'][df['Max_DPD_L3m'] == 0.0].value_counts()"
   ]
  },
  {
   "cell_type": "code",
   "execution_count": null,
   "metadata": {},
   "outputs": [
    {
     "data": {
      "text/plain": [
       "0    47647\n",
       "1     7847\n",
       "Name: Target_Flag, dtype: int64"
      ]
     },
     "execution_count": 158,
     "metadata": {},
     "output_type": "execute_result"
    }
   ],
   "source": [
    "df['Target_Flag'][df['Max_DPD_L3m'] > 0.0].value_counts()"
   ]
  },
  {
   "cell_type": "markdown",
   "metadata": {},
   "source": [
    "We see that about 7.5% of customer defaulted when their days delay in payment was 0.\n",
    "Also about 14.12% of people defaulted otherwise.\n",
    "\n",
    "One interesting way to solve this problem would be imputing 0.0 in case target flag is 0 and  15.0 or higher when target flag is 1."
   ]
  },
  {
   "cell_type": "code",
   "execution_count": null,
   "metadata": {},
   "outputs": [
    {
     "data": {
      "text/plain": [
       "<Axes: >"
      ]
     },
     "execution_count": 146,
     "metadata": {},
     "output_type": "execute_result"
    },
    {
     "data": {
      "image/png": "[encoded data removed]",
      "text/plain": [
       "<Figure size 640x480 with 1 Axes>"
      ]
     },
     "metadata": {},
     "output_type": "display_data"
    }
   ],
   "source": [
    "df['Max_DPD_L3m'].value_counts().plot(kind='bar')"
   ]
  },
  {
   "cell_type": "code",
   "execution_count": null,
   "metadata": {},
   "outputs": [],
   "source": [
    "from random import randint\n",
    "\n",
    "df['Max_DPD_L3m'].fillna(0.0 if (df['Target_Flag'] == 0).all() else np.random.randint(15, 30), inplace=True)\n"
   ]
  },
  {
   "cell_type": "markdown",
   "metadata": {},
   "source": [
    "Now for column \"Max_Loan_Balance_Others\":"
   ]
  },
  {
   "cell_type": "code",
   "execution_count": null,
   "metadata": {},
   "outputs": [
    {
     "data": {
      "text/plain": [
       "341"
      ]
     },
     "execution_count": 165,
     "metadata": {},
     "output_type": "execute_result"
    }
   ],
   "source": [
    "df['Max_Loan_Balance_Others'].isna().sum()"
   ]
  },
  {
   "cell_type": "code",
   "execution_count": null,
   "metadata": {},
   "outputs": [
    {
     "data": {
      "text/plain": [
       "0    298\n",
       "1     43\n",
       "Name: Target_Flag, dtype: int64"
      ]
     },
     "execution_count": 170,
     "metadata": {},
     "output_type": "execute_result"
    }
   ],
   "source": [
    "df['Target_Flag'][df['Max_Loan_Balance_Others'].isna()].value_counts()"
   ]
  },
  {
   "cell_type": "code",
   "execution_count": null,
   "metadata": {},
   "outputs": [
    {
     "data": {
      "text/plain": [
       "count    8.091200e+04\n",
       "mean     1.462583e+05\n",
       "std      4.509210e+05\n",
       "min     -5.425000e+03\n",
       "25%      9.992000e+03\n",
       "50%      1.999900e+04\n",
       "75%      1.100060e+05\n",
       "max      6.553632e+07\n",
       "Name: Max_Loan_Balance_Others, dtype: float64"
      ]
     },
     "execution_count": 172,
     "metadata": {},
     "output_type": "execute_result"
    }
   ],
   "source": [
    "df['Max_Loan_Balance_Others'].describe()"
   ]
  },
  {
   "cell_type": "markdown",
   "metadata": {},
   "source": [
    "We see there are some negative values in this column lets make them positive."
   ]
  },
  {
   "cell_type": "code",
   "execution_count": null,
   "metadata": {},
   "outputs": [],
   "source": [
    "df['Max_Loan_Balance_Others'] = df['Max_Loan_Balance_Others'].abs()"
   ]
  },
  {
   "cell_type": "code",
   "execution_count": null,
   "metadata": {},
   "outputs": [
    {
     "data": {
      "text/plain": [
       "count    8.091200e+04\n",
       "mean     1.462589e+05\n",
       "std      4.509208e+05\n",
       "min      0.000000e+00\n",
       "25%      9.992000e+03\n",
       "50%      1.999900e+04\n",
       "75%      1.100060e+05\n",
       "max      6.553632e+07\n",
       "Name: Max_Loan_Balance_Others, dtype: float64"
      ]
     },
     "execution_count": 174,
     "metadata": {},
     "output_type": "execute_result"
    }
   ],
   "source": [
    "df['Max_Loan_Balance_Others'].describe()"
   ]
  },
  {
   "cell_type": "markdown",
   "metadata": {},
   "source": [
    "Let's compare different percentile with Target_Flag"
   ]
  },
  {
   "cell_type": "code",
   "execution_count": null,
   "metadata": {},
   "outputs": [
    {
     "data": {
      "text/plain": [
       "0    17801\n",
       "1     2403\n",
       "Name: Target_Flag, dtype: int64"
      ]
     },
     "execution_count": 178,
     "metadata": {},
     "output_type": "execute_result"
    }
   ],
   "source": [
    "df['Target_Flag'][df['Max_Loan_Balance_Others']<9992].value_counts()"
   ]
  },
  {
   "cell_type": "markdown",
   "metadata": {},
   "source": [
    "12%, 12.5%, 12.42%, 10.9%\n",
    "12.32, "
   ]
  },
  {
   "cell_type": "code",
   "execution_count": null,
   "metadata": {},
   "outputs": [
    {
     "data": {
      "text/plain": [
       "0    35394\n",
       "1     5036\n",
       "Name: Target_Flag, dtype: int64"
      ]
     },
     "execution_count": 177,
     "metadata": {},
     "output_type": "execute_result"
    }
   ],
   "source": [
    "df['Target_Flag'][df['Max_Loan_Balance_Others']<19999].value_counts()"
   ]
  },
  {
   "cell_type": "code",
   "execution_count": null,
   "metadata": {},
   "outputs": [
    {
     "data": {
      "text/plain": [
       "0    35682\n",
       "1     4686\n",
       "Name: Target_Flag, dtype: int64"
      ]
     },
     "execution_count": 186,
     "metadata": {},
     "output_type": "execute_result"
    }
   ],
   "source": [
    "df['Target_Flag'][(9992 < df['Max_Loan_Balance_Others']) & (df['Max_Loan_Balance_Others'] > 19999)].value_counts()"
   ]
  },
  {
   "cell_type": "code",
   "execution_count": null,
   "metadata": {},
   "outputs": [
    {
     "data": {
      "text/plain": [
       "0    18024\n",
       "1     2204\n",
       "Name: Target_Flag, dtype: int64"
      ]
     },
     "execution_count": 184,
     "metadata": {},
     "output_type": "execute_result"
    }
   ],
   "source": [
    "df['Target_Flag'][(19999 < df['Max_Loan_Balance_Others']) & (df['Max_Loan_Balance_Others'] > 110006)].value_counts()\n"
   ]
  },
  {
   "cell_type": "code",
   "execution_count": null,
   "metadata": {},
   "outputs": [
    {
     "data": {
      "text/plain": [
       "0    18024\n",
       "1     2204\n",
       "Name: Target_Flag, dtype: int64"
      ]
     },
     "execution_count": 179,
     "metadata": {},
     "output_type": "execute_result"
    }
   ],
   "source": [
    "df['Target_Flag'][df['Max_Loan_Balance_Others']>110006].value_counts()"
   ]
  },
  {
   "cell_type": "code",
   "execution_count": null,
   "metadata": {},
   "outputs": [
    {
     "data": {
      "text/plain": [
       "0    1787\n",
       "1     212\n",
       "Name: Target_Flag, dtype: int64"
      ]
     },
     "execution_count": 187,
     "metadata": {},
     "output_type": "execute_result"
    }
   ],
   "source": [
    "df['Target_Flag'][df['Max_Loan_Balance_Others']== 0.0].value_counts()"
   ]
  },
  {
   "cell_type": "markdown",
   "metadata": {},
   "source": [
    "1. There are zeroes in this column which suggest that column includes people with zero loan. <br>\n",
    "2. There are very less null values it may quite simply mean that these customer doesn't even have a bank account in other banks.\n",
    "3. Distribution of target flag over different range of percentile is more or less similar.\n",
    "4. Moreover distribution of target flag is also quite similar in case when loan balance with others is 0.\n",
    "\n",
    " -----> In any case filling these null values with 0 will do no harm."
   ]
  },
  {
   "cell_type": "code",
   "execution_count": null,
   "metadata": {},
   "outputs": [],
   "source": []
  },
  {
   "cell_type": "code",
   "execution_count": null,
   "metadata": {},
   "outputs": [
    {
     "data": {
      "image/png": "[encoded data removed]",
      "text/plain": [
       "<Figure size 800x600 with 2 Axes>"
      ]
     },
     "metadata": {},
     "output_type": "display_data"
    }
   ],
   "source": [
    "value_counts_grouped = df.groupby(['N_PosBkt_L3m', 'Target_Flag']).size().reset_index(name='count')\n",
    "\n",
    "pivot_table = value_counts_grouped.pivot('N_PosBkt_L3m', 'Target_Flag', 'count')\n",
    "\n",
    "\n",
    "plt.figure(figsize=(8, 6))\n",
    "sns.heatmap(pivot_table, annot=True, cmap=\"YlGnBu\", fmt='g')\n",
    "plt.title(\"Count of Combinations\")\n",
    "plt.show()"
   ]
  },
  {
   "cell_type": "code",
   "execution_count": null,
   "metadata": {},
   "outputs": [
    {
     "data": {
      "text/plain": [
       "Index(['N_Default_L3m', 'Branch_Code', 'Max_Utilization',\n",
       "       'Max_Perc_Def_Chg_Pending', 'N_Family_Member',\n",
       "       'Max_Ratio_OC_Pending_POS', 'N_PosBkt_L3m', 'CoAp_Income',\n",
       "       'Ever_Default_L12M', 'Perc_Paymode_Online', 'Perc_Repay_Fail',\n",
       "       'Birth_Year', 'Max_DPD_L3m', 'Perc_Paymode_Cheq_Fail', 'Age',\n",
       "       'Total_Field_Trails', 'Total_Resolved', 'N_Enq_L9m',\n",
       "       'Max_Loan_Balance_Others', 'N_WorkEx_Yr', 'Target_Flag'],\n",
       "      dtype='object')"
      ]
     },
     "execution_count": 75,
     "metadata": {},
     "output_type": "execute_result"
    }
   ],
   "source": [
    "col"
   ]
  },
  {
   "cell_type": "code",
   "execution_count": null,
   "metadata": {},
   "outputs": [
    {
     "data": {
      "image/png": "[encoded data removed]",
      "text/plain": [
       "<Figure size 800x600 with 2 Axes>"
      ]
     },
     "metadata": {},
     "output_type": "display_data"
    }
   ],
   "source": [
    "value_counts_grouped = df.groupby(['Total_Field_Trails', 'Target_Flag']).size().reset_index(name='count')\n",
    "\n",
    "pivot_table = value_counts_grouped.pivot('Total_Field_Trails', 'Target_Flag', 'count')\n",
    "\n",
    "\n",
    "plt.figure(figsize=(8, 6))\n",
    "sns.heatmap(pivot_table, annot=True, cmap=\"YlGnBu\", fmt='g')\n",
    "plt.title(\"Count of Combinations\")\n",
    "plt.show()"
   ]
  },
  {
   "cell_type": "code",
   "execution_count": null,
   "metadata": {},
   "outputs": [
    {
     "data": {
      "image/png": "[encoded data removed]",
      "text/plain": [
       "<Figure size 800x600 with 2 Axes>"
      ]
     },
     "metadata": {},
     "output_type": "display_data"
    }
   ],
   "source": [
    "value_counts_grouped = df.groupby(['Total_Field_Trails', 'Total_Resolved']).size().reset_index(name='count')\n",
    "\n",
    "pivot_table = value_counts_grouped.pivot('Total_Field_Trails', 'Total_Resolved', 'count')\n",
    "\n",
    "\n",
    "plt.figure(figsize=(8, 6))\n",
    "sns.heatmap(pivot_table, annot=True, cmap=\"YlGnBu\", fmt='g')\n",
    "plt.title(\"Count of Combinations\")\n",
    "plt.show()"
   ]
  },
  {
   "cell_type": "code",
   "execution_count": null,
   "metadata": {},
   "outputs": [
    {
     "data": {
      "image/png": "[encoded data removed]",
      "text/plain": [
       "<Figure size 800x600 with 2 Axes>"
      ]
     },
     "metadata": {},
     "output_type": "display_data"
    }
   ],
   "source": [
    "value_counts_grouped = df.groupby(['Total_Field_Trails', 'Target_Flag', 'Total_Resolved']).size().reset_index(name='count')\n",
    "\n",
    "pivot_table = value_counts_grouped.pivot(index=['Total_Field_Trails', 'Target_Flag'], columns='Total_Resolved',values='count')\n",
    "\n",
    "\n",
    "plt.figure(figsize=(8, 6))\n",
    "sns.heatmap(pivot_table, annot=True, cmap=\"YlGnBu\", fmt='g')\n",
    "plt.title(\"Count of Combinations\")\n",
    "plt.show()"
   ]
  },
  {
   "cell_type": "code",
   "execution_count": null,
   "metadata": {},
   "outputs": [],
   "source": [
    "def value_wise_defaulter_percentage(df, col):\n",
    "    new_df = pd.DataFrame(columns=['Value', 'Percentage of Defaulter'])\n",
    "    \n",
    "    for value in df[col]:\n",
    "        default_cnt = df[(df[col] == value) & (df['Target_Flag']== 1)].shape[0]\n",
    "        total_cnt = df[df[col] == value].shape[0]\n",
    "        new_df = new_df.append({'Value' : value , 'Percentage of Defaulter' : (default_cnt*100/total_cnt)}, ignore_index=True)\n",
    "    return new_df.sort_values(by='Percentage of Defaulter', ascending=False)"
   ]
  },
  {
   "cell_type": "code",
   "execution_count": null,
   "metadata": {},
   "outputs": [
    {
     "data": {
      "text/html": [
       "<div>\n",
       "<style scoped>\n",
       "    .dataframe tbody tr th:only-of-type {\n",
       "        vertical-align: middle;\n",
       "    }\n",
       "\n",
       "    .dataframe tbody tr th {\n",
       "        vertical-align: top;\n",
       "    }\n",
       "\n",
       "    .dataframe thead th {\n",
       "        text-align: right;\n",
       "    }\n",
       "</style>\n",
       "<table border=\"1\" class=\"dataframe\">\n",
       "  <thead>\n",
       "    <tr style=\"text-align: right;\">\n",
       "      <th></th>\n",
       "      <th>N_Default_L3m</th>\n",
       "      <th>Branch_Code</th>\n",
       "      <th>Max_Utilization</th>\n",
       "      <th>Max_Perc_Def_Chg_Pending</th>\n",
       "      <th>N_Family_Member</th>\n",
       "      <th>Max_Ratio_OC_Pending_POS</th>\n",
       "      <th>N_PosBkt_L3m</th>\n",
       "      <th>CoAp_Income</th>\n",
       "      <th>Ever_Default_L12M</th>\n",
       "      <th>Perc_Paymode_Online</th>\n",
       "      <th>...</th>\n",
       "      <th>Birth_Year</th>\n",
       "      <th>Max_DPD_L3m</th>\n",
       "      <th>Perc_Paymode_Cheq_Fail</th>\n",
       "      <th>Age</th>\n",
       "      <th>Total_Field_Trails</th>\n",
       "      <th>Total_Resolved</th>\n",
       "      <th>N_Enq_L9m</th>\n",
       "      <th>Max_Loan_Balance_Others</th>\n",
       "      <th>N_WorkEx_Yr</th>\n",
       "      <th>Target_Flag</th>\n",
       "    </tr>\n",
       "    <tr>\n",
       "      <th>Customer_No</th>\n",
       "      <th></th>\n",
       "      <th></th>\n",
       "      <th></th>\n",
       "      <th></th>\n",
       "      <th></th>\n",
       "      <th></th>\n",
       "      <th></th>\n",
       "      <th></th>\n",
       "      <th></th>\n",
       "      <th></th>\n",
       "      <th></th>\n",
       "      <th></th>\n",
       "      <th></th>\n",
       "      <th></th>\n",
       "      <th></th>\n",
       "      <th></th>\n",
       "      <th></th>\n",
       "      <th></th>\n",
       "      <th></th>\n",
       "      <th></th>\n",
       "      <th></th>\n",
       "    </tr>\n",
       "  </thead>\n",
       "  <tbody>\n",
       "    <tr>\n",
       "      <th>13</th>\n",
       "      <td>3</td>\n",
       "      <td>25432</td>\n",
       "      <td>64</td>\n",
       "      <td>100.0</td>\n",
       "      <td>4</td>\n",
       "      <td>0.214887</td>\n",
       "      <td>0.0</td>\n",
       "      <td>NaN</td>\n",
       "      <td>Yes</td>\n",
       "      <td>0.500000</td>\n",
       "      <td>...</td>\n",
       "      <td>1996</td>\n",
       "      <td>28.0</td>\n",
       "      <td>1.000000</td>\n",
       "      <td>27</td>\n",
       "      <td>NaN</td>\n",
       "      <td>NaN</td>\n",
       "      <td>0</td>\n",
       "      <td>6472.0</td>\n",
       "      <td>4</td>\n",
       "      <td>1</td>\n",
       "    </tr>\n",
       "    <tr>\n",
       "      <th>26</th>\n",
       "      <td>3</td>\n",
       "      <td>62878</td>\n",
       "      <td>39</td>\n",
       "      <td>83.0</td>\n",
       "      <td>4</td>\n",
       "      <td>0.673448</td>\n",
       "      <td>0.0</td>\n",
       "      <td>NaN</td>\n",
       "      <td>Yes</td>\n",
       "      <td>0.428571</td>\n",
       "      <td>...</td>\n",
       "      <td>1984</td>\n",
       "      <td>28.0</td>\n",
       "      <td>0.750000</td>\n",
       "      <td>39</td>\n",
       "      <td>NaN</td>\n",
       "      <td>0.0</td>\n",
       "      <td>0</td>\n",
       "      <td>205125.0</td>\n",
       "      <td>-7</td>\n",
       "      <td>0</td>\n",
       "    </tr>\n",
       "    <tr>\n",
       "      <th>27</th>\n",
       "      <td>2</td>\n",
       "      <td>16764</td>\n",
       "      <td>40</td>\n",
       "      <td>82.0</td>\n",
       "      <td>4</td>\n",
       "      <td>0.192158</td>\n",
       "      <td>0.0</td>\n",
       "      <td>NaN</td>\n",
       "      <td>Yes</td>\n",
       "      <td>0.333333</td>\n",
       "      <td>...</td>\n",
       "      <td>1995</td>\n",
       "      <td>29.0</td>\n",
       "      <td>0.666667</td>\n",
       "      <td>28</td>\n",
       "      <td>NaN</td>\n",
       "      <td>0.0</td>\n",
       "      <td>0</td>\n",
       "      <td>570525.0</td>\n",
       "      <td>8</td>\n",
       "      <td>1</td>\n",
       "    </tr>\n",
       "    <tr>\n",
       "      <th>29</th>\n",
       "      <td>3</td>\n",
       "      <td>60182</td>\n",
       "      <td>68</td>\n",
       "      <td>67.0</td>\n",
       "      <td>0</td>\n",
       "      <td>0.110243</td>\n",
       "      <td>1.0</td>\n",
       "      <td>67243.0</td>\n",
       "      <td>Yes</td>\n",
       "      <td>0.285714</td>\n",
       "      <td>...</td>\n",
       "      <td>1973</td>\n",
       "      <td>14.0</td>\n",
       "      <td>0.600000</td>\n",
       "      <td>50</td>\n",
       "      <td>NaN</td>\n",
       "      <td>1.0</td>\n",
       "      <td>0</td>\n",
       "      <td>7861.0</td>\n",
       "      <td>24</td>\n",
       "      <td>0</td>\n",
       "    </tr>\n",
       "    <tr>\n",
       "      <th>34</th>\n",
       "      <td>3</td>\n",
       "      <td>62390</td>\n",
       "      <td>64</td>\n",
       "      <td>100.0</td>\n",
       "      <td>-4</td>\n",
       "      <td>0.225771</td>\n",
       "      <td>0.0</td>\n",
       "      <td>NaN</td>\n",
       "      <td>Yes</td>\n",
       "      <td>0.375000</td>\n",
       "      <td>...</td>\n",
       "      <td>1993</td>\n",
       "      <td>28.0</td>\n",
       "      <td>0.600000</td>\n",
       "      <td>30</td>\n",
       "      <td>1.0</td>\n",
       "      <td>0.0</td>\n",
       "      <td>0</td>\n",
       "      <td>82058.0</td>\n",
       "      <td>-4</td>\n",
       "      <td>0</td>\n",
       "    </tr>\n",
       "    <tr>\n",
       "      <th>...</th>\n",
       "      <td>...</td>\n",
       "      <td>...</td>\n",
       "      <td>...</td>\n",
       "      <td>...</td>\n",
       "      <td>...</td>\n",
       "      <td>...</td>\n",
       "      <td>...</td>\n",
       "      <td>...</td>\n",
       "      <td>...</td>\n",
       "      <td>...</td>\n",
       "      <td>...</td>\n",
       "      <td>...</td>\n",
       "      <td>...</td>\n",
       "      <td>...</td>\n",
       "      <td>...</td>\n",
       "      <td>...</td>\n",
       "      <td>...</td>\n",
       "      <td>...</td>\n",
       "      <td>...</td>\n",
       "      <td>...</td>\n",
       "      <td>...</td>\n",
       "    </tr>\n",
       "    <tr>\n",
       "      <th>81018</th>\n",
       "      <td>1</td>\n",
       "      <td>54909</td>\n",
       "      <td>100</td>\n",
       "      <td>100.0</td>\n",
       "      <td>7</td>\n",
       "      <td>0.052872</td>\n",
       "      <td>NaN</td>\n",
       "      <td>NaN</td>\n",
       "      <td>Yes</td>\n",
       "      <td>0.250000</td>\n",
       "      <td>...</td>\n",
       "      <td>1984</td>\n",
       "      <td>26.0</td>\n",
       "      <td>0.500000</td>\n",
       "      <td>39</td>\n",
       "      <td>NaN</td>\n",
       "      <td>NaN</td>\n",
       "      <td>0</td>\n",
       "      <td>8800.0</td>\n",
       "      <td>5</td>\n",
       "      <td>0</td>\n",
       "    </tr>\n",
       "    <tr>\n",
       "      <th>81052</th>\n",
       "      <td>1</td>\n",
       "      <td>60825</td>\n",
       "      <td>100</td>\n",
       "      <td>100.0</td>\n",
       "      <td>4</td>\n",
       "      <td>0.046532</td>\n",
       "      <td>NaN</td>\n",
       "      <td>NaN</td>\n",
       "      <td>Yes</td>\n",
       "      <td>0.250000</td>\n",
       "      <td>...</td>\n",
       "      <td>1983</td>\n",
       "      <td>26.0</td>\n",
       "      <td>0.500000</td>\n",
       "      <td>40</td>\n",
       "      <td>NaN</td>\n",
       "      <td>NaN</td>\n",
       "      <td>0</td>\n",
       "      <td>10205.0</td>\n",
       "      <td>20</td>\n",
       "      <td>0</td>\n",
       "    </tr>\n",
       "    <tr>\n",
       "      <th>81173</th>\n",
       "      <td>1</td>\n",
       "      <td>69755</td>\n",
       "      <td>100</td>\n",
       "      <td>100.0</td>\n",
       "      <td>9</td>\n",
       "      <td>0.021280</td>\n",
       "      <td>NaN</td>\n",
       "      <td>NaN</td>\n",
       "      <td>Yes</td>\n",
       "      <td>0.000000</td>\n",
       "      <td>...</td>\n",
       "      <td>1976</td>\n",
       "      <td>29.0</td>\n",
       "      <td>0.500000</td>\n",
       "      <td>47</td>\n",
       "      <td>NaN</td>\n",
       "      <td>NaN</td>\n",
       "      <td>0</td>\n",
       "      <td>21866.0</td>\n",
       "      <td>19</td>\n",
       "      <td>0</td>\n",
       "    </tr>\n",
       "    <tr>\n",
       "      <th>81231</th>\n",
       "      <td>2</td>\n",
       "      <td>8852</td>\n",
       "      <td>100</td>\n",
       "      <td>100.0</td>\n",
       "      <td>11</td>\n",
       "      <td>0.043705</td>\n",
       "      <td>NaN</td>\n",
       "      <td>NaN</td>\n",
       "      <td>Yes</td>\n",
       "      <td>0.333333</td>\n",
       "      <td>...</td>\n",
       "      <td>1989</td>\n",
       "      <td>29.0</td>\n",
       "      <td>0.500000</td>\n",
       "      <td>34</td>\n",
       "      <td>NaN</td>\n",
       "      <td>NaN</td>\n",
       "      <td>0</td>\n",
       "      <td>0.0</td>\n",
       "      <td>14</td>\n",
       "      <td>1</td>\n",
       "    </tr>\n",
       "    <tr>\n",
       "      <th>81232</th>\n",
       "      <td>2</td>\n",
       "      <td>9317</td>\n",
       "      <td>100</td>\n",
       "      <td>100.0</td>\n",
       "      <td>9</td>\n",
       "      <td>0.040204</td>\n",
       "      <td>NaN</td>\n",
       "      <td>NaN</td>\n",
       "      <td>Yes</td>\n",
       "      <td>0.333333</td>\n",
       "      <td>...</td>\n",
       "      <td>1994</td>\n",
       "      <td>26.0</td>\n",
       "      <td>0.500000</td>\n",
       "      <td>29</td>\n",
       "      <td>NaN</td>\n",
       "      <td>NaN</td>\n",
       "      <td>0</td>\n",
       "      <td>13096.0</td>\n",
       "      <td>9</td>\n",
       "      <td>1</td>\n",
       "    </tr>\n",
       "  </tbody>\n",
       "</table>\n",
       "<p>8574 rows × 21 columns</p>\n",
       "</div>"
      ],
      "text/plain": [
       "             N_Default_L3m  Branch_Code  Max_Utilization  \\\n",
       "Customer_No                                                \n",
       "13                       3        25432               64   \n",
       "26                       3        62878               39   \n",
       "27                       2        16764               40   \n",
       "29                       3        60182               68   \n",
       "34                       3        62390               64   \n",
       "...                    ...          ...              ...   \n",
       "81018                    1        54909              100   \n",
       "81052                    1        60825              100   \n",
       "81173                    1        69755              100   \n",
       "81231                    2         8852              100   \n",
       "81232                    2         9317              100   \n",
       "\n",
       "             Max_Perc_Def_Chg_Pending  N_Family_Member  \\\n",
       "Customer_No                                              \n",
       "13                              100.0                4   \n",
       "26                               83.0                4   \n",
       "27                               82.0                4   \n",
       "29                               67.0                0   \n",
       "34                              100.0               -4   \n",
       "...                               ...              ...   \n",
       "81018                           100.0                7   \n",
       "81052                           100.0                4   \n",
       "81173                           100.0                9   \n",
       "81231                           100.0               11   \n",
       "81232                           100.0                9   \n",
       "\n",
       "             Max_Ratio_OC_Pending_POS  N_PosBkt_L3m  CoAp_Income  \\\n",
       "Customer_No                                                        \n",
       "13                           0.214887           0.0          NaN   \n",
       "26                           0.673448           0.0          NaN   \n",
       "27                           0.192158           0.0          NaN   \n",
       "29                           0.110243           1.0      67243.0   \n",
       "34                           0.225771           0.0          NaN   \n",
       "...                               ...           ...          ...   \n",
       "81018                        0.052872           NaN          NaN   \n",
       "81052                        0.046532           NaN          NaN   \n",
       "81173                        0.021280           NaN          NaN   \n",
       "81231                        0.043705           NaN          NaN   \n",
       "81232                        0.040204           NaN          NaN   \n",
       "\n",
       "            Ever_Default_L12M  Perc_Paymode_Online  ...  Birth_Year  \\\n",
       "Customer_No                                         ...               \n",
       "13                        Yes             0.500000  ...        1996   \n",
       "26                        Yes             0.428571  ...        1984   \n",
       "27                        Yes             0.333333  ...        1995   \n",
       "29                        Yes             0.285714  ...        1973   \n",
       "34                        Yes             0.375000  ...        1993   \n",
       "...                       ...                  ...  ...         ...   \n",
       "81018                     Yes             0.250000  ...        1984   \n",
       "81052                     Yes             0.250000  ...        1983   \n",
       "81173                     Yes             0.000000  ...        1976   \n",
       "81231                     Yes             0.333333  ...        1989   \n",
       "81232                     Yes             0.333333  ...        1994   \n",
       "\n",
       "             Max_DPD_L3m  Perc_Paymode_Cheq_Fail  Age  Total_Field_Trails  \\\n",
       "Customer_No                                                                 \n",
       "13                  28.0                1.000000   27                 NaN   \n",
       "26                  28.0                0.750000   39                 NaN   \n",
       "27                  29.0                0.666667   28                 NaN   \n",
       "29                  14.0                0.600000   50                 NaN   \n",
       "34                  28.0                0.600000   30                 1.0   \n",
       "...                  ...                     ...  ...                 ...   \n",
       "81018               26.0                0.500000   39                 NaN   \n",
       "81052               26.0                0.500000   40                 NaN   \n",
       "81173               29.0                0.500000   47                 NaN   \n",
       "81231               29.0                0.500000   34                 NaN   \n",
       "81232               26.0                0.500000   29                 NaN   \n",
       "\n",
       "             Total_Resolved  N_Enq_L9m  Max_Loan_Balance_Others  N_WorkEx_Yr  \\\n",
       "Customer_No                                                                    \n",
       "13                      NaN          0                   6472.0            4   \n",
       "26                      0.0          0                 205125.0           -7   \n",
       "27                      0.0          0                 570525.0            8   \n",
       "29                      1.0          0                   7861.0           24   \n",
       "34                      0.0          0                  82058.0           -4   \n",
       "...                     ...        ...                      ...          ...   \n",
       "81018                   NaN          0                   8800.0            5   \n",
       "81052                   NaN          0                  10205.0           20   \n",
       "81173                   NaN          0                  21866.0           19   \n",
       "81231                   NaN          0                      0.0           14   \n",
       "81232                   NaN          0                  13096.0            9   \n",
       "\n",
       "             Target_Flag  \n",
       "Customer_No               \n",
       "13                     1  \n",
       "26                     0  \n",
       "27                     1  \n",
       "29                     0  \n",
       "34                     0  \n",
       "...                  ...  \n",
       "81018                  0  \n",
       "81052                  0  \n",
       "81173                  0  \n",
       "81231                  1  \n",
       "81232                  1  \n",
       "\n",
       "[8574 rows x 21 columns]"
      ]
     },
     "execution_count": 16,
     "metadata": {},
     "output_type": "execute_result"
    }
   ],
   "source": [
    "filtered_df = df[(df['Max_Ratio_OC_Pending_POS'] >= 0) & (df['Max_Ratio_OC_Pending_POS'] <= 1)]\n"
   ]
  },
  {
   "cell_type": "code",
   "execution_count": null,
   "metadata": {},
   "outputs": [
    {
     "data": {
      "text/plain": [
       "<Axes: ylabel='Density'>"
      ]
     },
     "execution_count": 18,
     "metadata": {},
     "output_type": "execute_result"
    },
    {
     "data": {
      "image/png": "[encoded data removed]",
      "text/plain": [
       "<Figure size 640x480 with 1 Axes>"
      ]
     },
     "metadata": {},
     "output_type": "display_data"
    }
   ],
   "source": [
    "filtered_df['Max_Ratio_OC_Pending_POS'].plot(kind='kde')"
   ]
  },
  {
   "cell_type": "code",
   "execution_count": null,
   "metadata": {},
   "outputs": [
    {
     "data": {
      "text/plain": [
       "<Axes: >"
      ]
     },
     "execution_count": 14,
     "metadata": {},
     "output_type": "execute_result"
    },
    {
     "data": {
      "image/png": "[encoded data removed]",
      "text/plain": [
       "<Figure size 640x480 with 1 Axes>"
      ]
     },
     "metadata": {},
     "output_type": "display_data"
    }
   ],
   "source": [
    "df['Max_Ratio_OC_Pending_POS'].hist(bins=50)"
   ]
  },
  {
   "cell_type": "code",
   "execution_count": null,
   "metadata": {},
   "outputs": [
    {
     "data": {
      "text/plain": [
       "0.000000    249\n",
       "0.255264     37\n",
       "0.110603     25\n",
       "0.088956     21\n",
       "0.106227     20\n",
       "           ... \n",
       "0.265586      1\n",
       "0.076857      1\n",
       "0.024070      1\n",
       "0.217585      1\n",
       "0.043705      1\n",
       "Name: Max_Ratio_OC_Pending_POS, Length: 6182, dtype: int64"
      ]
     },
     "execution_count": 15,
     "metadata": {},
     "output_type": "execute_result"
    }
   ],
   "source": [
    "count = df['Max_Ratio_OC_Pending_POS'].value_counts()\n",
    "count"
   ]
  },
  {
   "cell_type": "markdown",
   "metadata": {},
   "source": [
    "-----> Both test and train data have similar distribution of missing values."
   ]
  },
  {
   "cell_type": "markdown",
   "metadata": {},
   "source": [
    "---"
   ]
  },
  {
   "cell_type": "markdown",
   "metadata": {},
   "source": [
    "Identifying Numerical Datatypes Columns"
   ]
  },
  {
   "cell_type": "code",
   "execution_count": null,
   "metadata": {},
   "outputs": [
    {
     "name": "stdout",
     "output_type": "stream",
     "text": [
      "Number of numerical variables:  20\n"
     ]
    },
    {
     "data": {
      "text/html": [
       "<div>\n",
       "<style scoped>\n",
       "    .dataframe tbody tr th:only-of-type {\n",
       "        vertical-align: middle;\n",
       "    }\n",
       "\n",
       "    .dataframe tbody tr th {\n",
       "        vertical-align: top;\n",
       "    }\n",
       "\n",
       "    .dataframe thead th {\n",
       "        text-align: right;\n",
       "    }\n",
       "</style>\n",
       "<table border=\"1\" class=\"dataframe\">\n",
       "  <thead>\n",
       "    <tr style=\"text-align: right;\">\n",
       "      <th></th>\n",
       "      <th>N_Default_L3m</th>\n",
       "      <th>Branch_Code</th>\n",
       "      <th>Max_Utilization</th>\n",
       "      <th>Max_Perc_Def_Chg_Pending</th>\n",
       "      <th>N_Family_Member</th>\n",
       "      <th>Max_Ratio_OC_Pending_POS</th>\n",
       "      <th>N_PosBkt_L3m</th>\n",
       "      <th>CoAp_Income</th>\n",
       "      <th>Perc_Paymode_Online</th>\n",
       "      <th>Perc_Repay_Fail</th>\n",
       "      <th>Birth_Year</th>\n",
       "      <th>Max_DPD_L3m</th>\n",
       "      <th>Perc_Paymode_Cheq_Fail</th>\n",
       "      <th>Age</th>\n",
       "      <th>Total_Field_Trails</th>\n",
       "      <th>Total_Resolved</th>\n",
       "      <th>N_Enq_L9m</th>\n",
       "      <th>Max_Loan_Balance_Others</th>\n",
       "      <th>N_WorkEx_Yr</th>\n",
       "      <th>Target_Flag</th>\n",
       "    </tr>\n",
       "    <tr>\n",
       "      <th>Customer_No</th>\n",
       "      <th></th>\n",
       "      <th></th>\n",
       "      <th></th>\n",
       "      <th></th>\n",
       "      <th></th>\n",
       "      <th></th>\n",
       "      <th></th>\n",
       "      <th></th>\n",
       "      <th></th>\n",
       "      <th></th>\n",
       "      <th></th>\n",
       "      <th></th>\n",
       "      <th></th>\n",
       "      <th></th>\n",
       "      <th></th>\n",
       "      <th></th>\n",
       "      <th></th>\n",
       "      <th></th>\n",
       "      <th></th>\n",
       "      <th></th>\n",
       "    </tr>\n",
       "  </thead>\n",
       "  <tbody>\n",
       "    <tr>\n",
       "      <th>1</th>\n",
       "      <td>3</td>\n",
       "      <td>61749</td>\n",
       "      <td>38</td>\n",
       "      <td>100.0</td>\n",
       "      <td>5</td>\n",
       "      <td>NaN</td>\n",
       "      <td>0.0</td>\n",
       "      <td>NaN</td>\n",
       "      <td>0.285714</td>\n",
       "      <td>0.428571</td>\n",
       "      <td>1977</td>\n",
       "      <td>19.0</td>\n",
       "      <td>0.750</td>\n",
       "      <td>46</td>\n",
       "      <td>NaN</td>\n",
       "      <td>NaN</td>\n",
       "      <td>0</td>\n",
       "      <td>5527.0</td>\n",
       "      <td>15</td>\n",
       "      <td>0</td>\n",
       "    </tr>\n",
       "    <tr>\n",
       "      <th>2</th>\n",
       "      <td>1</td>\n",
       "      <td>30831</td>\n",
       "      <td>68</td>\n",
       "      <td>100.0</td>\n",
       "      <td>1</td>\n",
       "      <td>NaN</td>\n",
       "      <td>0.0</td>\n",
       "      <td>NaN</td>\n",
       "      <td>0.000000</td>\n",
       "      <td>0.200000</td>\n",
       "      <td>1990</td>\n",
       "      <td>2.0</td>\n",
       "      <td>0.500</td>\n",
       "      <td>33</td>\n",
       "      <td>NaN</td>\n",
       "      <td>NaN</td>\n",
       "      <td>0</td>\n",
       "      <td>12104.0</td>\n",
       "      <td>2</td>\n",
       "      <td>0</td>\n",
       "    </tr>\n",
       "    <tr>\n",
       "      <th>3</th>\n",
       "      <td>1</td>\n",
       "      <td>56708</td>\n",
       "      <td>39</td>\n",
       "      <td>50.0</td>\n",
       "      <td>-3</td>\n",
       "      <td>NaN</td>\n",
       "      <td>0.0</td>\n",
       "      <td>NaN</td>\n",
       "      <td>0.200000</td>\n",
       "      <td>0.200000</td>\n",
       "      <td>1995</td>\n",
       "      <td>25.0</td>\n",
       "      <td>1.000</td>\n",
       "      <td>28</td>\n",
       "      <td>NaN</td>\n",
       "      <td>0.0</td>\n",
       "      <td>1</td>\n",
       "      <td>153179.0</td>\n",
       "      <td>8</td>\n",
       "      <td>0</td>\n",
       "    </tr>\n",
       "    <tr>\n",
       "      <th>4</th>\n",
       "      <td>0</td>\n",
       "      <td>43551</td>\n",
       "      <td>76</td>\n",
       "      <td>NaN</td>\n",
       "      <td>0</td>\n",
       "      <td>NaN</td>\n",
       "      <td>0.0</td>\n",
       "      <td>NaN</td>\n",
       "      <td>0.000000</td>\n",
       "      <td>0.000000</td>\n",
       "      <td>1997</td>\n",
       "      <td>0.0</td>\n",
       "      <td>NaN</td>\n",
       "      <td>26</td>\n",
       "      <td>NaN</td>\n",
       "      <td>NaN</td>\n",
       "      <td>2</td>\n",
       "      <td>181589.0</td>\n",
       "      <td>6</td>\n",
       "      <td>0</td>\n",
       "    </tr>\n",
       "    <tr>\n",
       "      <th>5</th>\n",
       "      <td>3</td>\n",
       "      <td>15287</td>\n",
       "      <td>23</td>\n",
       "      <td>33.0</td>\n",
       "      <td>11</td>\n",
       "      <td>NaN</td>\n",
       "      <td>0.0</td>\n",
       "      <td>NaN</td>\n",
       "      <td>0.250000</td>\n",
       "      <td>0.250000</td>\n",
       "      <td>1995</td>\n",
       "      <td>19.0</td>\n",
       "      <td>0.375</td>\n",
       "      <td>28</td>\n",
       "      <td>NaN</td>\n",
       "      <td>NaN</td>\n",
       "      <td>1</td>\n",
       "      <td>10661.0</td>\n",
       "      <td>8</td>\n",
       "      <td>0</td>\n",
       "    </tr>\n",
       "  </tbody>\n",
       "</table>\n",
       "</div>"
      ],
      "text/plain": [
       "             N_Default_L3m  Branch_Code  Max_Utilization  \\\n",
       "Customer_No                                                \n",
       "1                        3        61749               38   \n",
       "2                        1        30831               68   \n",
       "3                        1        56708               39   \n",
       "4                        0        43551               76   \n",
       "5                        3        15287               23   \n",
       "\n",
       "             Max_Perc_Def_Chg_Pending  N_Family_Member  \\\n",
       "Customer_No                                              \n",
       "1                               100.0                5   \n",
       "2                               100.0                1   \n",
       "3                                50.0               -3   \n",
       "4                                 NaN                0   \n",
       "5                                33.0               11   \n",
       "\n",
       "             Max_Ratio_OC_Pending_POS  N_PosBkt_L3m  CoAp_Income  \\\n",
       "Customer_No                                                        \n",
       "1                                 NaN           0.0          NaN   \n",
       "2                                 NaN           0.0          NaN   \n",
       "3                                 NaN           0.0          NaN   \n",
       "4                                 NaN           0.0          NaN   \n",
       "5                                 NaN           0.0          NaN   \n",
       "\n",
       "             Perc_Paymode_Online  Perc_Repay_Fail  Birth_Year  Max_DPD_L3m  \\\n",
       "Customer_No                                                                  \n",
       "1                       0.285714         0.428571        1977         19.0   \n",
       "2                       0.000000         0.200000        1990          2.0   \n",
       "3                       0.200000         0.200000        1995         25.0   \n",
       "4                       0.000000         0.000000        1997          0.0   \n",
       "5                       0.250000         0.250000        1995         19.0   \n",
       "\n",
       "             Perc_Paymode_Cheq_Fail  Age  Total_Field_Trails  Total_Resolved  \\\n",
       "Customer_No                                                                    \n",
       "1                             0.750   46                 NaN             NaN   \n",
       "2                             0.500   33                 NaN             NaN   \n",
       "3                             1.000   28                 NaN             0.0   \n",
       "4                               NaN   26                 NaN             NaN   \n",
       "5                             0.375   28                 NaN             NaN   \n",
       "\n",
       "             N_Enq_L9m  Max_Loan_Balance_Others  N_WorkEx_Yr  Target_Flag  \n",
       "Customer_No                                                                \n",
       "1                    0                   5527.0           15            0  \n",
       "2                    0                  12104.0            2            0  \n",
       "3                    1                 153179.0            8            0  \n",
       "4                    2                 181589.0            6            0  \n",
       "5                    1                  10661.0            8            0  "
      ]
     },
     "execution_count": 19,
     "metadata": {},
     "output_type": "execute_result"
    }
   ],
   "source": [
    "numerical_features = [feature for feature in df.columns if df[feature].dtypes != 'O']\n",
    "\n",
    "print('Number of numerical variables: ', len(numerical_features))\n",
    "\n",
    "df[numerical_features].head()"
   ]
  },
  {
   "cell_type": "markdown",
   "metadata": {},
   "source": [
    "Finding Rest of the Columns"
   ]
  },
  {
   "cell_type": "code",
   "execution_count": null,
   "metadata": {},
   "outputs": [
    {
     "name": "stdout",
     "output_type": "stream",
     "text": [
      "Ever_Default_L12M\n"
     ]
    }
   ],
   "source": [
    "for col in df.columns:\n",
    "    if col not in numerical_features:\n",
    "        print(col)"
   ]
  },
  {
   "cell_type": "code",
   "execution_count": null,
   "metadata": {},
   "outputs": [
    {
     "data": {
      "text/plain": [
       "array(['Yes', 'No'], dtype=object)"
      ]
     },
     "execution_count": 21,
     "metadata": {},
     "output_type": "execute_result"
    }
   ],
   "source": [
    "df['Ever_Default_L12M'].unique()"
   ]
  },
  {
   "cell_type": "markdown",
   "metadata": {},
   "source": [
    "Changing \"Yes\" and \"No\" to 0 and 1 respectively"
   ]
  },
  {
   "cell_type": "code",
   "execution_count": null,
   "metadata": {},
   "outputs": [],
   "source": [
    "df['Ever_Default_L12M'] = df['Ever_Default_L12M'].replace({'Yes': 1, 'No': 0})"
   ]
  },
  {
   "cell_type": "code",
   "execution_count": null,
   "metadata": {},
   "outputs": [],
   "source": [
    "def value_wise_defaulter_percentage(df, col):\n",
    "    new_df = pd.DataFrame(columns=['Value', 'Percentage of Defaulter'])\n",
    "    \n",
    "    for value in df[col].unique():\n",
    "        default_cnt = df[(df[col] == value) & (df['Target_Flag']== 1)].shape[0]\n",
    "        total_cnt = df[df[col] == value].shape[0]\n",
    "        new_df = new_df.append({'Value' : value , 'Percentage of Defaulter' : (default_cnt*100/total_cnt)}, ignore_index=True)\n",
    "    return new_df.sort_values(by='Percentage of Defaulter', ascending=False)"
   ]
  }
 ],
 "metadata": {
  "kernelspec": {
   "display_name": "Python 3",
   "language": "python",
   "name": "python3"
  },
  "language_info": {
   "codemirror_mode": {
    "name": "ipython",
    "version": 3
   },
   "file_extension": ".py",
   "mimetype": "text/x-python",
   "name": "python",
   "nbconvert_exporter": "python",
   "pygments_lexer": "ipython3",
   "version": "3.9.13"
  },
  "orig_nbformat": 4
 },
 "nbformat": 4,
 "nbformat_minor": 2
}
