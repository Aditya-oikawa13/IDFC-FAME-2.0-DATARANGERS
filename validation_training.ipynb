{
 "cells": [
  {
   "cell_type": "markdown",
   "metadata": {},
   "source": [
    "<h1 style=\"text-align:center;\">IDFC FAME 2.0 ROUND 2 CODES</h1>\n"
   ]
  },
  {
   "cell_type": "markdown",
   "metadata": {},
   "source": [
    "<h2 style=\"text-align:center;\">Exploratory Data Analysis</h2>\n"
   ]
  },
  {
   "cell_type": "code",
   "execution_count": 1,
   "metadata": {},
   "outputs": [],
   "source": [
    "import pandas as pd\n",
    "import numpy as np\n",
    "import matplotlib.pyplot as plt\n",
    "import seaborn as sns\n",
    "\n",
    "from sklearn.model_selection import StratifiedKFold\n",
    "from sklearn.preprocessing import MinMaxScaler\n",
    "from sklearn.linear_model import LogisticRegression\n",
    "from sklearn.neighbors import KNeighborsClassifier\n",
    "\n",
    "from sklearn.preprocessing import StandardScaler\n",
    "from sklearn.model_selection import train_test_split\n",
    "from sklearn.metrics import accuracy_score, confusion_matrix, classification_report, roc_auc_score\n",
    "\n",
    "import warnings\n",
    "warnings.filterwarnings(action = 'ignore')"
   ]
  },
  {
   "cell_type": "code",
   "execution_count": 2,
   "metadata": {},
   "outputs": [],
   "source": [
    "\n",
    "df = pd.read_csv('Validation Data file.csv', index_col='Customer_No')\n",
    "df1 = df.copy()\n",
    "col = df.columns"
   ]
  },
  {
   "cell_type": "code",
   "execution_count": 3,
   "metadata": {},
   "outputs": [
    {
     "data": {
      "text/html": [
       "<div>\n",
       "<style scoped>\n",
       "    .dataframe tbody tr th:only-of-type {\n",
       "        vertical-align: middle;\n",
       "    }\n",
       "\n",
       "    .dataframe tbody tr th {\n",
       "        vertical-align: top;\n",
       "    }\n",
       "\n",
       "    .dataframe thead th {\n",
       "        text-align: right;\n",
       "    }\n",
       "</style>\n",
       "<table border=\"1\" class=\"dataframe\">\n",
       "  <thead>\n",
       "    <tr style=\"text-align: right;\">\n",
       "      <th></th>\n",
       "      <th>N_Default_L3m</th>\n",
       "      <th>Branch_Code</th>\n",
       "      <th>Max_Utilization</th>\n",
       "      <th>Max_Perc_Def_Chg_Pending</th>\n",
       "      <th>N_Family_Member</th>\n",
       "      <th>Max_Ratio_OC_Pending_POS</th>\n",
       "      <th>N_PosBkt_L3m</th>\n",
       "      <th>CoAp_Income</th>\n",
       "      <th>Ever_Default_L12M</th>\n",
       "      <th>Perc_Paymode_Online</th>\n",
       "      <th>Perc_Repay_Fail</th>\n",
       "      <th>Birth_Year</th>\n",
       "      <th>Max_DPD_L3m</th>\n",
       "      <th>Perc_Paymode_Cheq_Fail</th>\n",
       "      <th>Age</th>\n",
       "      <th>Total_Field_Trails</th>\n",
       "      <th>Total_Resolved</th>\n",
       "      <th>N_Enq_L9m</th>\n",
       "      <th>Max_Loan_Balance_Others</th>\n",
       "      <th>N_WorkEx_Yr</th>\n",
       "    </tr>\n",
       "    <tr>\n",
       "      <th>Customer_No</th>\n",
       "      <th></th>\n",
       "      <th></th>\n",
       "      <th></th>\n",
       "      <th></th>\n",
       "      <th></th>\n",
       "      <th></th>\n",
       "      <th></th>\n",
       "      <th></th>\n",
       "      <th></th>\n",
       "      <th></th>\n",
       "      <th></th>\n",
       "      <th></th>\n",
       "      <th></th>\n",
       "      <th></th>\n",
       "      <th></th>\n",
       "      <th></th>\n",
       "      <th></th>\n",
       "      <th></th>\n",
       "      <th></th>\n",
       "      <th></th>\n",
       "    </tr>\n",
       "  </thead>\n",
       "  <tbody>\n",
       "    <tr>\n",
       "      <th>90000</th>\n",
       "      <td>2</td>\n",
       "      <td>22623</td>\n",
       "      <td>57</td>\n",
       "      <td>100.0</td>\n",
       "      <td>8</td>\n",
       "      <td>NaN</td>\n",
       "      <td>0.0</td>\n",
       "      <td>NaN</td>\n",
       "      <td>Yes</td>\n",
       "      <td>0.142857</td>\n",
       "      <td>0.285714</td>\n",
       "      <td>1990</td>\n",
       "      <td>2.0</td>\n",
       "      <td>0.5</td>\n",
       "      <td>33</td>\n",
       "      <td>NaN</td>\n",
       "      <td>NaN</td>\n",
       "      <td>0</td>\n",
       "      <td>8795.0</td>\n",
       "      <td>13</td>\n",
       "    </tr>\n",
       "    <tr>\n",
       "      <th>90001</th>\n",
       "      <td>1</td>\n",
       "      <td>61114</td>\n",
       "      <td>100</td>\n",
       "      <td>100.0</td>\n",
       "      <td>6</td>\n",
       "      <td>NaN</td>\n",
       "      <td>NaN</td>\n",
       "      <td>NaN</td>\n",
       "      <td>Yes</td>\n",
       "      <td>0.000000</td>\n",
       "      <td>0.250000</td>\n",
       "      <td>1971</td>\n",
       "      <td>14.0</td>\n",
       "      <td>0.5</td>\n",
       "      <td>52</td>\n",
       "      <td>NaN</td>\n",
       "      <td>NaN</td>\n",
       "      <td>0</td>\n",
       "      <td>13039.0</td>\n",
       "      <td>1</td>\n",
       "    </tr>\n",
       "    <tr>\n",
       "      <th>90002</th>\n",
       "      <td>2</td>\n",
       "      <td>12573</td>\n",
       "      <td>100</td>\n",
       "      <td>100.0</td>\n",
       "      <td>4</td>\n",
       "      <td>NaN</td>\n",
       "      <td>NaN</td>\n",
       "      <td>NaN</td>\n",
       "      <td>Yes</td>\n",
       "      <td>0.500000</td>\n",
       "      <td>0.500000</td>\n",
       "      <td>1999</td>\n",
       "      <td>8.0</td>\n",
       "      <td>1.0</td>\n",
       "      <td>24</td>\n",
       "      <td>0.0</td>\n",
       "      <td>2.0</td>\n",
       "      <td>2</td>\n",
       "      <td>24599.0</td>\n",
       "      <td>-4</td>\n",
       "    </tr>\n",
       "    <tr>\n",
       "      <th>90003</th>\n",
       "      <td>0</td>\n",
       "      <td>18210</td>\n",
       "      <td>100</td>\n",
       "      <td>NaN</td>\n",
       "      <td>7</td>\n",
       "      <td>NaN</td>\n",
       "      <td>NaN</td>\n",
       "      <td>NaN</td>\n",
       "      <td>No</td>\n",
       "      <td>0.000000</td>\n",
       "      <td>0.000000</td>\n",
       "      <td>1994</td>\n",
       "      <td>0.0</td>\n",
       "      <td>NaN</td>\n",
       "      <td>29</td>\n",
       "      <td>NaN</td>\n",
       "      <td>NaN</td>\n",
       "      <td>3</td>\n",
       "      <td>48750.0</td>\n",
       "      <td>9</td>\n",
       "    </tr>\n",
       "    <tr>\n",
       "      <th>90004</th>\n",
       "      <td>2</td>\n",
       "      <td>41174</td>\n",
       "      <td>100</td>\n",
       "      <td>100.0</td>\n",
       "      <td>1</td>\n",
       "      <td>NaN</td>\n",
       "      <td>NaN</td>\n",
       "      <td>NaN</td>\n",
       "      <td>Yes</td>\n",
       "      <td>0.333333</td>\n",
       "      <td>0.333333</td>\n",
       "      <td>1999</td>\n",
       "      <td>19.0</td>\n",
       "      <td>0.5</td>\n",
       "      <td>24</td>\n",
       "      <td>NaN</td>\n",
       "      <td>NaN</td>\n",
       "      <td>0</td>\n",
       "      <td>55384.0</td>\n",
       "      <td>4</td>\n",
       "    </tr>\n",
       "  </tbody>\n",
       "</table>\n",
       "</div>"
      ],
      "text/plain": [
       "             N_Default_L3m  Branch_Code  Max_Utilization  \\\n",
       "Customer_No                                                \n",
       "90000                    2        22623               57   \n",
       "90001                    1        61114              100   \n",
       "90002                    2        12573              100   \n",
       "90003                    0        18210              100   \n",
       "90004                    2        41174              100   \n",
       "\n",
       "             Max_Perc_Def_Chg_Pending  N_Family_Member  \\\n",
       "Customer_No                                              \n",
       "90000                           100.0                8   \n",
       "90001                           100.0                6   \n",
       "90002                           100.0                4   \n",
       "90003                             NaN                7   \n",
       "90004                           100.0                1   \n",
       "\n",
       "             Max_Ratio_OC_Pending_POS  N_PosBkt_L3m  CoAp_Income  \\\n",
       "Customer_No                                                        \n",
       "90000                             NaN           0.0          NaN   \n",
       "90001                             NaN           NaN          NaN   \n",
       "90002                             NaN           NaN          NaN   \n",
       "90003                             NaN           NaN          NaN   \n",
       "90004                             NaN           NaN          NaN   \n",
       "\n",
       "            Ever_Default_L12M  Perc_Paymode_Online  Perc_Repay_Fail  \\\n",
       "Customer_No                                                           \n",
       "90000                     Yes             0.142857         0.285714   \n",
       "90001                     Yes             0.000000         0.250000   \n",
       "90002                     Yes             0.500000         0.500000   \n",
       "90003                      No             0.000000         0.000000   \n",
       "90004                     Yes             0.333333         0.333333   \n",
       "\n",
       "             Birth_Year  Max_DPD_L3m  Perc_Paymode_Cheq_Fail  Age  \\\n",
       "Customer_No                                                         \n",
       "90000              1990          2.0                     0.5   33   \n",
       "90001              1971         14.0                     0.5   52   \n",
       "90002              1999          8.0                     1.0   24   \n",
       "90003              1994          0.0                     NaN   29   \n",
       "90004              1999         19.0                     0.5   24   \n",
       "\n",
       "             Total_Field_Trails  Total_Resolved  N_Enq_L9m  \\\n",
       "Customer_No                                                  \n",
       "90000                       NaN             NaN          0   \n",
       "90001                       NaN             NaN          0   \n",
       "90002                       0.0             2.0          2   \n",
       "90003                       NaN             NaN          3   \n",
       "90004                       NaN             NaN          0   \n",
       "\n",
       "             Max_Loan_Balance_Others  N_WorkEx_Yr  \n",
       "Customer_No                                        \n",
       "90000                         8795.0           13  \n",
       "90001                        13039.0            1  \n",
       "90002                        24599.0           -4  \n",
       "90003                        48750.0            9  \n",
       "90004                        55384.0            4  "
      ]
     },
     "execution_count": 3,
     "metadata": {},
     "output_type": "execute_result"
    }
   ],
   "source": [
    "df.head()"
   ]
  },
  {
   "cell_type": "markdown",
   "metadata": {},
   "source": [
    "Function for Missing values in each column"
   ]
  },
  {
   "cell_type": "code",
   "execution_count": 4,
   "metadata": {},
   "outputs": [],
   "source": [
    "def missingdata_percentage(df, per=0):\n",
    "    missing = pd.DataFrame(columns=['category','percentage'])\n",
    "    for col in df.columns:\n",
    "        if df[col].isna().values.any():\n",
    "            count = df[col].isna().sum()\n",
    "            percentage = 100*df[col].isna().sum()/df.shape[0]\n",
    "            if percentage>=per:\n",
    "              missing = missing.append({'category' : col, 'percentage' : percentage, 'count' : int(count)}, ignore_index=True)\n",
    "    missing.sort_values(by=['percentage'], inplace=True, ascending=False)\n",
    "    return missing"
   ]
  },
  {
   "cell_type": "code",
   "execution_count": 5,
   "metadata": {},
   "outputs": [
    {
     "data": {
      "text/html": [
       "<div>\n",
       "<style scoped>\n",
       "    .dataframe tbody tr th:only-of-type {\n",
       "        vertical-align: middle;\n",
       "    }\n",
       "\n",
       "    .dataframe tbody tr th {\n",
       "        vertical-align: top;\n",
       "    }\n",
       "\n",
       "    .dataframe thead th {\n",
       "        text-align: right;\n",
       "    }\n",
       "</style>\n",
       "<table border=\"1\" class=\"dataframe\">\n",
       "  <thead>\n",
       "    <tr style=\"text-align: right;\">\n",
       "      <th></th>\n",
       "      <th>category</th>\n",
       "      <th>percentage</th>\n",
       "      <th>count</th>\n",
       "    </tr>\n",
       "  </thead>\n",
       "  <tbody>\n",
       "    <tr>\n",
       "      <th>3</th>\n",
       "      <td>CoAp_Income</td>\n",
       "      <td>95.060045</td>\n",
       "      <td>28576.0</td>\n",
       "    </tr>\n",
       "    <tr>\n",
       "      <th>1</th>\n",
       "      <td>Max_Ratio_OC_Pending_POS</td>\n",
       "      <td>89.551246</td>\n",
       "      <td>26920.0</td>\n",
       "    </tr>\n",
       "    <tr>\n",
       "      <th>6</th>\n",
       "      <td>Total_Field_Trails</td>\n",
       "      <td>67.619174</td>\n",
       "      <td>20327.0</td>\n",
       "    </tr>\n",
       "    <tr>\n",
       "      <th>7</th>\n",
       "      <td>Total_Resolved</td>\n",
       "      <td>62.117029</td>\n",
       "      <td>18673.0</td>\n",
       "    </tr>\n",
       "    <tr>\n",
       "      <th>5</th>\n",
       "      <td>Perc_Paymode_Cheq_Fail</td>\n",
       "      <td>28.638435</td>\n",
       "      <td>8609.0</td>\n",
       "    </tr>\n",
       "    <tr>\n",
       "      <th>0</th>\n",
       "      <td>Max_Perc_Def_Chg_Pending</td>\n",
       "      <td>24.513489</td>\n",
       "      <td>7369.0</td>\n",
       "    </tr>\n",
       "    <tr>\n",
       "      <th>2</th>\n",
       "      <td>N_PosBkt_L3m</td>\n",
       "      <td>6.157480</td>\n",
       "      <td>1851.0</td>\n",
       "    </tr>\n",
       "    <tr>\n",
       "      <th>4</th>\n",
       "      <td>Max_DPD_L3m</td>\n",
       "      <td>0.392535</td>\n",
       "      <td>118.0</td>\n",
       "    </tr>\n",
       "    <tr>\n",
       "      <th>8</th>\n",
       "      <td>Max_Loan_Balance_Others</td>\n",
       "      <td>0.372576</td>\n",
       "      <td>112.0</td>\n",
       "    </tr>\n",
       "  </tbody>\n",
       "</table>\n",
       "</div>"
      ],
      "text/plain": [
       "                   category  percentage    count\n",
       "3               CoAp_Income   95.060045  28576.0\n",
       "1  Max_Ratio_OC_Pending_POS   89.551246  26920.0\n",
       "6        Total_Field_Trails   67.619174  20327.0\n",
       "7            Total_Resolved   62.117029  18673.0\n",
       "5    Perc_Paymode_Cheq_Fail   28.638435   8609.0\n",
       "0  Max_Perc_Def_Chg_Pending   24.513489   7369.0\n",
       "2              N_PosBkt_L3m    6.157480   1851.0\n",
       "4               Max_DPD_L3m    0.392535    118.0\n",
       "8   Max_Loan_Balance_Others    0.372576    112.0"
      ]
     },
     "execution_count": 5,
     "metadata": {},
     "output_type": "execute_result"
    }
   ],
   "source": [
    "train_data_Miss = missingdata_percentage(df)\n",
    "train_data_Miss"
   ]
  },
  {
   "cell_type": "markdown",
   "metadata": {},
   "source": [
    "### Let's start filling missing values in descending order."
   ]
  },
  {
   "cell_type": "markdown",
   "metadata": {},
   "source": [
    "### Handling \"CoAp_Income\"\n",
    "* Upon closer inspection \"CoAp_Income\"(income of co-applicant) column looks like a optional entry and hence so many missing values. 95% of them are missing values so they won't add any value to the data hence we can drop this column.\n",
    "\n",
    "\n"
   ]
  },
  {
   "cell_type": "markdown",
   "metadata": {},
   "source": [
    "### Handling \"Max_Ratio_OC_Pending_POS\""
   ]
  },
  {
   "cell_type": "code",
   "execution_count": 9,
   "metadata": {},
   "outputs": [
    {
     "data": {
      "text/plain": [
       "48"
      ]
     },
     "execution_count": 9,
     "metadata": {},
     "output_type": "execute_result"
    }
   ],
   "source": [
    "count = df['Max_Ratio_OC_Pending_POS'].value_counts()[0]\n",
    "count"
   ]
  },
  {
   "cell_type": "markdown",
   "metadata": {},
   "source": [
    "* Next \"Max_Ratio_OC_Pending_POS\" column also have 90% of missing values, most of these values are between 0 and 1.<br>\n",
    " -->Although there are 249 0's in dataset so they might correspond to people who paid their overdue charges.<br>--> And remaining null values most likely means these people didn't had any overdue charges to begin with. <br>\n",
    " -->So its a good idea to assume these values to be zero.<br>\n",
    "-->But let's analyze further."
   ]
  },
  {
   "cell_type": "markdown",
   "metadata": {},
   "source": [
    "From above data we see that 27% of people who have overdue charges have defaulted, that means other 73% of people are not defaulters.<br>\n",
    "Also 0 doesn't necessarily confirms that person will not commit default. <br>\n",
    "Thus we know that we cannot replace null value with 0, instead we can change them to another categorical variable and work on that. "
   ]
  },
  {
   "cell_type": "markdown",
   "metadata": {},
   "source": [
    "#### Now lets examine null values of \"Total_field_trials\" and \"Total_resolved\""
   ]
  },
  {
   "cell_type": "code",
   "execution_count": null,
   "metadata": {},
   "outputs": [
    {
     "data": {
      "text/plain": [
       "'def find_col_relation_with_target(df, col, value = 0):\\n    Valuecount_col_is_value = df[\\'Target_Flag\\'][df[col] == value].value_counts()\\n    Valuecount_col_is_null = df[\\'Target_Flag\\'][df[col].isna()].value_counts()\\n    null_without_default_last_12_month = df[col].isna()[df[\\'Ever_Default_L12M\\'] == \\'No\\'].sum()\\n    null_with_default_last_12_month = df[col].isna()[df[\\'Ever_Default_L12M\\'] == \\'Yes\\'].sum()\\n    null_without_default_last_3_month = df[col].isna()[df[\\'N_Default_L3m\\'] == \\'No\\'].sum()\\n    null_with_default_last_3_month = df[col].isna()[df[\\'N_Default_L3m\\'] == \\'Yes\\'].sum()\\n    print(\"vALUE COUNTS OF TARGET FLAGS WHEN COLUMN HAS VALUES:\", Valuecount_col_is_value)\\n    print(\"vALUE COUNTS OF TARGET FLAGS WHEN COLUMN HAS NULL VALUES:\", Valuecount_col_is_null)\\n    print(\"NULL VALUES DISTRIBUTION WITHOUT DEFAULT IN LAST \", null_without_default_last_12_month)\\n    print(\"vALUE COUNTS OF TARGET FLAGS WHEN COLUMN HAS VALUES:\", null_with_default_last_12_month)\\n    print(\"vALUE COUNTS OF TARGET FLAGS WHEN COLUMN HAS VALUES:\", null_without_default_last_3_month)\\n    print(\"vALUE COUNTS OF TARGET FLAGS WHEN COLUMN HAS VALUES:\", null_with_default_last_3_month)'"
      ]
     },
     "execution_count": 122,
     "metadata": {},
     "output_type": "execute_result"
    }
   ],
   "source": [
    "'''def find_col_relation_with_target(df, col, value = 0):\n",
    "    Valuecount_col_is_value = df['Target_Flag'][df[col] == value].value_counts()\n",
    "    Valuecount_col_is_null = df['Target_Flag'][df[col].isna()].value_counts()\n",
    "    null_without_default_last_12_month = df[col].isna()[df['Ever_Default_L12M'] == 'No'].sum()\n",
    "    null_with_default_last_12_month = df[col].isna()[df['Ever_Default_L12M'] == 'Yes'].sum()\n",
    "    null_without_default_last_3_month = df[col].isna()[df['N_Default_L3m'] == 'No'].sum()\n",
    "    null_with_default_last_3_month = df[col].isna()[df['N_Default_L3m'] == 'Yes'].sum()\n",
    "    print(\"vALUE COUNTS OF TARGET FLAGS WHEN COLUMN HAS VALUES:\", Valuecount_col_is_value)\n",
    "    print(\"vALUE COUNTS OF TARGET FLAGS WHEN COLUMN HAS NULL VALUES:\", Valuecount_col_is_null)\n",
    "    print(\"NULL VALUES DISTRIBUTION WITHOUT DEFAULT IN LAST \", null_without_default_last_12_month)\n",
    "    print(\"vALUE COUNTS OF TARGET FLAGS WHEN COLUMN HAS VALUES:\", null_with_default_last_12_month)\n",
    "    print(\"vALUE COUNTS OF TARGET FLAGS WHEN COLUMN HAS VALUES:\", null_without_default_last_3_month)\n",
    "    print(\"vALUE COUNTS OF TARGET FLAGS WHEN COLUMN HAS VALUES:\", null_with_default_last_3_month)'''"
   ]
  },
  {
   "cell_type": "code",
   "execution_count": 11,
   "metadata": {},
   "outputs": [
    {
     "data": {
      "text/plain": [
       "Index(['N_Default_L3m', 'Branch_Code', 'Max_Utilization',\n",
       "       'Max_Perc_Def_Chg_Pending', 'N_Family_Member',\n",
       "       'Max_Ratio_OC_Pending_POS', 'N_PosBkt_L3m', 'CoAp_Income',\n",
       "       'Ever_Default_L12M', 'Perc_Paymode_Online', 'Perc_Repay_Fail',\n",
       "       'Birth_Year', 'Max_DPD_L3m', 'Perc_Paymode_Cheq_Fail', 'Age',\n",
       "       'Total_Field_Trails', 'Total_Resolved', 'N_Enq_L9m',\n",
       "       'Max_Loan_Balance_Others', 'N_WorkEx_Yr'],\n",
       "      dtype='object')"
      ]
     },
     "execution_count": 11,
     "metadata": {},
     "output_type": "execute_result"
    }
   ],
   "source": [
    "col = df.columns\n",
    "col"
   ]
  },
  {
   "cell_type": "code",
   "execution_count": null,
   "metadata": {},
   "outputs": [
    {
     "data": {
      "text/plain": [
       "(0.0    18186\n",
       " 1.0     5993\n",
       " 2.0     1725\n",
       " 3.0      567\n",
       " 4.0       49\n",
       " 5.0       13\n",
       " 6.0        6\n",
       " 9.0        1\n",
       " 7.0        1\n",
       " Name: Total_Field_Trails, dtype: int64,\n",
       " 1.0    15255\n",
       " 2.0     7032\n",
       " 3.0     4881\n",
       " 0.0     3780\n",
       " Name: Total_Resolved, dtype: int64)"
      ]
     },
     "execution_count": 125,
     "metadata": {},
     "output_type": "execute_result"
    }
   ],
   "source": [
    "# Distribution of null values:\n",
    "df['Total_Field_Trails'].value_counts(), df['Total_Resolved'].value_counts()"
   ]
  },
  {
   "cell_type": "code",
   "execution_count": 12,
   "metadata": {},
   "outputs": [
    {
     "data": {
      "text/plain": [
       "18673"
      ]
     },
     "execution_count": 12,
     "metadata": {},
     "output_type": "execute_result"
    }
   ],
   "source": [
    "# Checking occurences of null values in both the fields simultaneously:\n",
    "checking_common_occurences = df[(df['Total_Field_Trails'].isna() ) & (df['Total_Resolved'].isna())].shape[0]\n",
    "checking_common_occurences"
   ]
  },
  {
   "cell_type": "markdown",
   "metadata": {},
   "source": [
    "* Now since there a lot of null values we can solve them using some common sense.\n",
    "* First if there are lots of null amount of \"Total_Field_Trails\" it strongly indicates 0 field visits.\n",
    "* Also above code shows that all the null values in \"Total_Resolved\" is when \"Total_Field_Trails\" is null as well.\n",
    "* But in \"Total_Resolved\" column it doesn't tells us if Customer was visited or not.\n",
    "* So we can take all the null value from total_resolved column as another value, let's say \"not_visited\"."
   ]
  },
  {
   "cell_type": "code",
   "execution_count": 13,
   "metadata": {},
   "outputs": [
    {
     "data": {
      "text/plain": [
       "0.15295449564574604"
      ]
     },
     "execution_count": 13,
     "metadata": {},
     "output_type": "execute_result"
    }
   ],
   "source": [
    "correlation = df['Total_Field_Trails'].corr(df['Total_Resolved'])\n",
    "correlation"
   ]
  },
  {
   "cell_type": "markdown",
   "metadata": {},
   "source": [
    "### Now lets look at the 'Perc_Paymode_Cheq_Fail' column."
   ]
  },
  {
   "cell_type": "code",
   "execution_count": 14,
   "metadata": {},
   "outputs": [
    {
     "data": {
      "text/plain": [
       "<Axes: >"
      ]
     },
     "execution_count": 14,
     "metadata": {},
     "output_type": "execute_result"
    },
    {
     "data": {
      "image/png": "[encoded data removed]",
      "text/plain": [
       "<Figure size 640x480 with 1 Axes>"
      ]
     },
     "metadata": {},
     "output_type": "display_data"
    }
   ],
   "source": [
    "def_chg_perc = df['Perc_Paymode_Cheq_Fail'].value_counts()[df['Perc_Paymode_Cheq_Fail'].value_counts() >= 0]\n",
    "def_chg_perc.plot(kind='bar')"
   ]
  },
  {
   "cell_type": "code",
   "execution_count": 15,
   "metadata": {},
   "outputs": [
    {
     "data": {
      "text/plain": [
       "282"
      ]
     },
     "execution_count": 15,
     "metadata": {},
     "output_type": "execute_result"
    }
   ],
   "source": [
    "df['Perc_Paymode_Cheq_Fail'].value_counts()[0.0]"
   ]
  },
  {
   "cell_type": "markdown",
   "metadata": {},
   "source": [
    "* We see that some of the values are 0 thus it means that customer with null values have never attempted to pay via cheque.\n",
    "\n",
    "Although there is ambiguity its safe to assume 0 inplace of null values."
   ]
  },
  {
   "cell_type": "markdown",
   "metadata": {},
   "source": [
    "---\n",
    "\n",
    "Now lets find some relation between Payment methods and payment failures."
   ]
  },
  {
   "cell_type": "markdown",
   "metadata": {},
   "source": [
    "Now lets explore \"Max_Perc_Def_Chg_Pending\" column:\n",
    "1. Firstly this column signifies the maximum percentage of default charges pending."
   ]
  },
  {
   "cell_type": "markdown",
   "metadata": {},
   "source": [
    "Number of null values:"
   ]
  },
  {
   "cell_type": "code",
   "execution_count": 16,
   "metadata": {},
   "outputs": [
    {
     "data": {
      "text/plain": [
       "7369"
      ]
     },
     "execution_count": 16,
     "metadata": {},
     "output_type": "execute_result"
    }
   ],
   "source": [
    "null_perc_def_chg = df['Max_Perc_Def_Chg_Pending'].isna().sum()\n",
    "null_perc_def_chg"
   ]
  },
  {
   "cell_type": "markdown",
   "metadata": {},
   "source": [
    "Null values may mean that person never had any default charge. So lets check amount of customer with default in past 12 months and Max_Perc_Def_Chg_Pending as null.\n"
   ]
  },
  {
   "cell_type": "code",
   "execution_count": 17,
   "metadata": {},
   "outputs": [
    {
     "data": {
      "text/plain": [
       "(0.18279278056724116, 0.8172072194327589)"
      ]
     },
     "execution_count": 17,
     "metadata": {},
     "output_type": "execute_result"
    }
   ],
   "source": [
    "null_without_default = df['Max_Perc_Def_Chg_Pending'].isna()[df['Ever_Default_L12M'] == 'No'].sum()\n",
    "null_with_default = df['Max_Perc_Def_Chg_Pending'].isna()[df['Ever_Default_L12M'] == 'Yes'].sum()\n",
    "null_with_default/null_perc_def_chg, null_without_default/null_perc_def_chg"
   ]
  },
  {
   "cell_type": "markdown",
   "metadata": {},
   "source": [
    "We can see that customer without default in last 12 months have 80% of the null values and rest does have default.\n",
    "It is safe to assume that null values means customer never had any default in last 12 months.<br>\n",
    "----> So we can take null values to be another category."
   ]
  },
  {
   "cell_type": "code",
   "execution_count": 18,
   "metadata": {},
   "outputs": [
    {
     "data": {
      "text/plain": [
       "<Axes: >"
      ]
     },
     "execution_count": 18,
     "metadata": {},
     "output_type": "execute_result"
    },
    {
     "data": {
      "image/png": "[encoded data removed]",
      "text/plain": [
       "<Figure size 640x480 with 1 Axes>"
      ]
     },
     "metadata": {},
     "output_type": "display_data"
    }
   ],
   "source": [
    "def_chg_perc = df['Max_Perc_Def_Chg_Pending'].value_counts()[df['Max_Perc_Def_Chg_Pending'].value_counts() >= 100]\n",
    "def_chg_perc.plot(kind='bar')"
   ]
  },
  {
   "cell_type": "markdown",
   "metadata": {},
   "source": [
    "Now lets handle \"N_Default_L3m\" column missing values: "
   ]
  },
  {
   "cell_type": "code",
   "execution_count": 19,
   "metadata": {},
   "outputs": [
    {
     "data": {
      "text/plain": [
       "1851"
      ]
     },
     "execution_count": 19,
     "metadata": {},
     "output_type": "execute_result"
    }
   ],
   "source": [
    "df['N_PosBkt_L3m'].isna().sum()"
   ]
  },
  {
   "cell_type": "code",
   "execution_count": 20,
   "metadata": {},
   "outputs": [
    {
     "data": {
      "text/plain": [
       "0.0    27798\n",
       "1.0      385\n",
       "2.0       27\n",
       "Name: N_PosBkt_L3m, dtype: int64"
      ]
     },
     "execution_count": 20,
     "metadata": {},
     "output_type": "execute_result"
    }
   ],
   "source": [
    "df['N_PosBkt_L3m'].value_counts()"
   ]
  },
  {
   "cell_type": "markdown",
   "metadata": {},
   "source": [
    "We see that for missing values defaults are 680 and not defaults are 4658. Which is a proportionate distribution with whole training data.\n",
    "* It may also correspond to people who recently took the loan. (Less than 3 months ago)<br>\n",
    " Anyway since it merely affects 6% of the data so we can test it out with imputing 0, if needed we can try some other methods.\n",
    "---"
   ]
  },
  {
   "cell_type": "markdown",
   "metadata": {},
   "source": [
    "Now remaining two columns with missing values are:\n",
    "1. Max_DPD_L3m\n",
    "2. Max_Loan_Balance_Others"
   ]
  },
  {
   "cell_type": "code",
   "execution_count": 23,
   "metadata": {},
   "outputs": [
    {
     "data": {
      "text/plain": [
       "118"
      ]
     },
     "execution_count": 23,
     "metadata": {},
     "output_type": "execute_result"
    }
   ],
   "source": [
    "df['Max_DPD_L3m'].isna().sum()"
   ]
  },
  {
   "cell_type": "markdown",
   "metadata": {},
   "source": [
    "We see that about 7.5% of customer defaulted when their days delay in payment was 0.\n",
    "Also about 14.12% of people defaulted otherwise.\n",
    "\n",
    "One interesting way to solve this problem would be imputing 0.0 in case target flag is 0 and  15.0 or higher when target flag is 1."
   ]
  },
  {
   "cell_type": "code",
   "execution_count": 25,
   "metadata": {},
   "outputs": [
    {
     "data": {
      "text/plain": [
       "<Axes: >"
      ]
     },
     "execution_count": 25,
     "metadata": {},
     "output_type": "execute_result"
    },
    {
     "data": {
      "image/png": "[encoded data removed]",
      "text/plain": [
       "<Figure size 640x480 with 1 Axes>"
      ]
     },
     "metadata": {},
     "output_type": "display_data"
    }
   ],
   "source": [
    "df['Max_DPD_L3m'].value_counts().plot(kind='bar')"
   ]
  },
  {
   "cell_type": "markdown",
   "metadata": {},
   "source": [
    "Now for column \"Max_Loan_Balance_Others\":"
   ]
  },
  {
   "cell_type": "code",
   "execution_count": 26,
   "metadata": {},
   "outputs": [
    {
     "data": {
      "text/plain": [
       "112"
      ]
     },
     "execution_count": 26,
     "metadata": {},
     "output_type": "execute_result"
    }
   ],
   "source": [
    "df['Max_Loan_Balance_Others'].isna().sum()"
   ]
  },
  {
   "cell_type": "code",
   "execution_count": 27,
   "metadata": {},
   "outputs": [
    {
     "data": {
      "text/plain": [
       "count    2.994900e+04\n",
       "mean     1.534301e+05\n",
       "std      5.596070e+05\n",
       "min     -2.300000e+01\n",
       "25%      9.417000e+03\n",
       "50%      2.001200e+04\n",
       "75%      1.155250e+05\n",
       "max      6.504087e+07\n",
       "Name: Max_Loan_Balance_Others, dtype: float64"
      ]
     },
     "execution_count": 27,
     "metadata": {},
     "output_type": "execute_result"
    }
   ],
   "source": [
    "df['Max_Loan_Balance_Others'].describe()"
   ]
  },
  {
   "cell_type": "markdown",
   "metadata": {},
   "source": [
    "We see there are some negative values in this column lets make them positive."
   ]
  },
  {
   "cell_type": "code",
   "execution_count": 28,
   "metadata": {},
   "outputs": [],
   "source": [
    "df['Max_Loan_Balance_Others'] = df['Max_Loan_Balance_Others'].abs()"
   ]
  },
  {
   "cell_type": "code",
   "execution_count": 29,
   "metadata": {},
   "outputs": [
    {
     "data": {
      "text/plain": [
       "count    2.994900e+04\n",
       "mean     1.534301e+05\n",
       "std      5.596070e+05\n",
       "min      0.000000e+00\n",
       "25%      9.417000e+03\n",
       "50%      2.001200e+04\n",
       "75%      1.155250e+05\n",
       "max      6.504087e+07\n",
       "Name: Max_Loan_Balance_Others, dtype: float64"
      ]
     },
     "execution_count": 29,
     "metadata": {},
     "output_type": "execute_result"
    }
   ],
   "source": [
    "df['Max_Loan_Balance_Others'].describe()"
   ]
  },
  {
   "cell_type": "markdown",
   "metadata": {},
   "source": [
    "Let's compare different percentile with Target_Flag"
   ]
  },
  {
   "cell_type": "markdown",
   "metadata": {},
   "source": [
    "12%, 12.5%, 12.42%, 10.9%\n",
    "12.32, "
   ]
  },
  {
   "cell_type": "markdown",
   "metadata": {},
   "source": [
    "1. There are zeroes in this column which suggest that column includes people with zero loan. <br>\n",
    "2. There are very less null values it may quite simply mean that these customer doesn't even have a bank account in other banks.\n",
    "3. Distribution of target flag over different range of percentile is more or less similar.\n",
    "4. Moreover distribution of target flag is also quite similar in case when loan balance with others is 0.\n",
    "\n",
    " -----> In any case filling these null values with 0 will do no harm."
   ]
  },
  {
   "cell_type": "code",
   "execution_count": 31,
   "metadata": {},
   "outputs": [
    {
     "data": {
      "text/plain": [
       "Index(['N_Default_L3m', 'Branch_Code', 'Max_Utilization',\n",
       "       'Max_Perc_Def_Chg_Pending', 'N_Family_Member',\n",
       "       'Max_Ratio_OC_Pending_POS', 'N_PosBkt_L3m', 'CoAp_Income',\n",
       "       'Ever_Default_L12M', 'Perc_Paymode_Online', 'Perc_Repay_Fail',\n",
       "       'Birth_Year', 'Max_DPD_L3m', 'Perc_Paymode_Cheq_Fail', 'Age',\n",
       "       'Total_Field_Trails', 'Total_Resolved', 'N_Enq_L9m',\n",
       "       'Max_Loan_Balance_Others', 'N_WorkEx_Yr'],\n",
       "      dtype='object')"
      ]
     },
     "execution_count": 31,
     "metadata": {},
     "output_type": "execute_result"
    }
   ],
   "source": [
    "col"
   ]
  },
  {
   "cell_type": "code",
   "execution_count": 32,
   "metadata": {},
   "outputs": [],
   "source": [
    "filtered_df = df[(df['Max_Ratio_OC_Pending_POS'] >= 0) & (df['Max_Ratio_OC_Pending_POS'] <= 1)]\n"
   ]
  },
  {
   "cell_type": "code",
   "execution_count": 33,
   "metadata": {},
   "outputs": [
    {
     "data": {
      "text/plain": [
       "<Axes: >"
      ]
     },
     "execution_count": 33,
     "metadata": {},
     "output_type": "execute_result"
    },
    {
     "data": {
      "image/png": "[encoded data removed]",
      "text/plain": [
       "<Figure size 640x480 with 1 Axes>"
      ]
     },
     "metadata": {},
     "output_type": "display_data"
    }
   ],
   "source": [
    "df['Max_Ratio_OC_Pending_POS'].hist(bins=50)"
   ]
  },
  {
   "cell_type": "code",
   "execution_count": 34,
   "metadata": {},
   "outputs": [
    {
     "data": {
      "text/plain": [
       "0.000000    48\n",
       "0.211540     9\n",
       "0.220130     9\n",
       "0.068765     8\n",
       "0.102632     7\n",
       "            ..\n",
       "0.077571     1\n",
       "0.129966     1\n",
       "0.449014     1\n",
       "0.093419     1\n",
       "0.032175     1\n",
       "Name: Max_Ratio_OC_Pending_POS, Length: 2674, dtype: int64"
      ]
     },
     "execution_count": 34,
     "metadata": {},
     "output_type": "execute_result"
    }
   ],
   "source": [
    "count = df['Max_Ratio_OC_Pending_POS'].value_counts()\n",
    "count"
   ]
  },
  {
   "cell_type": "markdown",
   "metadata": {},
   "source": [
    "---"
   ]
  },
  {
   "cell_type": "markdown",
   "metadata": {},
   "source": [
    "Identifying Numerical Datatypes Columns"
   ]
  },
  {
   "cell_type": "code",
   "execution_count": 35,
   "metadata": {},
   "outputs": [
    {
     "name": "stdout",
     "output_type": "stream",
     "text": [
      "Number of numerical variables:  19\n"
     ]
    },
    {
     "data": {
      "text/html": [
       "<div>\n",
       "<style scoped>\n",
       "    .dataframe tbody tr th:only-of-type {\n",
       "        vertical-align: middle;\n",
       "    }\n",
       "\n",
       "    .dataframe tbody tr th {\n",
       "        vertical-align: top;\n",
       "    }\n",
       "\n",
       "    .dataframe thead th {\n",
       "        text-align: right;\n",
       "    }\n",
       "</style>\n",
       "<table border=\"1\" class=\"dataframe\">\n",
       "  <thead>\n",
       "    <tr style=\"text-align: right;\">\n",
       "      <th></th>\n",
       "      <th>N_Default_L3m</th>\n",
       "      <th>Branch_Code</th>\n",
       "      <th>Max_Utilization</th>\n",
       "      <th>Max_Perc_Def_Chg_Pending</th>\n",
       "      <th>N_Family_Member</th>\n",
       "      <th>Max_Ratio_OC_Pending_POS</th>\n",
       "      <th>N_PosBkt_L3m</th>\n",
       "      <th>CoAp_Income</th>\n",
       "      <th>Perc_Paymode_Online</th>\n",
       "      <th>Perc_Repay_Fail</th>\n",
       "      <th>Birth_Year</th>\n",
       "      <th>Max_DPD_L3m</th>\n",
       "      <th>Perc_Paymode_Cheq_Fail</th>\n",
       "      <th>Age</th>\n",
       "      <th>Total_Field_Trails</th>\n",
       "      <th>Total_Resolved</th>\n",
       "      <th>N_Enq_L9m</th>\n",
       "      <th>Max_Loan_Balance_Others</th>\n",
       "      <th>N_WorkEx_Yr</th>\n",
       "    </tr>\n",
       "    <tr>\n",
       "      <th>Customer_No</th>\n",
       "      <th></th>\n",
       "      <th></th>\n",
       "      <th></th>\n",
       "      <th></th>\n",
       "      <th></th>\n",
       "      <th></th>\n",
       "      <th></th>\n",
       "      <th></th>\n",
       "      <th></th>\n",
       "      <th></th>\n",
       "      <th></th>\n",
       "      <th></th>\n",
       "      <th></th>\n",
       "      <th></th>\n",
       "      <th></th>\n",
       "      <th></th>\n",
       "      <th></th>\n",
       "      <th></th>\n",
       "      <th></th>\n",
       "    </tr>\n",
       "  </thead>\n",
       "  <tbody>\n",
       "    <tr>\n",
       "      <th>90000</th>\n",
       "      <td>2</td>\n",
       "      <td>22623</td>\n",
       "      <td>57</td>\n",
       "      <td>100.0</td>\n",
       "      <td>8</td>\n",
       "      <td>NaN</td>\n",
       "      <td>0.0</td>\n",
       "      <td>NaN</td>\n",
       "      <td>0.142857</td>\n",
       "      <td>0.285714</td>\n",
       "      <td>1990</td>\n",
       "      <td>2.0</td>\n",
       "      <td>0.5</td>\n",
       "      <td>33</td>\n",
       "      <td>NaN</td>\n",
       "      <td>NaN</td>\n",
       "      <td>0</td>\n",
       "      <td>8795.0</td>\n",
       "      <td>13</td>\n",
       "    </tr>\n",
       "    <tr>\n",
       "      <th>90001</th>\n",
       "      <td>1</td>\n",
       "      <td>61114</td>\n",
       "      <td>100</td>\n",
       "      <td>100.0</td>\n",
       "      <td>6</td>\n",
       "      <td>NaN</td>\n",
       "      <td>NaN</td>\n",
       "      <td>NaN</td>\n",
       "      <td>0.000000</td>\n",
       "      <td>0.250000</td>\n",
       "      <td>1971</td>\n",
       "      <td>14.0</td>\n",
       "      <td>0.5</td>\n",
       "      <td>52</td>\n",
       "      <td>NaN</td>\n",
       "      <td>NaN</td>\n",
       "      <td>0</td>\n",
       "      <td>13039.0</td>\n",
       "      <td>1</td>\n",
       "    </tr>\n",
       "    <tr>\n",
       "      <th>90002</th>\n",
       "      <td>2</td>\n",
       "      <td>12573</td>\n",
       "      <td>100</td>\n",
       "      <td>100.0</td>\n",
       "      <td>4</td>\n",
       "      <td>NaN</td>\n",
       "      <td>NaN</td>\n",
       "      <td>NaN</td>\n",
       "      <td>0.500000</td>\n",
       "      <td>0.500000</td>\n",
       "      <td>1999</td>\n",
       "      <td>8.0</td>\n",
       "      <td>1.0</td>\n",
       "      <td>24</td>\n",
       "      <td>0.0</td>\n",
       "      <td>2.0</td>\n",
       "      <td>2</td>\n",
       "      <td>24599.0</td>\n",
       "      <td>-4</td>\n",
       "    </tr>\n",
       "    <tr>\n",
       "      <th>90003</th>\n",
       "      <td>0</td>\n",
       "      <td>18210</td>\n",
       "      <td>100</td>\n",
       "      <td>NaN</td>\n",
       "      <td>7</td>\n",
       "      <td>NaN</td>\n",
       "      <td>NaN</td>\n",
       "      <td>NaN</td>\n",
       "      <td>0.000000</td>\n",
       "      <td>0.000000</td>\n",
       "      <td>1994</td>\n",
       "      <td>0.0</td>\n",
       "      <td>NaN</td>\n",
       "      <td>29</td>\n",
       "      <td>NaN</td>\n",
       "      <td>NaN</td>\n",
       "      <td>3</td>\n",
       "      <td>48750.0</td>\n",
       "      <td>9</td>\n",
       "    </tr>\n",
       "    <tr>\n",
       "      <th>90004</th>\n",
       "      <td>2</td>\n",
       "      <td>41174</td>\n",
       "      <td>100</td>\n",
       "      <td>100.0</td>\n",
       "      <td>1</td>\n",
       "      <td>NaN</td>\n",
       "      <td>NaN</td>\n",
       "      <td>NaN</td>\n",
       "      <td>0.333333</td>\n",
       "      <td>0.333333</td>\n",
       "      <td>1999</td>\n",
       "      <td>19.0</td>\n",
       "      <td>0.5</td>\n",
       "      <td>24</td>\n",
       "      <td>NaN</td>\n",
       "      <td>NaN</td>\n",
       "      <td>0</td>\n",
       "      <td>55384.0</td>\n",
       "      <td>4</td>\n",
       "    </tr>\n",
       "  </tbody>\n",
       "</table>\n",
       "</div>"
      ],
      "text/plain": [
       "             N_Default_L3m  Branch_Code  Max_Utilization  \\\n",
       "Customer_No                                                \n",
       "90000                    2        22623               57   \n",
       "90001                    1        61114              100   \n",
       "90002                    2        12573              100   \n",
       "90003                    0        18210              100   \n",
       "90004                    2        41174              100   \n",
       "\n",
       "             Max_Perc_Def_Chg_Pending  N_Family_Member  \\\n",
       "Customer_No                                              \n",
       "90000                           100.0                8   \n",
       "90001                           100.0                6   \n",
       "90002                           100.0                4   \n",
       "90003                             NaN                7   \n",
       "90004                           100.0                1   \n",
       "\n",
       "             Max_Ratio_OC_Pending_POS  N_PosBkt_L3m  CoAp_Income  \\\n",
       "Customer_No                                                        \n",
       "90000                             NaN           0.0          NaN   \n",
       "90001                             NaN           NaN          NaN   \n",
       "90002                             NaN           NaN          NaN   \n",
       "90003                             NaN           NaN          NaN   \n",
       "90004                             NaN           NaN          NaN   \n",
       "\n",
       "             Perc_Paymode_Online  Perc_Repay_Fail  Birth_Year  Max_DPD_L3m  \\\n",
       "Customer_No                                                                  \n",
       "90000                   0.142857         0.285714        1990          2.0   \n",
       "90001                   0.000000         0.250000        1971         14.0   \n",
       "90002                   0.500000         0.500000        1999          8.0   \n",
       "90003                   0.000000         0.000000        1994          0.0   \n",
       "90004                   0.333333         0.333333        1999         19.0   \n",
       "\n",
       "             Perc_Paymode_Cheq_Fail  Age  Total_Field_Trails  Total_Resolved  \\\n",
       "Customer_No                                                                    \n",
       "90000                           0.5   33                 NaN             NaN   \n",
       "90001                           0.5   52                 NaN             NaN   \n",
       "90002                           1.0   24                 0.0             2.0   \n",
       "90003                           NaN   29                 NaN             NaN   \n",
       "90004                           0.5   24                 NaN             NaN   \n",
       "\n",
       "             N_Enq_L9m  Max_Loan_Balance_Others  N_WorkEx_Yr  \n",
       "Customer_No                                                   \n",
       "90000                0                   8795.0           13  \n",
       "90001                0                  13039.0            1  \n",
       "90002                2                  24599.0           -4  \n",
       "90003                3                  48750.0            9  \n",
       "90004                0                  55384.0            4  "
      ]
     },
     "execution_count": 35,
     "metadata": {},
     "output_type": "execute_result"
    }
   ],
   "source": [
    "numerical_features = [feature for feature in df.columns if df[feature].dtypes != 'O']\n",
    "\n",
    "print('Number of numerical variables: ', len(numerical_features))\n",
    "\n",
    "df[numerical_features].head()"
   ]
  },
  {
   "cell_type": "markdown",
   "metadata": {},
   "source": [
    "Finding Rest of the Columns"
   ]
  },
  {
   "cell_type": "code",
   "execution_count": 36,
   "metadata": {},
   "outputs": [
    {
     "name": "stdout",
     "output_type": "stream",
     "text": [
      "Ever_Default_L12M\n"
     ]
    }
   ],
   "source": [
    "for col in df.columns:\n",
    "    if col not in numerical_features:\n",
    "        print(col)"
   ]
  },
  {
   "cell_type": "code",
   "execution_count": 37,
   "metadata": {},
   "outputs": [
    {
     "data": {
      "text/plain": [
       "array(['Yes', 'No'], dtype=object)"
      ]
     },
     "execution_count": 37,
     "metadata": {},
     "output_type": "execute_result"
    }
   ],
   "source": [
    "df['Ever_Default_L12M'].unique()"
   ]
  },
  {
   "cell_type": "markdown",
   "metadata": {},
   "source": [
    "Changing \"Yes\" and \"No\" to 0 and 1 respectively"
   ]
  },
  {
   "cell_type": "code",
   "execution_count": 38,
   "metadata": {},
   "outputs": [],
   "source": [
    "df['Ever_Default_L12M'] = df['Ever_Default_L12M'].replace({'Yes': 1, 'No': 0})"
   ]
  },
  {
   "cell_type": "code",
   "execution_count": 40,
   "metadata": {},
   "outputs": [
    {
     "data": {
      "text/plain": [
       "N_Default_L3m                   0\n",
       "Branch_Code                     0\n",
       "Max_Utilization                 0\n",
       "Max_Perc_Def_Chg_Pending     7369\n",
       "N_Family_Member                 0\n",
       "Max_Ratio_OC_Pending_POS    26920\n",
       "N_PosBkt_L3m                 1851\n",
       "CoAp_Income                 28576\n",
       "Ever_Default_L12M               0\n",
       "Perc_Paymode_Online             0\n",
       "Perc_Repay_Fail                 0\n",
       "Birth_Year                      0\n",
       "Max_DPD_L3m                   118\n",
       "Perc_Paymode_Cheq_Fail       8609\n",
       "Age                             0\n",
       "Total_Field_Trails          20327\n",
       "Total_Resolved              18673\n",
       "N_Enq_L9m                       0\n",
       "Max_Loan_Balance_Others       112\n",
       "N_WorkEx_Yr                     0\n",
       "dtype: int64"
      ]
     },
     "execution_count": 40,
     "metadata": {},
     "output_type": "execute_result"
    }
   ],
   "source": [
    "df.isna().sum()"
   ]
  },
  {
   "cell_type": "code",
   "execution_count": 41,
   "metadata": {},
   "outputs": [
    {
     "data": {
      "text/plain": [
       "1.0    6011\n",
       "2.0    2916\n",
       "3.0    1392\n",
       "0.0    1069\n",
       "Name: Total_Resolved, dtype: int64"
      ]
     },
     "execution_count": 41,
     "metadata": {},
     "output_type": "execute_result"
    }
   ],
   "source": [
    "df['Total_Resolved'].value_counts()"
   ]
  },
  {
   "cell_type": "code",
   "execution_count": 42,
   "metadata": {},
   "outputs": [],
   "source": [
    "df['Total_Resolved'].fillna('None', inplace= True)\n"
   ]
  },
  {
   "cell_type": "code",
   "execution_count": 43,
   "metadata": {},
   "outputs": [
    {
     "data": {
      "text/plain": [
       "0.0    6984\n",
       "1.0    2043\n",
       "2.0     565\n",
       "3.0     122\n",
       "4.0      15\n",
       "5.0       4\n",
       "6.0       1\n",
       "Name: Total_Field_Trails, dtype: int64"
      ]
     },
     "execution_count": 43,
     "metadata": {},
     "output_type": "execute_result"
    }
   ],
   "source": [
    "df['Total_Field_Trails'].value_counts()"
   ]
  },
  {
   "cell_type": "code",
   "execution_count": 44,
   "metadata": {},
   "outputs": [],
   "source": [
    "df['Total_Field_Trails'].fillna(0, inplace= True)"
   ]
  },
  {
   "cell_type": "code",
   "execution_count": 45,
   "metadata": {},
   "outputs": [],
   "source": [
    "df['Max_Ratio_OC_Pending_POS'].fillna('Others', inplace=True)"
   ]
  },
  {
   "cell_type": "code",
   "execution_count": 46,
   "metadata": {},
   "outputs": [],
   "source": [
    "df['Max_Loan_Balance_Others'].fillna(0, inplace= True)"
   ]
  },
  {
   "cell_type": "code",
   "execution_count": 47,
   "metadata": {},
   "outputs": [],
   "source": [
    "df['Perc_Paymode_Cheq_Fail'].fillna(0, inplace= True)"
   ]
  },
  {
   "cell_type": "code",
   "execution_count": 48,
   "metadata": {},
   "outputs": [
    {
     "data": {
      "text/plain": [
       "N_Default_L3m                   0\n",
       "Branch_Code                     0\n",
       "Max_Utilization                 0\n",
       "Max_Perc_Def_Chg_Pending     7369\n",
       "N_Family_Member                 0\n",
       "Max_Ratio_OC_Pending_POS        0\n",
       "N_PosBkt_L3m                 1851\n",
       "CoAp_Income                 28576\n",
       "Ever_Default_L12M               0\n",
       "Perc_Paymode_Online             0\n",
       "Perc_Repay_Fail                 0\n",
       "Birth_Year                      0\n",
       "Max_DPD_L3m                   118\n",
       "Perc_Paymode_Cheq_Fail          0\n",
       "Age                             0\n",
       "Total_Field_Trails              0\n",
       "Total_Resolved                  0\n",
       "N_Enq_L9m                       0\n",
       "Max_Loan_Balance_Others         0\n",
       "N_WorkEx_Yr                     0\n",
       "dtype: int64"
      ]
     },
     "execution_count": 48,
     "metadata": {},
     "output_type": "execute_result"
    }
   ],
   "source": [
    "df.isna().sum()"
   ]
  },
  {
   "cell_type": "code",
   "execution_count": 49,
   "metadata": {},
   "outputs": [],
   "source": [
    "df['Max_Perc_Def_Chg_Pending'].fillna('None', inplace= True)"
   ]
  },
  {
   "cell_type": "code",
   "execution_count": 50,
   "metadata": {},
   "outputs": [],
   "source": [
    "df['N_PosBkt_L3m'].fillna(0, inplace= True)"
   ]
  },
  {
   "cell_type": "markdown",
   "metadata": {},
   "source": [
    "Now dropping some columns which are not needed\n"
   ]
  },
  {
   "cell_type": "code",
   "execution_count": 51,
   "metadata": {},
   "outputs": [
    {
     "data": {
      "text/plain": [
       "24034"
      ]
     },
     "execution_count": 51,
     "metadata": {},
     "output_type": "execute_result"
    }
   ],
   "source": [
    "len(df['Branch_Code'].unique())"
   ]
  },
  {
   "cell_type": "markdown",
   "metadata": {},
   "source": [
    "huge no of branches so no point in exploring them."
   ]
  },
  {
   "cell_type": "code",
   "execution_count": 52,
   "metadata": {},
   "outputs": [],
   "source": [
    "df.drop(columns=['CoAp_Income', 'Branch_Code'], inplace=True)"
   ]
  },
  {
   "cell_type": "code",
   "execution_count": 53,
   "metadata": {},
   "outputs": [
    {
     "data": {
      "text/html": [
       "<div>\n",
       "<style scoped>\n",
       "    .dataframe tbody tr th:only-of-type {\n",
       "        vertical-align: middle;\n",
       "    }\n",
       "\n",
       "    .dataframe tbody tr th {\n",
       "        vertical-align: top;\n",
       "    }\n",
       "\n",
       "    .dataframe thead th {\n",
       "        text-align: right;\n",
       "    }\n",
       "</style>\n",
       "<table border=\"1\" class=\"dataframe\">\n",
       "  <thead>\n",
       "    <tr style=\"text-align: right;\">\n",
       "      <th></th>\n",
       "      <th>N_Default_L3m</th>\n",
       "      <th>Max_Utilization</th>\n",
       "      <th>Max_Perc_Def_Chg_Pending</th>\n",
       "      <th>N_Family_Member</th>\n",
       "      <th>Max_Ratio_OC_Pending_POS</th>\n",
       "      <th>N_PosBkt_L3m</th>\n",
       "      <th>Ever_Default_L12M</th>\n",
       "      <th>Perc_Paymode_Online</th>\n",
       "      <th>Perc_Repay_Fail</th>\n",
       "      <th>Birth_Year</th>\n",
       "      <th>Max_DPD_L3m</th>\n",
       "      <th>Perc_Paymode_Cheq_Fail</th>\n",
       "      <th>Age</th>\n",
       "      <th>Total_Field_Trails</th>\n",
       "      <th>Total_Resolved</th>\n",
       "      <th>N_Enq_L9m</th>\n",
       "      <th>Max_Loan_Balance_Others</th>\n",
       "      <th>N_WorkEx_Yr</th>\n",
       "    </tr>\n",
       "    <tr>\n",
       "      <th>Customer_No</th>\n",
       "      <th></th>\n",
       "      <th></th>\n",
       "      <th></th>\n",
       "      <th></th>\n",
       "      <th></th>\n",
       "      <th></th>\n",
       "      <th></th>\n",
       "      <th></th>\n",
       "      <th></th>\n",
       "      <th></th>\n",
       "      <th></th>\n",
       "      <th></th>\n",
       "      <th></th>\n",
       "      <th></th>\n",
       "      <th></th>\n",
       "      <th></th>\n",
       "      <th></th>\n",
       "      <th></th>\n",
       "    </tr>\n",
       "  </thead>\n",
       "  <tbody>\n",
       "    <tr>\n",
       "      <th>110030</th>\n",
       "      <td>3</td>\n",
       "      <td>51</td>\n",
       "      <td>98.0</td>\n",
       "      <td>0</td>\n",
       "      <td>Others</td>\n",
       "      <td>0.0</td>\n",
       "      <td>1</td>\n",
       "      <td>0.333333</td>\n",
       "      <td>0.333333</td>\n",
       "      <td>1989</td>\n",
       "      <td>4.0</td>\n",
       "      <td>0.600000</td>\n",
       "      <td>34</td>\n",
       "      <td>0.0</td>\n",
       "      <td>None</td>\n",
       "      <td>1</td>\n",
       "      <td>20424.0</td>\n",
       "      <td>10</td>\n",
       "    </tr>\n",
       "    <tr>\n",
       "      <th>100470</th>\n",
       "      <td>1</td>\n",
       "      <td>51</td>\n",
       "      <td>100.0</td>\n",
       "      <td>0</td>\n",
       "      <td>Others</td>\n",
       "      <td>0.0</td>\n",
       "      <td>1</td>\n",
       "      <td>0.250000</td>\n",
       "      <td>0.250000</td>\n",
       "      <td>1996</td>\n",
       "      <td>17.0</td>\n",
       "      <td>1.000000</td>\n",
       "      <td>27</td>\n",
       "      <td>1.0</td>\n",
       "      <td>1.0</td>\n",
       "      <td>2</td>\n",
       "      <td>6994.0</td>\n",
       "      <td>7</td>\n",
       "    </tr>\n",
       "    <tr>\n",
       "      <th>94985</th>\n",
       "      <td>2</td>\n",
       "      <td>52</td>\n",
       "      <td>99.0</td>\n",
       "      <td>5</td>\n",
       "      <td>Others</td>\n",
       "      <td>0.0</td>\n",
       "      <td>1</td>\n",
       "      <td>0.333333</td>\n",
       "      <td>0.333333</td>\n",
       "      <td>1989</td>\n",
       "      <td>21.0</td>\n",
       "      <td>0.666667</td>\n",
       "      <td>34</td>\n",
       "      <td>0.0</td>\n",
       "      <td>1.0</td>\n",
       "      <td>1</td>\n",
       "      <td>70020.0</td>\n",
       "      <td>14</td>\n",
       "    </tr>\n",
       "    <tr>\n",
       "      <th>102759</th>\n",
       "      <td>2</td>\n",
       "      <td>76</td>\n",
       "      <td>97.0</td>\n",
       "      <td>-4</td>\n",
       "      <td>0.062328</td>\n",
       "      <td>1.0</td>\n",
       "      <td>1</td>\n",
       "      <td>0.285714</td>\n",
       "      <td>0.285714</td>\n",
       "      <td>1992</td>\n",
       "      <td>24.0</td>\n",
       "      <td>0.500000</td>\n",
       "      <td>31</td>\n",
       "      <td>0.0</td>\n",
       "      <td>1.0</td>\n",
       "      <td>0</td>\n",
       "      <td>8399.0</td>\n",
       "      <td>11</td>\n",
       "    </tr>\n",
       "    <tr>\n",
       "      <th>116176</th>\n",
       "      <td>0</td>\n",
       "      <td>51</td>\n",
       "      <td>None</td>\n",
       "      <td>2</td>\n",
       "      <td>Others</td>\n",
       "      <td>0.0</td>\n",
       "      <td>0</td>\n",
       "      <td>0.000000</td>\n",
       "      <td>0.000000</td>\n",
       "      <td>1981</td>\n",
       "      <td>0.0</td>\n",
       "      <td>0.000000</td>\n",
       "      <td>42</td>\n",
       "      <td>0.0</td>\n",
       "      <td>None</td>\n",
       "      <td>0</td>\n",
       "      <td>23000.0</td>\n",
       "      <td>15</td>\n",
       "    </tr>\n",
       "    <tr>\n",
       "      <th>112578</th>\n",
       "      <td>3</td>\n",
       "      <td>64</td>\n",
       "      <td>100.0</td>\n",
       "      <td>0</td>\n",
       "      <td>Others</td>\n",
       "      <td>0.0</td>\n",
       "      <td>1</td>\n",
       "      <td>0.500000</td>\n",
       "      <td>0.500000</td>\n",
       "      <td>1994</td>\n",
       "      <td>24.0</td>\n",
       "      <td>1.000000</td>\n",
       "      <td>29</td>\n",
       "      <td>0.0</td>\n",
       "      <td>None</td>\n",
       "      <td>0</td>\n",
       "      <td>6394.0</td>\n",
       "      <td>9</td>\n",
       "    </tr>\n",
       "    <tr>\n",
       "      <th>111633</th>\n",
       "      <td>0</td>\n",
       "      <td>64</td>\n",
       "      <td>100.0</td>\n",
       "      <td>6</td>\n",
       "      <td>Others</td>\n",
       "      <td>0.0</td>\n",
       "      <td>1</td>\n",
       "      <td>0.000000</td>\n",
       "      <td>0.000000</td>\n",
       "      <td>1998</td>\n",
       "      <td>0.0</td>\n",
       "      <td>0.000000</td>\n",
       "      <td>25</td>\n",
       "      <td>0.0</td>\n",
       "      <td>None</td>\n",
       "      <td>0</td>\n",
       "      <td>10293.0</td>\n",
       "      <td>5</td>\n",
       "    </tr>\n",
       "    <tr>\n",
       "      <th>98533</th>\n",
       "      <td>2</td>\n",
       "      <td>88</td>\n",
       "      <td>100.0</td>\n",
       "      <td>6</td>\n",
       "      <td>Others</td>\n",
       "      <td>0.0</td>\n",
       "      <td>1</td>\n",
       "      <td>0.142857</td>\n",
       "      <td>0.285714</td>\n",
       "      <td>1975</td>\n",
       "      <td>9.0</td>\n",
       "      <td>0.500000</td>\n",
       "      <td>48</td>\n",
       "      <td>0.0</td>\n",
       "      <td>1.0</td>\n",
       "      <td>0</td>\n",
       "      <td>10582.0</td>\n",
       "      <td>28</td>\n",
       "    </tr>\n",
       "    <tr>\n",
       "      <th>112535</th>\n",
       "      <td>3</td>\n",
       "      <td>52</td>\n",
       "      <td>100.0</td>\n",
       "      <td>1</td>\n",
       "      <td>0.129863</td>\n",
       "      <td>0.0</td>\n",
       "      <td>1</td>\n",
       "      <td>0.111111</td>\n",
       "      <td>0.333333</td>\n",
       "      <td>2000</td>\n",
       "      <td>27.0</td>\n",
       "      <td>0.500000</td>\n",
       "      <td>23</td>\n",
       "      <td>0.0</td>\n",
       "      <td>1.0</td>\n",
       "      <td>0</td>\n",
       "      <td>65640.0</td>\n",
       "      <td>3</td>\n",
       "    </tr>\n",
       "    <tr>\n",
       "      <th>101057</th>\n",
       "      <td>2</td>\n",
       "      <td>88</td>\n",
       "      <td>100.0</td>\n",
       "      <td>0</td>\n",
       "      <td>Others</td>\n",
       "      <td>0.0</td>\n",
       "      <td>1</td>\n",
       "      <td>0.142857</td>\n",
       "      <td>0.285714</td>\n",
       "      <td>2001</td>\n",
       "      <td>15.0</td>\n",
       "      <td>0.500000</td>\n",
       "      <td>22</td>\n",
       "      <td>0.0</td>\n",
       "      <td>None</td>\n",
       "      <td>1</td>\n",
       "      <td>7930.0</td>\n",
       "      <td>2</td>\n",
       "    </tr>\n",
       "  </tbody>\n",
       "</table>\n",
       "</div>"
      ],
      "text/plain": [
       "             N_Default_L3m  Max_Utilization Max_Perc_Def_Chg_Pending  \\\n",
       "Customer_No                                                            \n",
       "110030                   3               51                     98.0   \n",
       "100470                   1               51                    100.0   \n",
       "94985                    2               52                     99.0   \n",
       "102759                   2               76                     97.0   \n",
       "116176                   0               51                     None   \n",
       "112578                   3               64                    100.0   \n",
       "111633                   0               64                    100.0   \n",
       "98533                    2               88                    100.0   \n",
       "112535                   3               52                    100.0   \n",
       "101057                   2               88                    100.0   \n",
       "\n",
       "             N_Family_Member Max_Ratio_OC_Pending_POS  N_PosBkt_L3m  \\\n",
       "Customer_No                                                           \n",
       "110030                     0                   Others           0.0   \n",
       "100470                     0                   Others           0.0   \n",
       "94985                      5                   Others           0.0   \n",
       "102759                    -4                 0.062328           1.0   \n",
       "116176                     2                   Others           0.0   \n",
       "112578                     0                   Others           0.0   \n",
       "111633                     6                   Others           0.0   \n",
       "98533                      6                   Others           0.0   \n",
       "112535                     1                 0.129863           0.0   \n",
       "101057                     0                   Others           0.0   \n",
       "\n",
       "             Ever_Default_L12M  Perc_Paymode_Online  Perc_Repay_Fail  \\\n",
       "Customer_No                                                            \n",
       "110030                       1             0.333333         0.333333   \n",
       "100470                       1             0.250000         0.250000   \n",
       "94985                        1             0.333333         0.333333   \n",
       "102759                       1             0.285714         0.285714   \n",
       "116176                       0             0.000000         0.000000   \n",
       "112578                       1             0.500000         0.500000   \n",
       "111633                       1             0.000000         0.000000   \n",
       "98533                        1             0.142857         0.285714   \n",
       "112535                       1             0.111111         0.333333   \n",
       "101057                       1             0.142857         0.285714   \n",
       "\n",
       "             Birth_Year  Max_DPD_L3m  Perc_Paymode_Cheq_Fail  Age  \\\n",
       "Customer_No                                                         \n",
       "110030             1989          4.0                0.600000   34   \n",
       "100470             1996         17.0                1.000000   27   \n",
       "94985              1989         21.0                0.666667   34   \n",
       "102759             1992         24.0                0.500000   31   \n",
       "116176             1981          0.0                0.000000   42   \n",
       "112578             1994         24.0                1.000000   29   \n",
       "111633             1998          0.0                0.000000   25   \n",
       "98533              1975          9.0                0.500000   48   \n",
       "112535             2000         27.0                0.500000   23   \n",
       "101057             2001         15.0                0.500000   22   \n",
       "\n",
       "             Total_Field_Trails Total_Resolved  N_Enq_L9m  \\\n",
       "Customer_No                                                 \n",
       "110030                      0.0           None          1   \n",
       "100470                      1.0            1.0          2   \n",
       "94985                       0.0            1.0          1   \n",
       "102759                      0.0            1.0          0   \n",
       "116176                      0.0           None          0   \n",
       "112578                      0.0           None          0   \n",
       "111633                      0.0           None          0   \n",
       "98533                       0.0            1.0          0   \n",
       "112535                      0.0            1.0          0   \n",
       "101057                      0.0           None          1   \n",
       "\n",
       "             Max_Loan_Balance_Others  N_WorkEx_Yr  \n",
       "Customer_No                                        \n",
       "110030                       20424.0           10  \n",
       "100470                        6994.0            7  \n",
       "94985                        70020.0           14  \n",
       "102759                        8399.0           11  \n",
       "116176                       23000.0           15  \n",
       "112578                        6394.0            9  \n",
       "111633                       10293.0            5  \n",
       "98533                        10582.0           28  \n",
       "112535                       65640.0            3  \n",
       "101057                        7930.0            2  "
      ]
     },
     "execution_count": 53,
     "metadata": {},
     "output_type": "execute_result"
    }
   ],
   "source": [
    "df.sample(10)"
   ]
  },
  {
   "cell_type": "code",
   "execution_count": 54,
   "metadata": {},
   "outputs": [
    {
     "data": {
      "text/plain": [
       "100.0    17584\n",
       "None      7369\n",
       "0.0       1673\n",
       "50.0       760\n",
       "67.0       420\n",
       "         ...  \n",
       "3.0          1\n",
       "18.0         1\n",
       "27.0         1\n",
       "16.0         1\n",
       "8.0          1\n",
       "Name: Max_Perc_Def_Chg_Pending, Length: 92, dtype: int64"
      ]
     },
     "execution_count": 54,
     "metadata": {},
     "output_type": "execute_result"
    }
   ],
   "source": [
    "df['Max_Perc_Def_Chg_Pending'].value_counts()"
   ]
  },
  {
   "cell_type": "markdown",
   "metadata": {},
   "source": [
    "we see that some values are negative so lets make them positive."
   ]
  },
  {
   "cell_type": "code",
   "execution_count": 55,
   "metadata": {},
   "outputs": [],
   "source": [
    "df['N_Family_Member'] = df['N_Family_Member'].abs()"
   ]
  },
  {
   "cell_type": "code",
   "execution_count": 56,
   "metadata": {},
   "outputs": [],
   "source": [
    "df['N_WorkEx_Yr'] = df['N_WorkEx_Yr'].abs()"
   ]
  },
  {
   "cell_type": "code",
   "execution_count": 57,
   "metadata": {},
   "outputs": [],
   "source": [
    "df['Max_Loan_Balance_Others'] = df['Max_Loan_Balance_Others'].abs()"
   ]
  },
  {
   "cell_type": "code",
   "execution_count": 58,
   "metadata": {},
   "outputs": [
    {
     "name": "stdout",
     "output_type": "stream",
     "text": [
      "<class 'pandas.core.frame.DataFrame'>\n",
      "Int64Index: 30061 entries, 90000 to 120060\n",
      "Data columns (total 18 columns):\n",
      " #   Column                    Non-Null Count  Dtype  \n",
      "---  ------                    --------------  -----  \n",
      " 0   N_Default_L3m             30061 non-null  int64  \n",
      " 1   Max_Utilization           30061 non-null  int64  \n",
      " 2   Max_Perc_Def_Chg_Pending  30061 non-null  object \n",
      " 3   N_Family_Member           30061 non-null  int64  \n",
      " 4   Max_Ratio_OC_Pending_POS  30061 non-null  object \n",
      " 5   N_PosBkt_L3m              30061 non-null  float64\n",
      " 6   Ever_Default_L12M         30061 non-null  int64  \n",
      " 7   Perc_Paymode_Online       30061 non-null  float64\n",
      " 8   Perc_Repay_Fail           30061 non-null  float64\n",
      " 9   Birth_Year                30061 non-null  int64  \n",
      " 10  Max_DPD_L3m               29943 non-null  float64\n",
      " 11  Perc_Paymode_Cheq_Fail    30061 non-null  float64\n",
      " 12  Age                       30061 non-null  int64  \n",
      " 13  Total_Field_Trails        30061 non-null  float64\n",
      " 14  Total_Resolved            30061 non-null  object \n",
      " 15  N_Enq_L9m                 30061 non-null  int64  \n",
      " 16  Max_Loan_Balance_Others   30061 non-null  float64\n",
      " 17  N_WorkEx_Yr               30061 non-null  int64  \n",
      "dtypes: float64(7), int64(8), object(3)\n",
      "memory usage: 4.4+ MB\n"
     ]
    }
   ],
   "source": [
    "df.info()"
   ]
  },
  {
   "cell_type": "code",
   "execution_count": 59,
   "metadata": {},
   "outputs": [
    {
     "data": {
      "text/plain": [
       "Customer_No\n",
       "90000     100.0\n",
       "90001     100.0\n",
       "90002     100.0\n",
       "90003      None\n",
       "90004     100.0\n",
       "          ...  \n",
       "120056     83.0\n",
       "120057     None\n",
       "120058    100.0\n",
       "120059     None\n",
       "120060    100.0\n",
       "Name: Max_Perc_Def_Chg_Pending, Length: 30061, dtype: object"
      ]
     },
     "execution_count": 59,
     "metadata": {},
     "output_type": "execute_result"
    }
   ],
   "source": [
    "df['Max_Perc_Def_Chg_Pending']"
   ]
  },
  {
   "cell_type": "code",
   "execution_count": 60,
   "metadata": {},
   "outputs": [],
   "source": [
    "categorical_cols = ['N_Default_L3m','N_Family_Member', 'N_PosBkt_L3m', 'Ever_Default_L12M','Total_Field_Trails', 'Total_Resolved']"
   ]
  },
  {
   "cell_type": "markdown",
   "metadata": {},
   "source": [
    "Identifying outliers:\n"
   ]
  },
  {
   "cell_type": "markdown",
   "metadata": {},
   "source": [
    "ABOVE DATA IS MISLEADING REMOVE THESE"
   ]
  },
  {
   "cell_type": "code",
   "execution_count": 61,
   "metadata": {},
   "outputs": [
    {
     "name": "stdout",
     "output_type": "stream",
     "text": [
      "<class 'pandas.core.frame.DataFrame'>\n",
      "Int64Index: 30061 entries, 90000 to 120060\n",
      "Data columns (total 18 columns):\n",
      " #   Column                    Non-Null Count  Dtype  \n",
      "---  ------                    --------------  -----  \n",
      " 0   N_Default_L3m             30061 non-null  int64  \n",
      " 1   Max_Utilization           30061 non-null  int64  \n",
      " 2   Max_Perc_Def_Chg_Pending  30061 non-null  object \n",
      " 3   N_Family_Member           30061 non-null  int64  \n",
      " 4   Max_Ratio_OC_Pending_POS  30061 non-null  object \n",
      " 5   N_PosBkt_L3m              30061 non-null  float64\n",
      " 6   Ever_Default_L12M         30061 non-null  int64  \n",
      " 7   Perc_Paymode_Online       30061 non-null  float64\n",
      " 8   Perc_Repay_Fail           30061 non-null  float64\n",
      " 9   Birth_Year                30061 non-null  int64  \n",
      " 10  Max_DPD_L3m               29943 non-null  float64\n",
      " 11  Perc_Paymode_Cheq_Fail    30061 non-null  float64\n",
      " 12  Age                       30061 non-null  int64  \n",
      " 13  Total_Field_Trails        30061 non-null  float64\n",
      " 14  Total_Resolved            30061 non-null  object \n",
      " 15  N_Enq_L9m                 30061 non-null  int64  \n",
      " 16  Max_Loan_Balance_Others   30061 non-null  float64\n",
      " 17  N_WorkEx_Yr               30061 non-null  int64  \n",
      "dtypes: float64(7), int64(8), object(3)\n",
      "memory usage: 4.4+ MB\n"
     ]
    }
   ],
   "source": [
    "df.info()"
   ]
  },
  {
   "cell_type": "code",
   "execution_count": 63,
   "metadata": {},
   "outputs": [
    {
     "data": {
      "text/plain": [
       "N_Default_L3m                 0\n",
       "Max_Utilization               0\n",
       "Max_Perc_Def_Chg_Pending      0\n",
       "N_Family_Member               0\n",
       "Max_Ratio_OC_Pending_POS      0\n",
       "N_PosBkt_L3m                  0\n",
       "Ever_Default_L12M             0\n",
       "Perc_Paymode_Online           0\n",
       "Perc_Repay_Fail               0\n",
       "Birth_Year                    0\n",
       "Max_DPD_L3m                 118\n",
       "Perc_Paymode_Cheq_Fail        0\n",
       "Age                           0\n",
       "Total_Field_Trails            0\n",
       "Total_Resolved                0\n",
       "N_Enq_L9m                     0\n",
       "Max_Loan_Balance_Others       0\n",
       "N_WorkEx_Yr                   0\n",
       "dtype: int64"
      ]
     },
     "execution_count": 63,
     "metadata": {},
     "output_type": "execute_result"
    }
   ],
   "source": [
    "df.isna().sum()"
   ]
  },
  {
   "cell_type": "code",
   "execution_count": 65,
   "metadata": {},
   "outputs": [],
   "source": [
    "df['Max_DPD_L3m'].fillna(df['Max_DPD_L3m'].mode(), inplace=True)"
   ]
  },
  {
   "cell_type": "code",
   "execution_count": 62,
   "metadata": {},
   "outputs": [
    {
     "data": {
      "text/plain": [
       "array(['Others', 0.048208457, 0.064682817, ..., 0.060206968, 0.094231012,\n",
       "       0.032175266], dtype=object)"
      ]
     },
     "execution_count": 62,
     "metadata": {},
     "output_type": "execute_result"
    }
   ],
   "source": [
    "df['Max_Ratio_OC_Pending_POS'].unique()"
   ]
  },
  {
   "cell_type": "code",
   "execution_count": 66,
   "metadata": {},
   "outputs": [],
   "source": [
    "df['Max_Perc_Def_Chg_Pending'].replace({'None': 0}, inplace=True)"
   ]
  },
  {
   "cell_type": "code",
   "execution_count": 67,
   "metadata": {},
   "outputs": [],
   "source": [
    "df['Max_Ratio_OC_Pending_POS'].replace({'Others': 0}, inplace=True)"
   ]
  },
  {
   "cell_type": "code",
   "execution_count": 68,
   "metadata": {},
   "outputs": [
    {
     "data": {
      "text/plain": [
       "array(['None', 2.0, 1.0, 3.0, 0.0], dtype=object)"
      ]
     },
     "execution_count": 68,
     "metadata": {},
     "output_type": "execute_result"
    }
   ],
   "source": [
    "df['Total_Resolved'].unique()\n",
    "           "
   ]
  },
  {
   "cell_type": "code",
   "execution_count": 69,
   "metadata": {},
   "outputs": [],
   "source": [
    "df['Total_Resolved'].replace({'None': 0}, inplace=True)\n"
   ]
  },
  {
   "cell_type": "code",
   "execution_count": 70,
   "metadata": {},
   "outputs": [
    {
     "name": "stdout",
     "output_type": "stream",
     "text": [
      "<class 'pandas.core.frame.DataFrame'>\n",
      "Int64Index: 30061 entries, 90000 to 120060\n",
      "Data columns (total 18 columns):\n",
      " #   Column                    Non-Null Count  Dtype  \n",
      "---  ------                    --------------  -----  \n",
      " 0   N_Default_L3m             30061 non-null  int64  \n",
      " 1   Max_Utilization           30061 non-null  int64  \n",
      " 2   Max_Perc_Def_Chg_Pending  30061 non-null  float64\n",
      " 3   N_Family_Member           30061 non-null  int64  \n",
      " 4   Max_Ratio_OC_Pending_POS  30061 non-null  float64\n",
      " 5   N_PosBkt_L3m              30061 non-null  float64\n",
      " 6   Ever_Default_L12M         30061 non-null  int64  \n",
      " 7   Perc_Paymode_Online       30061 non-null  float64\n",
      " 8   Perc_Repay_Fail           30061 non-null  float64\n",
      " 9   Birth_Year                30061 non-null  int64  \n",
      " 10  Max_DPD_L3m               29943 non-null  float64\n",
      " 11  Perc_Paymode_Cheq_Fail    30061 non-null  float64\n",
      " 12  Age                       30061 non-null  int64  \n",
      " 13  Total_Field_Trails        30061 non-null  float64\n",
      " 14  Total_Resolved            30061 non-null  float64\n",
      " 15  N_Enq_L9m                 30061 non-null  int64  \n",
      " 16  Max_Loan_Balance_Others   30061 non-null  float64\n",
      " 17  N_WorkEx_Yr               30061 non-null  int64  \n",
      "dtypes: float64(10), int64(8)\n",
      "memory usage: 4.4 MB\n"
     ]
    }
   ],
   "source": [
    "df.info()"
   ]
  },
  {
   "cell_type": "code",
   "execution_count": 71,
   "metadata": {},
   "outputs": [
    {
     "data": {
      "text/plain": [
       "array([0.        , 0.04820846, 0.06468282, ..., 0.06020697, 0.09423101,\n",
       "       0.03217527])"
      ]
     },
     "execution_count": 71,
     "metadata": {},
     "output_type": "execute_result"
    }
   ],
   "source": [
    "df['Max_Ratio_OC_Pending_POS'].unique()"
   ]
  },
  {
   "cell_type": "markdown",
   "metadata": {},
   "source": [
    "One Hot Encoding"
   ]
  },
  {
   "cell_type": "code",
   "execution_count": 72,
   "metadata": {},
   "outputs": [
    {
     "name": "stdout",
     "output_type": "stream",
     "text": [
      "[2 1 0 3]\n",
      "[8 6 4 7 1 2 5 3 10 0 9 11]\n",
      "[0.0 1.0 2.0]\n",
      "[1 0]\n",
      "[0.0 2.0 1.0 3.0 4.0 5.0 6.0]\n",
      "[0.0 2.0 1.0 3.0]\n"
     ]
    }
   ],
   "source": [
    "for col in categorical_cols:\n",
    "    df[col] = df[col].astype('object')\n",
    "    print(df[col].unique())\n"
   ]
  },
  {
   "cell_type": "code",
   "execution_count": 73,
   "metadata": {},
   "outputs": [],
   "source": [
    "for col in categorical_cols:\n",
    "    if df[col].dtype == 'object':\n",
    "        df = pd.get_dummies(df, columns=[col], drop_first=True)"
   ]
  },
  {
   "cell_type": "code",
   "execution_count": 74,
   "metadata": {},
   "outputs": [
    {
     "data": {
      "text/html": [
       "<div>\n",
       "<style scoped>\n",
       "    .dataframe tbody tr th:only-of-type {\n",
       "        vertical-align: middle;\n",
       "    }\n",
       "\n",
       "    .dataframe tbody tr th {\n",
       "        vertical-align: top;\n",
       "    }\n",
       "\n",
       "    .dataframe thead th {\n",
       "        text-align: right;\n",
       "    }\n",
       "</style>\n",
       "<table border=\"1\" class=\"dataframe\">\n",
       "  <thead>\n",
       "    <tr style=\"text-align: right;\">\n",
       "      <th></th>\n",
       "      <th>Max_Utilization</th>\n",
       "      <th>Max_Perc_Def_Chg_Pending</th>\n",
       "      <th>Max_Ratio_OC_Pending_POS</th>\n",
       "      <th>Perc_Paymode_Online</th>\n",
       "      <th>Perc_Repay_Fail</th>\n",
       "      <th>Birth_Year</th>\n",
       "      <th>Max_DPD_L3m</th>\n",
       "      <th>Perc_Paymode_Cheq_Fail</th>\n",
       "      <th>Age</th>\n",
       "      <th>N_Enq_L9m</th>\n",
       "      <th>...</th>\n",
       "      <th>Ever_Default_L12M_1</th>\n",
       "      <th>Total_Field_Trails_1.0</th>\n",
       "      <th>Total_Field_Trails_2.0</th>\n",
       "      <th>Total_Field_Trails_3.0</th>\n",
       "      <th>Total_Field_Trails_4.0</th>\n",
       "      <th>Total_Field_Trails_5.0</th>\n",
       "      <th>Total_Field_Trails_6.0</th>\n",
       "      <th>Total_Resolved_1.0</th>\n",
       "      <th>Total_Resolved_2.0</th>\n",
       "      <th>Total_Resolved_3.0</th>\n",
       "    </tr>\n",
       "    <tr>\n",
       "      <th>Customer_No</th>\n",
       "      <th></th>\n",
       "      <th></th>\n",
       "      <th></th>\n",
       "      <th></th>\n",
       "      <th></th>\n",
       "      <th></th>\n",
       "      <th></th>\n",
       "      <th></th>\n",
       "      <th></th>\n",
       "      <th></th>\n",
       "      <th></th>\n",
       "      <th></th>\n",
       "      <th></th>\n",
       "      <th></th>\n",
       "      <th></th>\n",
       "      <th></th>\n",
       "      <th></th>\n",
       "      <th></th>\n",
       "      <th></th>\n",
       "      <th></th>\n",
       "      <th></th>\n",
       "    </tr>\n",
       "  </thead>\n",
       "  <tbody>\n",
       "    <tr>\n",
       "      <th>90000</th>\n",
       "      <td>57</td>\n",
       "      <td>100.0</td>\n",
       "      <td>0.0</td>\n",
       "      <td>0.142857</td>\n",
       "      <td>0.285714</td>\n",
       "      <td>1990</td>\n",
       "      <td>2.0</td>\n",
       "      <td>0.5</td>\n",
       "      <td>33</td>\n",
       "      <td>0</td>\n",
       "      <td>...</td>\n",
       "      <td>1</td>\n",
       "      <td>0</td>\n",
       "      <td>0</td>\n",
       "      <td>0</td>\n",
       "      <td>0</td>\n",
       "      <td>0</td>\n",
       "      <td>0</td>\n",
       "      <td>0</td>\n",
       "      <td>0</td>\n",
       "      <td>0</td>\n",
       "    </tr>\n",
       "    <tr>\n",
       "      <th>90001</th>\n",
       "      <td>100</td>\n",
       "      <td>100.0</td>\n",
       "      <td>0.0</td>\n",
       "      <td>0.000000</td>\n",
       "      <td>0.250000</td>\n",
       "      <td>1971</td>\n",
       "      <td>14.0</td>\n",
       "      <td>0.5</td>\n",
       "      <td>52</td>\n",
       "      <td>0</td>\n",
       "      <td>...</td>\n",
       "      <td>1</td>\n",
       "      <td>0</td>\n",
       "      <td>0</td>\n",
       "      <td>0</td>\n",
       "      <td>0</td>\n",
       "      <td>0</td>\n",
       "      <td>0</td>\n",
       "      <td>0</td>\n",
       "      <td>0</td>\n",
       "      <td>0</td>\n",
       "    </tr>\n",
       "    <tr>\n",
       "      <th>90002</th>\n",
       "      <td>100</td>\n",
       "      <td>100.0</td>\n",
       "      <td>0.0</td>\n",
       "      <td>0.500000</td>\n",
       "      <td>0.500000</td>\n",
       "      <td>1999</td>\n",
       "      <td>8.0</td>\n",
       "      <td>1.0</td>\n",
       "      <td>24</td>\n",
       "      <td>2</td>\n",
       "      <td>...</td>\n",
       "      <td>1</td>\n",
       "      <td>0</td>\n",
       "      <td>0</td>\n",
       "      <td>0</td>\n",
       "      <td>0</td>\n",
       "      <td>0</td>\n",
       "      <td>0</td>\n",
       "      <td>0</td>\n",
       "      <td>1</td>\n",
       "      <td>0</td>\n",
       "    </tr>\n",
       "    <tr>\n",
       "      <th>90003</th>\n",
       "      <td>100</td>\n",
       "      <td>0.0</td>\n",
       "      <td>0.0</td>\n",
       "      <td>0.000000</td>\n",
       "      <td>0.000000</td>\n",
       "      <td>1994</td>\n",
       "      <td>0.0</td>\n",
       "      <td>0.0</td>\n",
       "      <td>29</td>\n",
       "      <td>3</td>\n",
       "      <td>...</td>\n",
       "      <td>0</td>\n",
       "      <td>0</td>\n",
       "      <td>0</td>\n",
       "      <td>0</td>\n",
       "      <td>0</td>\n",
       "      <td>0</td>\n",
       "      <td>0</td>\n",
       "      <td>0</td>\n",
       "      <td>0</td>\n",
       "      <td>0</td>\n",
       "    </tr>\n",
       "    <tr>\n",
       "      <th>90004</th>\n",
       "      <td>100</td>\n",
       "      <td>100.0</td>\n",
       "      <td>0.0</td>\n",
       "      <td>0.333333</td>\n",
       "      <td>0.333333</td>\n",
       "      <td>1999</td>\n",
       "      <td>19.0</td>\n",
       "      <td>0.5</td>\n",
       "      <td>24</td>\n",
       "      <td>0</td>\n",
       "      <td>...</td>\n",
       "      <td>1</td>\n",
       "      <td>0</td>\n",
       "      <td>0</td>\n",
       "      <td>0</td>\n",
       "      <td>0</td>\n",
       "      <td>0</td>\n",
       "      <td>0</td>\n",
       "      <td>0</td>\n",
       "      <td>0</td>\n",
       "      <td>0</td>\n",
       "    </tr>\n",
       "  </tbody>\n",
       "</table>\n",
       "<p>5 rows × 38 columns</p>\n",
       "</div>"
      ],
      "text/plain": [
       "             Max_Utilization  Max_Perc_Def_Chg_Pending  \\\n",
       "Customer_No                                              \n",
       "90000                     57                     100.0   \n",
       "90001                    100                     100.0   \n",
       "90002                    100                     100.0   \n",
       "90003                    100                       0.0   \n",
       "90004                    100                     100.0   \n",
       "\n",
       "             Max_Ratio_OC_Pending_POS  Perc_Paymode_Online  Perc_Repay_Fail  \\\n",
       "Customer_No                                                                   \n",
       "90000                             0.0             0.142857         0.285714   \n",
       "90001                             0.0             0.000000         0.250000   \n",
       "90002                             0.0             0.500000         0.500000   \n",
       "90003                             0.0             0.000000         0.000000   \n",
       "90004                             0.0             0.333333         0.333333   \n",
       "\n",
       "             Birth_Year  Max_DPD_L3m  Perc_Paymode_Cheq_Fail  Age  N_Enq_L9m  \\\n",
       "Customer_No                                                                    \n",
       "90000              1990          2.0                     0.5   33          0   \n",
       "90001              1971         14.0                     0.5   52          0   \n",
       "90002              1999          8.0                     1.0   24          2   \n",
       "90003              1994          0.0                     0.0   29          3   \n",
       "90004              1999         19.0                     0.5   24          0   \n",
       "\n",
       "             ...  Ever_Default_L12M_1  Total_Field_Trails_1.0  \\\n",
       "Customer_No  ...                                                \n",
       "90000        ...                    1                       0   \n",
       "90001        ...                    1                       0   \n",
       "90002        ...                    1                       0   \n",
       "90003        ...                    0                       0   \n",
       "90004        ...                    1                       0   \n",
       "\n",
       "             Total_Field_Trails_2.0  Total_Field_Trails_3.0  \\\n",
       "Customer_No                                                   \n",
       "90000                             0                       0   \n",
       "90001                             0                       0   \n",
       "90002                             0                       0   \n",
       "90003                             0                       0   \n",
       "90004                             0                       0   \n",
       "\n",
       "             Total_Field_Trails_4.0  Total_Field_Trails_5.0  \\\n",
       "Customer_No                                                   \n",
       "90000                             0                       0   \n",
       "90001                             0                       0   \n",
       "90002                             0                       0   \n",
       "90003                             0                       0   \n",
       "90004                             0                       0   \n",
       "\n",
       "             Total_Field_Trails_6.0  Total_Resolved_1.0  Total_Resolved_2.0  \\\n",
       "Customer_No                                                                   \n",
       "90000                             0                   0                   0   \n",
       "90001                             0                   0                   0   \n",
       "90002                             0                   0                   1   \n",
       "90003                             0                   0                   0   \n",
       "90004                             0                   0                   0   \n",
       "\n",
       "             Total_Resolved_3.0  \n",
       "Customer_No                      \n",
       "90000                         0  \n",
       "90001                         0  \n",
       "90002                         0  \n",
       "90003                         0  \n",
       "90004                         0  \n",
       "\n",
       "[5 rows x 38 columns]"
      ]
     },
     "execution_count": 74,
     "metadata": {},
     "output_type": "execute_result"
    }
   ],
   "source": [
    "df.head()"
   ]
  },
  {
   "cell_type": "code",
   "execution_count": 75,
   "metadata": {},
   "outputs": [
    {
     "data": {
      "text/html": [
       "<div>\n",
       "<style scoped>\n",
       "    .dataframe tbody tr th:only-of-type {\n",
       "        vertical-align: middle;\n",
       "    }\n",
       "\n",
       "    .dataframe tbody tr th {\n",
       "        vertical-align: top;\n",
       "    }\n",
       "\n",
       "    .dataframe thead th {\n",
       "        text-align: right;\n",
       "    }\n",
       "</style>\n",
       "<table border=\"1\" class=\"dataframe\">\n",
       "  <thead>\n",
       "    <tr style=\"text-align: right;\">\n",
       "      <th></th>\n",
       "      <th>Max_Utilization</th>\n",
       "      <th>Max_Perc_Def_Chg_Pending</th>\n",
       "      <th>Max_Ratio_OC_Pending_POS</th>\n",
       "      <th>Perc_Paymode_Online</th>\n",
       "      <th>Perc_Repay_Fail</th>\n",
       "      <th>Birth_Year</th>\n",
       "      <th>Max_DPD_L3m</th>\n",
       "      <th>Perc_Paymode_Cheq_Fail</th>\n",
       "      <th>Age</th>\n",
       "      <th>N_Enq_L9m</th>\n",
       "      <th>...</th>\n",
       "      <th>Ever_Default_L12M_1</th>\n",
       "      <th>Total_Field_Trails_1.0</th>\n",
       "      <th>Total_Field_Trails_2.0</th>\n",
       "      <th>Total_Field_Trails_3.0</th>\n",
       "      <th>Total_Field_Trails_4.0</th>\n",
       "      <th>Total_Field_Trails_5.0</th>\n",
       "      <th>Total_Field_Trails_6.0</th>\n",
       "      <th>Total_Resolved_1.0</th>\n",
       "      <th>Total_Resolved_2.0</th>\n",
       "      <th>Total_Resolved_3.0</th>\n",
       "    </tr>\n",
       "    <tr>\n",
       "      <th>Customer_No</th>\n",
       "      <th></th>\n",
       "      <th></th>\n",
       "      <th></th>\n",
       "      <th></th>\n",
       "      <th></th>\n",
       "      <th></th>\n",
       "      <th></th>\n",
       "      <th></th>\n",
       "      <th></th>\n",
       "      <th></th>\n",
       "      <th></th>\n",
       "      <th></th>\n",
       "      <th></th>\n",
       "      <th></th>\n",
       "      <th></th>\n",
       "      <th></th>\n",
       "      <th></th>\n",
       "      <th></th>\n",
       "      <th></th>\n",
       "      <th></th>\n",
       "      <th></th>\n",
       "    </tr>\n",
       "  </thead>\n",
       "  <tbody>\n",
       "    <tr>\n",
       "      <th>90000</th>\n",
       "      <td>57</td>\n",
       "      <td>100.0</td>\n",
       "      <td>0.0</td>\n",
       "      <td>0.142857</td>\n",
       "      <td>0.285714</td>\n",
       "      <td>1990</td>\n",
       "      <td>2.0</td>\n",
       "      <td>0.5</td>\n",
       "      <td>33</td>\n",
       "      <td>0</td>\n",
       "      <td>...</td>\n",
       "      <td>1</td>\n",
       "      <td>0</td>\n",
       "      <td>0</td>\n",
       "      <td>0</td>\n",
       "      <td>0</td>\n",
       "      <td>0</td>\n",
       "      <td>0</td>\n",
       "      <td>0</td>\n",
       "      <td>0</td>\n",
       "      <td>0</td>\n",
       "    </tr>\n",
       "    <tr>\n",
       "      <th>90001</th>\n",
       "      <td>100</td>\n",
       "      <td>100.0</td>\n",
       "      <td>0.0</td>\n",
       "      <td>0.000000</td>\n",
       "      <td>0.250000</td>\n",
       "      <td>1971</td>\n",
       "      <td>14.0</td>\n",
       "      <td>0.5</td>\n",
       "      <td>52</td>\n",
       "      <td>0</td>\n",
       "      <td>...</td>\n",
       "      <td>1</td>\n",
       "      <td>0</td>\n",
       "      <td>0</td>\n",
       "      <td>0</td>\n",
       "      <td>0</td>\n",
       "      <td>0</td>\n",
       "      <td>0</td>\n",
       "      <td>0</td>\n",
       "      <td>0</td>\n",
       "      <td>0</td>\n",
       "    </tr>\n",
       "    <tr>\n",
       "      <th>90002</th>\n",
       "      <td>100</td>\n",
       "      <td>100.0</td>\n",
       "      <td>0.0</td>\n",
       "      <td>0.500000</td>\n",
       "      <td>0.500000</td>\n",
       "      <td>1999</td>\n",
       "      <td>8.0</td>\n",
       "      <td>1.0</td>\n",
       "      <td>24</td>\n",
       "      <td>2</td>\n",
       "      <td>...</td>\n",
       "      <td>1</td>\n",
       "      <td>0</td>\n",
       "      <td>0</td>\n",
       "      <td>0</td>\n",
       "      <td>0</td>\n",
       "      <td>0</td>\n",
       "      <td>0</td>\n",
       "      <td>0</td>\n",
       "      <td>1</td>\n",
       "      <td>0</td>\n",
       "    </tr>\n",
       "    <tr>\n",
       "      <th>90003</th>\n",
       "      <td>100</td>\n",
       "      <td>0.0</td>\n",
       "      <td>0.0</td>\n",
       "      <td>0.000000</td>\n",
       "      <td>0.000000</td>\n",
       "      <td>1994</td>\n",
       "      <td>0.0</td>\n",
       "      <td>0.0</td>\n",
       "      <td>29</td>\n",
       "      <td>3</td>\n",
       "      <td>...</td>\n",
       "      <td>0</td>\n",
       "      <td>0</td>\n",
       "      <td>0</td>\n",
       "      <td>0</td>\n",
       "      <td>0</td>\n",
       "      <td>0</td>\n",
       "      <td>0</td>\n",
       "      <td>0</td>\n",
       "      <td>0</td>\n",
       "      <td>0</td>\n",
       "    </tr>\n",
       "    <tr>\n",
       "      <th>90004</th>\n",
       "      <td>100</td>\n",
       "      <td>100.0</td>\n",
       "      <td>0.0</td>\n",
       "      <td>0.333333</td>\n",
       "      <td>0.333333</td>\n",
       "      <td>1999</td>\n",
       "      <td>19.0</td>\n",
       "      <td>0.5</td>\n",
       "      <td>24</td>\n",
       "      <td>0</td>\n",
       "      <td>...</td>\n",
       "      <td>1</td>\n",
       "      <td>0</td>\n",
       "      <td>0</td>\n",
       "      <td>0</td>\n",
       "      <td>0</td>\n",
       "      <td>0</td>\n",
       "      <td>0</td>\n",
       "      <td>0</td>\n",
       "      <td>0</td>\n",
       "      <td>0</td>\n",
       "    </tr>\n",
       "  </tbody>\n",
       "</table>\n",
       "<p>5 rows × 38 columns</p>\n",
       "</div>"
      ],
      "text/plain": [
       "             Max_Utilization  Max_Perc_Def_Chg_Pending  \\\n",
       "Customer_No                                              \n",
       "90000                     57                     100.0   \n",
       "90001                    100                     100.0   \n",
       "90002                    100                     100.0   \n",
       "90003                    100                       0.0   \n",
       "90004                    100                     100.0   \n",
       "\n",
       "             Max_Ratio_OC_Pending_POS  Perc_Paymode_Online  Perc_Repay_Fail  \\\n",
       "Customer_No                                                                   \n",
       "90000                             0.0             0.142857         0.285714   \n",
       "90001                             0.0             0.000000         0.250000   \n",
       "90002                             0.0             0.500000         0.500000   \n",
       "90003                             0.0             0.000000         0.000000   \n",
       "90004                             0.0             0.333333         0.333333   \n",
       "\n",
       "             Birth_Year  Max_DPD_L3m  Perc_Paymode_Cheq_Fail  Age  N_Enq_L9m  \\\n",
       "Customer_No                                                                    \n",
       "90000              1990          2.0                     0.5   33          0   \n",
       "90001              1971         14.0                     0.5   52          0   \n",
       "90002              1999          8.0                     1.0   24          2   \n",
       "90003              1994          0.0                     0.0   29          3   \n",
       "90004              1999         19.0                     0.5   24          0   \n",
       "\n",
       "             ...  Ever_Default_L12M_1  Total_Field_Trails_1.0  \\\n",
       "Customer_No  ...                                                \n",
       "90000        ...                    1                       0   \n",
       "90001        ...                    1                       0   \n",
       "90002        ...                    1                       0   \n",
       "90003        ...                    0                       0   \n",
       "90004        ...                    1                       0   \n",
       "\n",
       "             Total_Field_Trails_2.0  Total_Field_Trails_3.0  \\\n",
       "Customer_No                                                   \n",
       "90000                             0                       0   \n",
       "90001                             0                       0   \n",
       "90002                             0                       0   \n",
       "90003                             0                       0   \n",
       "90004                             0                       0   \n",
       "\n",
       "             Total_Field_Trails_4.0  Total_Field_Trails_5.0  \\\n",
       "Customer_No                                                   \n",
       "90000                             0                       0   \n",
       "90001                             0                       0   \n",
       "90002                             0                       0   \n",
       "90003                             0                       0   \n",
       "90004                             0                       0   \n",
       "\n",
       "             Total_Field_Trails_6.0  Total_Resolved_1.0  Total_Resolved_2.0  \\\n",
       "Customer_No                                                                   \n",
       "90000                             0                   0                   0   \n",
       "90001                             0                   0                   0   \n",
       "90002                             0                   0                   1   \n",
       "90003                             0                   0                   0   \n",
       "90004                             0                   0                   0   \n",
       "\n",
       "             Total_Resolved_3.0  \n",
       "Customer_No                      \n",
       "90000                         0  \n",
       "90001                         0  \n",
       "90002                         0  \n",
       "90003                         0  \n",
       "90004                         0  \n",
       "\n",
       "[5 rows x 38 columns]"
      ]
     },
     "execution_count": 75,
     "metadata": {},
     "output_type": "execute_result"
    }
   ],
   "source": [
    "df.head()"
   ]
  },
  {
   "cell_type": "code",
   "execution_count": null,
   "metadata": {},
   "outputs": [],
   "source": [
    "df.to_csv('Preprocessed_validation.csv', index=False)"
   ]
  },
  {
   "cell_type": "code",
   "execution_count": null,
   "metadata": {},
   "outputs": [],
   "source": []
  }
 ],
 "metadata": {
  "kernelspec": {
   "display_name": "Python 3",
   "language": "python",
   "name": "python3"
  },
  "language_info": {
   "codemirror_mode": {
    "name": "ipython",
    "version": 3
   },
   "file_extension": ".py",
   "mimetype": "text/x-python",
   "name": "python",
   "nbconvert_exporter": "python",
   "pygments_lexer": "ipython3",
   "version": "3.9.13"
  },
  "orig_nbformat": 4
 },
 "nbformat": 4,
 "nbformat_minor": 2
}
